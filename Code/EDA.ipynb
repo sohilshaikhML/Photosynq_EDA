{
 "cells": [
  {
   "cell_type": "code",
   "execution_count": 1,
   "metadata": {
    "collapsed": true,
    "pycharm": {
     "name": "#%%\n"
    }
   },
   "outputs": [],
   "source": [
    "import pandas as pd\n",
    "import numpy as np\n",
    "import plotly\n",
    "import plotly.express as px\n",
    "from plotly.subplots import make_subplots\n",
    "import plotly.graph_objects as go"
   ]
  },
  {
   "cell_type": "code",
   "execution_count": 2,
   "outputs": [
    {
     "data": {
      "text/plain": "'5.9.0'"
     },
     "execution_count": 2,
     "metadata": {},
     "output_type": "execute_result"
    }
   ],
   "source": [
    "plotly.__version__"
   ],
   "metadata": {
    "collapsed": false,
    "pycharm": {
     "name": "#%%\n"
    }
   }
  },
  {
   "cell_type": "code",
   "execution_count": 3,
   "outputs": [
    {
     "data": {
      "text/plain": "     Treatment  Crop  Bench Tray  Replication/plug no  shoot length (cm)  \\\n0      Control  Mn24     29   A1                    1               19.0   \n1      Control  Mn24     29   A1                    2               20.0   \n2      Control  Mn24     29   A1                    3               17.0   \n3      Control  Mn24     29   A1                    4               20.0   \n4      Control  Mn24     29   A1                    5               18.0   \n..         ...   ...    ...  ...                  ...                ...   \n295  5 min UVC  Bs49     31   B9                    1               10.0   \n296  5 min UVC  Bs49     31   B9                    2               10.5   \n297  5 min UVC  Bs49     31   B9                    3                9.0   \n298  5 min UVC  Bs49     31   B9                    4               12.0   \n299  5 min UVC  Bs49     31   B9                    5               11.0   \n\n     stem number  Fresh weight (g)  Dry weight (g)  \n0            NaN             15.72            1.17  \n1            NaN             15.30            1.42  \n2            NaN             17.55            1.19  \n3            NaN             15.67            1.33  \n4            NaN             16.59            1.21  \n..           ...               ...             ...  \n295         18.0             16.00             NaN  \n296         15.0             13.24             NaN  \n297          6.0             10.25             NaN  \n298         15.0             16.90             NaN  \n299         18.0             16.48             NaN  \n\n[300 rows x 9 columns]",
      "text/html": "<div>\n<style scoped>\n    .dataframe tbody tr th:only-of-type {\n        vertical-align: middle;\n    }\n\n    .dataframe tbody tr th {\n        vertical-align: top;\n    }\n\n    .dataframe thead th {\n        text-align: right;\n    }\n</style>\n<table border=\"1\" class=\"dataframe\">\n  <thead>\n    <tr style=\"text-align: right;\">\n      <th></th>\n      <th>Treatment</th>\n      <th>Crop</th>\n      <th>Bench</th>\n      <th>Tray</th>\n      <th>Replication/plug no</th>\n      <th>shoot length (cm)</th>\n      <th>stem number</th>\n      <th>Fresh weight (g)</th>\n      <th>Dry weight (g)</th>\n    </tr>\n  </thead>\n  <tbody>\n    <tr>\n      <th>0</th>\n      <td>Control</td>\n      <td>Mn24</td>\n      <td>29</td>\n      <td>A1</td>\n      <td>1</td>\n      <td>19.0</td>\n      <td>NaN</td>\n      <td>15.72</td>\n      <td>1.17</td>\n    </tr>\n    <tr>\n      <th>1</th>\n      <td>Control</td>\n      <td>Mn24</td>\n      <td>29</td>\n      <td>A1</td>\n      <td>2</td>\n      <td>20.0</td>\n      <td>NaN</td>\n      <td>15.30</td>\n      <td>1.42</td>\n    </tr>\n    <tr>\n      <th>2</th>\n      <td>Control</td>\n      <td>Mn24</td>\n      <td>29</td>\n      <td>A1</td>\n      <td>3</td>\n      <td>17.0</td>\n      <td>NaN</td>\n      <td>17.55</td>\n      <td>1.19</td>\n    </tr>\n    <tr>\n      <th>3</th>\n      <td>Control</td>\n      <td>Mn24</td>\n      <td>29</td>\n      <td>A1</td>\n      <td>4</td>\n      <td>20.0</td>\n      <td>NaN</td>\n      <td>15.67</td>\n      <td>1.33</td>\n    </tr>\n    <tr>\n      <th>4</th>\n      <td>Control</td>\n      <td>Mn24</td>\n      <td>29</td>\n      <td>A1</td>\n      <td>5</td>\n      <td>18.0</td>\n      <td>NaN</td>\n      <td>16.59</td>\n      <td>1.21</td>\n    </tr>\n    <tr>\n      <th>...</th>\n      <td>...</td>\n      <td>...</td>\n      <td>...</td>\n      <td>...</td>\n      <td>...</td>\n      <td>...</td>\n      <td>...</td>\n      <td>...</td>\n      <td>...</td>\n    </tr>\n    <tr>\n      <th>295</th>\n      <td>5 min UVC</td>\n      <td>Bs49</td>\n      <td>31</td>\n      <td>B9</td>\n      <td>1</td>\n      <td>10.0</td>\n      <td>18.0</td>\n      <td>16.00</td>\n      <td>NaN</td>\n    </tr>\n    <tr>\n      <th>296</th>\n      <td>5 min UVC</td>\n      <td>Bs49</td>\n      <td>31</td>\n      <td>B9</td>\n      <td>2</td>\n      <td>10.5</td>\n      <td>15.0</td>\n      <td>13.24</td>\n      <td>NaN</td>\n    </tr>\n    <tr>\n      <th>297</th>\n      <td>5 min UVC</td>\n      <td>Bs49</td>\n      <td>31</td>\n      <td>B9</td>\n      <td>3</td>\n      <td>9.0</td>\n      <td>6.0</td>\n      <td>10.25</td>\n      <td>NaN</td>\n    </tr>\n    <tr>\n      <th>298</th>\n      <td>5 min UVC</td>\n      <td>Bs49</td>\n      <td>31</td>\n      <td>B9</td>\n      <td>4</td>\n      <td>12.0</td>\n      <td>15.0</td>\n      <td>16.90</td>\n      <td>NaN</td>\n    </tr>\n    <tr>\n      <th>299</th>\n      <td>5 min UVC</td>\n      <td>Bs49</td>\n      <td>31</td>\n      <td>B9</td>\n      <td>5</td>\n      <td>11.0</td>\n      <td>18.0</td>\n      <td>16.48</td>\n      <td>NaN</td>\n    </tr>\n  </tbody>\n</table>\n<p>300 rows × 9 columns</p>\n</div>"
     },
     "execution_count": 3,
     "metadata": {},
     "output_type": "execute_result"
    }
   ],
   "source": [
    "df = pd.read_csv(\"/Users/mohammedsohilshaikh/Desktop/Venturit/Photosynq/Data/Fw_dw.csv\")\n",
    "df"
   ],
   "metadata": {
    "collapsed": false,
    "pycharm": {
     "name": "#%%\n"
    }
   }
  },
  {
   "cell_type": "code",
   "execution_count": 4,
   "outputs": [
    {
     "data": {
      "text/plain": "Index(['Treatment', 'Crop', 'Bench', 'Tray', 'Replication/plug no',\n       'shoot length (cm)', 'stem number', 'Fresh weight (g)',\n       'Dry weight (g)'],\n      dtype='object')"
     },
     "execution_count": 4,
     "metadata": {},
     "output_type": "execute_result"
    }
   ],
   "source": [
    "df.columns"
   ],
   "metadata": {
    "collapsed": false,
    "pycharm": {
     "name": "#%%\n"
    }
   }
  },
  {
   "cell_type": "code",
   "execution_count": 5,
   "outputs": [
    {
     "data": {
      "text/plain": "0       True\n1       True\n2       True\n3       True\n4       True\n       ...  \n295    False\n296    False\n297    False\n298    False\n299    False\nName: Crop, Length: 300, dtype: bool"
     },
     "execution_count": 5,
     "metadata": {},
     "output_type": "execute_result"
    }
   ],
   "source": [
    "df['Crop'] == 'Mn24'"
   ],
   "metadata": {
    "collapsed": false,
    "pycharm": {
     "name": "#%%\n"
    }
   }
  },
  {
   "cell_type": "code",
   "execution_count": 12,
   "outputs": [
    {
     "data": {
      "application/vnd.plotly.v1+json": {
       "data": [
        {
         "alignmentgroup": "True",
         "hovertemplate": "Treatment=%{x}<br>Crop=Mn24<br>Fresh weight (g)=%{y}<extra></extra>",
         "legendgroup": "Control",
         "marker": {
          "color": "#636efa"
         },
         "name": "Control",
         "notched": false,
         "offsetgroup": "Control",
         "orientation": "v",
         "showlegend": true,
         "x": [
          "Control",
          "Control",
          "Control",
          "Control",
          "Control",
          "Control",
          "Control",
          "Control",
          "Control",
          "Control",
          "Control",
          "Control",
          "Control",
          "Control",
          "Control",
          "Control",
          "Control",
          "Control",
          "Control",
          "Control"
         ],
         "x0": " ",
         "xaxis": "x",
         "y": [
          15.72,
          15.3,
          17.55,
          15.67,
          16.59,
          16.33,
          17.57,
          9.64,
          18.81,
          19.21,
          13.19,
          15.23,
          15.5,
          17.62,
          16.19,
          16.87,
          14.84,
          16.0,
          17.28,
          16.21
         ],
         "y0": " ",
         "yaxis": "y",
         "type": "box"
        },
        {
         "alignmentgroup": "True",
         "hovertemplate": "Treatment=%{x}<br>Crop=Cr31<br>Fresh weight (g)=%{y}<extra></extra>",
         "legendgroup": "Control",
         "marker": {
          "color": "#636efa"
         },
         "name": "Control",
         "notched": false,
         "offsetgroup": "Control",
         "orientation": "v",
         "showlegend": false,
         "x": [
          "Control",
          "Control",
          "Control",
          "Control",
          "Control",
          "Control",
          "Control",
          "Control",
          "Control",
          "Control",
          "Control",
          "Control",
          "Control",
          "Control",
          "Control",
          "Control",
          "Control",
          "Control",
          "Control",
          "Control"
         ],
         "x0": " ",
         "xaxis": "x2",
         "y": [
          19.4,
          20.65,
          21.98,
          24.05,
          17.9,
          22.63,
          15.09,
          19.7,
          21.19,
          24.82,
          23.12,
          17.2,
          23.85,
          23.51,
          15.98,
          19.25,
          21.69,
          20.91,
          22.08,
          24.01
         ],
         "y0": " ",
         "yaxis": "y2",
         "type": "box"
        },
        {
         "alignmentgroup": "True",
         "hovertemplate": "Treatment=%{x}<br>Crop=Pr26<br>Fresh weight (g)=%{y}<extra></extra>",
         "legendgroup": "Control",
         "marker": {
          "color": "#636efa"
         },
         "name": "Control",
         "notched": false,
         "offsetgroup": "Control",
         "orientation": "v",
         "showlegend": false,
         "x": [
          "Control",
          "Control",
          "Control",
          "Control",
          "Control",
          "Control",
          "Control",
          "Control",
          "Control",
          "Control",
          "Control",
          "Control",
          "Control",
          "Control",
          "Control",
          "Control",
          "Control",
          "Control",
          "Control",
          "Control"
         ],
         "x0": " ",
         "xaxis": "x3",
         "y": [
          16.49,
          14.31,
          13.72,
          13.68,
          15.16,
          14.9,
          13.97,
          10.16,
          9.17,
          15.4,
          13.94,
          13.15,
          15.52,
          16.79,
          15.17,
          12.26,
          14.14,
          16.67,
          14.8,
          13.06
         ],
         "y0": " ",
         "yaxis": "y3",
         "type": "box"
        },
        {
         "alignmentgroup": "True",
         "hovertemplate": "Treatment=%{x}<br>Crop=Bs79<br>Fresh weight (g)=%{y}<extra></extra>",
         "legendgroup": "Control",
         "marker": {
          "color": "#636efa"
         },
         "name": "Control",
         "notched": false,
         "offsetgroup": "Control",
         "orientation": "v",
         "showlegend": false,
         "x": [
          "Control",
          "Control",
          "Control",
          "Control",
          "Control",
          "Control",
          "Control",
          "Control",
          "Control",
          "Control",
          "Control",
          "Control",
          "Control",
          "Control",
          "Control",
          "Control",
          "Control",
          "Control",
          "Control",
          "Control"
         ],
         "x0": " ",
         "xaxis": "x4",
         "y": [
          8.83,
          8.06,
          5.6,
          7.66,
          7.3,
          6.44,
          8.94,
          8.0,
          5.33,
          6.8,
          10.46,
          8.39,
          7.88,
          7.0,
          8.36,
          11.93,
          9.67,
          9.06,
          10.05,
          8.03
         ],
         "y0": " ",
         "yaxis": "y4",
         "type": "box"
        },
        {
         "alignmentgroup": "True",
         "hovertemplate": "Treatment=%{x}<br>Crop=Bs49<br>Fresh weight (g)=%{y}<extra></extra>",
         "legendgroup": "Control",
         "marker": {
          "color": "#636efa"
         },
         "name": "Control",
         "notched": false,
         "offsetgroup": "Control",
         "orientation": "v",
         "showlegend": false,
         "x": [
          "Control",
          "Control",
          "Control",
          "Control",
          "Control",
          "Control",
          "Control",
          "Control",
          "Control",
          "Control",
          "Control",
          "Control",
          "Control",
          "Control",
          "Control",
          "Control",
          "Control",
          "Control",
          "Control",
          "Control"
         ],
         "x0": " ",
         "xaxis": "x5",
         "y": [
          10.35,
          18.22,
          18.36,
          20.38,
          17.2,
          15.95,
          15.69,
          13.57,
          15.61,
          16.25,
          12.85,
          17.84,
          18.19,
          15.83,
          18.96,
          18.41,
          14.25,
          16.23,
          19.17,
          15.44
         ],
         "y0": " ",
         "yaxis": "y5",
         "type": "box"
        },
        {
         "alignmentgroup": "True",
         "hovertemplate": "Treatment=%{x}<br>Crop=Mn24<br>Fresh weight (g)=%{y}<extra></extra>",
         "legendgroup": "8 min UVC",
         "marker": {
          "color": "#EF553B"
         },
         "name": "8 min UVC",
         "notched": false,
         "offsetgroup": "8 min UVC",
         "orientation": "v",
         "showlegend": true,
         "x": [
          "8 min UVC",
          "8 min UVC",
          "8 min UVC",
          "8 min UVC",
          "8 min UVC",
          "8 min UVC",
          "8 min UVC",
          "8 min UVC",
          "8 min UVC",
          "8 min UVC",
          "8 min UVC",
          "8 min UVC",
          "8 min UVC",
          "8 min UVC",
          "8 min UVC",
          "8 min UVC",
          "8 min UVC",
          "8 min UVC",
          "8 min UVC",
          "8 min UVC"
         ],
         "x0": " ",
         "xaxis": "x",
         "y": [
          14.19,
          16.36,
          18.48,
          14.42,
          17.21,
          15.53,
          13.87,
          14.4,
          12.82,
          18.22,
          16.16,
          12.32,
          17.3,
          12.91,
          13.95,
          15.16,
          18.72,
          15.04,
          14.23,
          15.44
         ],
         "y0": " ",
         "yaxis": "y",
         "type": "box"
        },
        {
         "alignmentgroup": "True",
         "hovertemplate": "Treatment=%{x}<br>Crop=Cr31<br>Fresh weight (g)=%{y}<extra></extra>",
         "legendgroup": "8 min UVC",
         "marker": {
          "color": "#EF553B"
         },
         "name": "8 min UVC",
         "notched": false,
         "offsetgroup": "8 min UVC",
         "orientation": "v",
         "showlegend": false,
         "x": [
          "8 min UVC",
          "8 min UVC",
          "8 min UVC",
          "8 min UVC",
          "8 min UVC",
          "8 min UVC",
          "8 min UVC",
          "8 min UVC",
          "8 min UVC",
          "8 min UVC",
          "8 min UVC",
          "8 min UVC",
          "8 min UVC",
          "8 min UVC",
          "8 min UVC",
          "8 min UVC",
          "8 min UVC",
          "8 min UVC",
          "8 min UVC",
          "8 min UVC"
         ],
         "x0": " ",
         "xaxis": "x2",
         "y": [
          23.07,
          20.69,
          23.32,
          20.47,
          23.14,
          20.44,
          30.16,
          22.49,
          22.41,
          21.72,
          24.74,
          21.99,
          22.27,
          25.66,
          30.85,
          16.16,
          21.7,
          17.87,
          24.98,
          14.98
         ],
         "y0": " ",
         "yaxis": "y2",
         "type": "box"
        },
        {
         "alignmentgroup": "True",
         "hovertemplate": "Treatment=%{x}<br>Crop=Pr26<br>Fresh weight (g)=%{y}<extra></extra>",
         "legendgroup": "8 min UVC",
         "marker": {
          "color": "#EF553B"
         },
         "name": "8 min UVC",
         "notched": false,
         "offsetgroup": "8 min UVC",
         "orientation": "v",
         "showlegend": false,
         "x": [
          "8 min UVC",
          "8 min UVC",
          "8 min UVC",
          "8 min UVC",
          "8 min UVC",
          "8 min UVC",
          "8 min UVC",
          "8 min UVC",
          "8 min UVC",
          "8 min UVC",
          "8 min UVC",
          "8 min UVC",
          "8 min UVC",
          "8 min UVC",
          "8 min UVC",
          "8 min UVC",
          "8 min UVC",
          "8 min UVC",
          "8 min UVC",
          "8 min UVC"
         ],
         "x0": " ",
         "xaxis": "x3",
         "y": [
          15.42,
          13.19,
          13.73,
          12.15,
          12.67,
          9.85,
          10.51,
          9.9,
          9.91,
          11.98,
          13.46,
          13.77,
          12.43,
          12.52,
          14.95,
          13.15,
          11.87,
          12.75,
          13.72,
          13.57
         ],
         "y0": " ",
         "yaxis": "y3",
         "type": "box"
        },
        {
         "alignmentgroup": "True",
         "hovertemplate": "Treatment=%{x}<br>Crop=Bs79<br>Fresh weight (g)=%{y}<extra></extra>",
         "legendgroup": "8 min UVC",
         "marker": {
          "color": "#EF553B"
         },
         "name": "8 min UVC",
         "notched": false,
         "offsetgroup": "8 min UVC",
         "orientation": "v",
         "showlegend": false,
         "x": [
          "8 min UVC",
          "8 min UVC",
          "8 min UVC",
          "8 min UVC",
          "8 min UVC",
          "8 min UVC",
          "8 min UVC",
          "8 min UVC",
          "8 min UVC",
          "8 min UVC",
          "8 min UVC",
          "8 min UVC",
          "8 min UVC",
          "8 min UVC",
          "8 min UVC",
          "8 min UVC",
          "8 min UVC",
          "8 min UVC",
          "8 min UVC",
          "8 min UVC"
         ],
         "x0": " ",
         "xaxis": "x4",
         "y": [
          8.52,
          6.39,
          8.11,
          6.55,
          8.41,
          8.74,
          9.27,
          9.87,
          8.55,
          7.47,
          8.56,
          8.24,
          7.78,
          9.71,
          8.71,
          10.0,
          9.92,
          9.12,
          7.41,
          9.45
         ],
         "y0": " ",
         "yaxis": "y4",
         "type": "box"
        },
        {
         "alignmentgroup": "True",
         "hovertemplate": "Treatment=%{x}<br>Crop=Bs49<br>Fresh weight (g)=%{y}<extra></extra>",
         "legendgroup": "8 min UVC",
         "marker": {
          "color": "#EF553B"
         },
         "name": "8 min UVC",
         "notched": false,
         "offsetgroup": "8 min UVC",
         "orientation": "v",
         "showlegend": false,
         "x": [
          "8 min UVC",
          "8 min UVC",
          "8 min UVC",
          "8 min UVC",
          "8 min UVC",
          "8 min UVC",
          "8 min UVC",
          "8 min UVC",
          "8 min UVC",
          "8 min UVC",
          "8 min UVC",
          "8 min UVC",
          "8 min UVC",
          "8 min UVC",
          "8 min UVC",
          "8 min UVC",
          "8 min UVC",
          "8 min UVC",
          "8 min UVC",
          "8 min UVC"
         ],
         "x0": " ",
         "xaxis": "x5",
         "y": [
          18.62,
          19.12,
          12.86,
          19.62,
          16.42,
          12.48,
          12.67,
          15.31,
          15.48,
          14.47,
          21.78,
          19.71,
          14.8,
          19.51,
          13.94,
          13.9,
          18.25,
          14.62,
          17.55,
          15.21
         ],
         "y0": " ",
         "yaxis": "y5",
         "type": "box"
        },
        {
         "alignmentgroup": "True",
         "hovertemplate": "Treatment=%{x}<br>Crop=Mn24<br>Fresh weight (g)=%{y}<extra></extra>",
         "legendgroup": "5 min UVC",
         "marker": {
          "color": "#00cc96"
         },
         "name": "5 min UVC",
         "notched": false,
         "offsetgroup": "5 min UVC",
         "orientation": "v",
         "showlegend": true,
         "x": [
          "5 min UVC",
          "5 min UVC",
          "5 min UVC",
          "5 min UVC",
          "5 min UVC",
          "5 min UVC",
          "5 min UVC",
          "5 min UVC",
          "5 min UVC",
          "5 min UVC",
          "5 min UVC",
          "5 min UVC",
          "5 min UVC",
          "5 min UVC",
          "5 min UVC",
          "5 min UVC",
          "5 min UVC",
          "5 min UVC",
          "5 min UVC",
          "5 min UVC"
         ],
         "x0": " ",
         "xaxis": "x",
         "y": [
          19.15,
          16.8,
          16.2,
          14.71,
          17.71,
          17.25,
          16.0,
          17.55,
          14.68,
          14.01,
          17.4,
          16.12,
          17.0,
          16.23,
          15.89,
          15.67,
          16.5,
          18.15,
          17.15,
          17.0
         ],
         "y0": " ",
         "yaxis": "y",
         "type": "box"
        },
        {
         "alignmentgroup": "True",
         "hovertemplate": "Treatment=%{x}<br>Crop=Cr31<br>Fresh weight (g)=%{y}<extra></extra>",
         "legendgroup": "5 min UVC",
         "marker": {
          "color": "#00cc96"
         },
         "name": "5 min UVC",
         "notched": false,
         "offsetgroup": "5 min UVC",
         "orientation": "v",
         "showlegend": false,
         "x": [
          "5 min UVC",
          "5 min UVC",
          "5 min UVC",
          "5 min UVC",
          "5 min UVC",
          "5 min UVC",
          "5 min UVC",
          "5 min UVC",
          "5 min UVC",
          "5 min UVC",
          "5 min UVC",
          "5 min UVC",
          "5 min UVC",
          "5 min UVC",
          "5 min UVC",
          "5 min UVC",
          "5 min UVC",
          "5 min UVC",
          "5 min UVC",
          "5 min UVC"
         ],
         "x0": " ",
         "xaxis": "x2",
         "y": [
          23.7,
          19.48,
          20.74,
          22.16,
          18.58,
          21.18,
          17.9,
          19.03,
          20.78,
          20.06,
          18.81,
          22.41,
          17.69,
          21.51,
          21.57,
          15.06,
          22.52,
          20.84,
          24.94,
          20.51
         ],
         "y0": " ",
         "yaxis": "y2",
         "type": "box"
        },
        {
         "alignmentgroup": "True",
         "hovertemplate": "Treatment=%{x}<br>Crop=Pr26<br>Fresh weight (g)=%{y}<extra></extra>",
         "legendgroup": "5 min UVC",
         "marker": {
          "color": "#00cc96"
         },
         "name": "5 min UVC",
         "notched": false,
         "offsetgroup": "5 min UVC",
         "orientation": "v",
         "showlegend": false,
         "x": [
          "5 min UVC",
          "5 min UVC",
          "5 min UVC",
          "5 min UVC",
          "5 min UVC",
          "5 min UVC",
          "5 min UVC",
          "5 min UVC",
          "5 min UVC",
          "5 min UVC",
          "5 min UVC",
          "5 min UVC",
          "5 min UVC",
          "5 min UVC",
          "5 min UVC",
          "5 min UVC",
          "5 min UVC",
          "5 min UVC",
          "5 min UVC",
          "5 min UVC"
         ],
         "x0": " ",
         "xaxis": "x3",
         "y": [
          13.6,
          12.84,
          13.39,
          13.01,
          12.15,
          11.28,
          14.45,
          12.85,
          12.16,
          14.01,
          12.17,
          13.69,
          11.97,
          13.57,
          12.55,
          12.09,
          13.15,
          10.84,
          14.59,
          13.91
         ],
         "y0": " ",
         "yaxis": "y3",
         "type": "box"
        },
        {
         "alignmentgroup": "True",
         "hovertemplate": "Treatment=%{x}<br>Crop=Bs79<br>Fresh weight (g)=%{y}<extra></extra>",
         "legendgroup": "5 min UVC",
         "marker": {
          "color": "#00cc96"
         },
         "name": "5 min UVC",
         "notched": false,
         "offsetgroup": "5 min UVC",
         "orientation": "v",
         "showlegend": false,
         "x": [
          "5 min UVC",
          "5 min UVC",
          "5 min UVC",
          "5 min UVC",
          "5 min UVC",
          "5 min UVC",
          "5 min UVC",
          "5 min UVC",
          "5 min UVC",
          "5 min UVC",
          "5 min UVC",
          "5 min UVC",
          "5 min UVC",
          "5 min UVC",
          "5 min UVC",
          "5 min UVC",
          "5 min UVC",
          "5 min UVC",
          "5 min UVC",
          "5 min UVC"
         ],
         "x0": " ",
         "xaxis": "x4",
         "y": [
          8.03,
          5.55,
          7.44,
          5.38,
          4.38,
          9.73,
          10.05,
          8.5,
          6.56,
          9.64,
          8.49,
          8.27,
          9.75,
          9.61,
          10.66,
          10.81,
          10.79,
          10.24,
          10.79,
          11.34
         ],
         "y0": " ",
         "yaxis": "y4",
         "type": "box"
        },
        {
         "alignmentgroup": "True",
         "hovertemplate": "Treatment=%{x}<br>Crop=Bs49<br>Fresh weight (g)=%{y}<extra></extra>",
         "legendgroup": "5 min UVC",
         "marker": {
          "color": "#00cc96"
         },
         "name": "5 min UVC",
         "notched": false,
         "offsetgroup": "5 min UVC",
         "orientation": "v",
         "showlegend": false,
         "x": [
          "5 min UVC",
          "5 min UVC",
          "5 min UVC",
          "5 min UVC",
          "5 min UVC",
          "5 min UVC",
          "5 min UVC",
          "5 min UVC",
          "5 min UVC",
          "5 min UVC",
          "5 min UVC",
          "5 min UVC",
          "5 min UVC",
          "5 min UVC",
          "5 min UVC",
          "5 min UVC",
          "5 min UVC",
          "5 min UVC",
          "5 min UVC",
          "5 min UVC"
         ],
         "x0": " ",
         "xaxis": "x5",
         "y": [
          16.45,
          15.35,
          16.33,
          15.19,
          17.78,
          10.59,
          16.92,
          14.04,
          16.1,
          15.16,
          13.58,
          15.5,
          17.2,
          19.43,
          14.88,
          16.0,
          13.24,
          10.25,
          16.9,
          16.48
         ],
         "y0": " ",
         "yaxis": "y5",
         "type": "box"
        }
       ],
       "layout": {
        "template": {
         "data": {
          "histogram2dcontour": [
           {
            "type": "histogram2dcontour",
            "colorbar": {
             "outlinewidth": 0,
             "ticks": ""
            },
            "colorscale": [
             [
              0.0,
              "#0d0887"
             ],
             [
              0.1111111111111111,
              "#46039f"
             ],
             [
              0.2222222222222222,
              "#7201a8"
             ],
             [
              0.3333333333333333,
              "#9c179e"
             ],
             [
              0.4444444444444444,
              "#bd3786"
             ],
             [
              0.5555555555555556,
              "#d8576b"
             ],
             [
              0.6666666666666666,
              "#ed7953"
             ],
             [
              0.7777777777777778,
              "#fb9f3a"
             ],
             [
              0.8888888888888888,
              "#fdca26"
             ],
             [
              1.0,
              "#f0f921"
             ]
            ]
           }
          ],
          "choropleth": [
           {
            "type": "choropleth",
            "colorbar": {
             "outlinewidth": 0,
             "ticks": ""
            }
           }
          ],
          "histogram2d": [
           {
            "type": "histogram2d",
            "colorbar": {
             "outlinewidth": 0,
             "ticks": ""
            },
            "colorscale": [
             [
              0.0,
              "#0d0887"
             ],
             [
              0.1111111111111111,
              "#46039f"
             ],
             [
              0.2222222222222222,
              "#7201a8"
             ],
             [
              0.3333333333333333,
              "#9c179e"
             ],
             [
              0.4444444444444444,
              "#bd3786"
             ],
             [
              0.5555555555555556,
              "#d8576b"
             ],
             [
              0.6666666666666666,
              "#ed7953"
             ],
             [
              0.7777777777777778,
              "#fb9f3a"
             ],
             [
              0.8888888888888888,
              "#fdca26"
             ],
             [
              1.0,
              "#f0f921"
             ]
            ]
           }
          ],
          "heatmap": [
           {
            "type": "heatmap",
            "colorbar": {
             "outlinewidth": 0,
             "ticks": ""
            },
            "colorscale": [
             [
              0.0,
              "#0d0887"
             ],
             [
              0.1111111111111111,
              "#46039f"
             ],
             [
              0.2222222222222222,
              "#7201a8"
             ],
             [
              0.3333333333333333,
              "#9c179e"
             ],
             [
              0.4444444444444444,
              "#bd3786"
             ],
             [
              0.5555555555555556,
              "#d8576b"
             ],
             [
              0.6666666666666666,
              "#ed7953"
             ],
             [
              0.7777777777777778,
              "#fb9f3a"
             ],
             [
              0.8888888888888888,
              "#fdca26"
             ],
             [
              1.0,
              "#f0f921"
             ]
            ]
           }
          ],
          "heatmapgl": [
           {
            "type": "heatmapgl",
            "colorbar": {
             "outlinewidth": 0,
             "ticks": ""
            },
            "colorscale": [
             [
              0.0,
              "#0d0887"
             ],
             [
              0.1111111111111111,
              "#46039f"
             ],
             [
              0.2222222222222222,
              "#7201a8"
             ],
             [
              0.3333333333333333,
              "#9c179e"
             ],
             [
              0.4444444444444444,
              "#bd3786"
             ],
             [
              0.5555555555555556,
              "#d8576b"
             ],
             [
              0.6666666666666666,
              "#ed7953"
             ],
             [
              0.7777777777777778,
              "#fb9f3a"
             ],
             [
              0.8888888888888888,
              "#fdca26"
             ],
             [
              1.0,
              "#f0f921"
             ]
            ]
           }
          ],
          "contourcarpet": [
           {
            "type": "contourcarpet",
            "colorbar": {
             "outlinewidth": 0,
             "ticks": ""
            }
           }
          ],
          "contour": [
           {
            "type": "contour",
            "colorbar": {
             "outlinewidth": 0,
             "ticks": ""
            },
            "colorscale": [
             [
              0.0,
              "#0d0887"
             ],
             [
              0.1111111111111111,
              "#46039f"
             ],
             [
              0.2222222222222222,
              "#7201a8"
             ],
             [
              0.3333333333333333,
              "#9c179e"
             ],
             [
              0.4444444444444444,
              "#bd3786"
             ],
             [
              0.5555555555555556,
              "#d8576b"
             ],
             [
              0.6666666666666666,
              "#ed7953"
             ],
             [
              0.7777777777777778,
              "#fb9f3a"
             ],
             [
              0.8888888888888888,
              "#fdca26"
             ],
             [
              1.0,
              "#f0f921"
             ]
            ]
           }
          ],
          "surface": [
           {
            "type": "surface",
            "colorbar": {
             "outlinewidth": 0,
             "ticks": ""
            },
            "colorscale": [
             [
              0.0,
              "#0d0887"
             ],
             [
              0.1111111111111111,
              "#46039f"
             ],
             [
              0.2222222222222222,
              "#7201a8"
             ],
             [
              0.3333333333333333,
              "#9c179e"
             ],
             [
              0.4444444444444444,
              "#bd3786"
             ],
             [
              0.5555555555555556,
              "#d8576b"
             ],
             [
              0.6666666666666666,
              "#ed7953"
             ],
             [
              0.7777777777777778,
              "#fb9f3a"
             ],
             [
              0.8888888888888888,
              "#fdca26"
             ],
             [
              1.0,
              "#f0f921"
             ]
            ]
           }
          ],
          "mesh3d": [
           {
            "type": "mesh3d",
            "colorbar": {
             "outlinewidth": 0,
             "ticks": ""
            }
           }
          ],
          "scatter": [
           {
            "marker": {
             "line": {
              "color": "#283442"
             }
            },
            "type": "scatter"
           }
          ],
          "parcoords": [
           {
            "type": "parcoords",
            "line": {
             "colorbar": {
              "outlinewidth": 0,
              "ticks": ""
             }
            }
           }
          ],
          "scatterpolargl": [
           {
            "type": "scatterpolargl",
            "marker": {
             "colorbar": {
              "outlinewidth": 0,
              "ticks": ""
             }
            }
           }
          ],
          "bar": [
           {
            "error_x": {
             "color": "#f2f5fa"
            },
            "error_y": {
             "color": "#f2f5fa"
            },
            "marker": {
             "line": {
              "color": "rgb(17,17,17)",
              "width": 0.5
             },
             "pattern": {
              "fillmode": "overlay",
              "size": 10,
              "solidity": 0.2
             }
            },
            "type": "bar"
           }
          ],
          "scattergeo": [
           {
            "type": "scattergeo",
            "marker": {
             "colorbar": {
              "outlinewidth": 0,
              "ticks": ""
             }
            }
           }
          ],
          "scatterpolar": [
           {
            "type": "scatterpolar",
            "marker": {
             "colorbar": {
              "outlinewidth": 0,
              "ticks": ""
             }
            }
           }
          ],
          "histogram": [
           {
            "marker": {
             "pattern": {
              "fillmode": "overlay",
              "size": 10,
              "solidity": 0.2
             }
            },
            "type": "histogram"
           }
          ],
          "scattergl": [
           {
            "marker": {
             "line": {
              "color": "#283442"
             }
            },
            "type": "scattergl"
           }
          ],
          "scatter3d": [
           {
            "type": "scatter3d",
            "line": {
             "colorbar": {
              "outlinewidth": 0,
              "ticks": ""
             }
            },
            "marker": {
             "colorbar": {
              "outlinewidth": 0,
              "ticks": ""
             }
            }
           }
          ],
          "scattermapbox": [
           {
            "type": "scattermapbox",
            "marker": {
             "colorbar": {
              "outlinewidth": 0,
              "ticks": ""
             }
            }
           }
          ],
          "scatterternary": [
           {
            "type": "scatterternary",
            "marker": {
             "colorbar": {
              "outlinewidth": 0,
              "ticks": ""
             }
            }
           }
          ],
          "scattercarpet": [
           {
            "type": "scattercarpet",
            "marker": {
             "colorbar": {
              "outlinewidth": 0,
              "ticks": ""
             }
            }
           }
          ],
          "carpet": [
           {
            "aaxis": {
             "endlinecolor": "#A2B1C6",
             "gridcolor": "#506784",
             "linecolor": "#506784",
             "minorgridcolor": "#506784",
             "startlinecolor": "#A2B1C6"
            },
            "baxis": {
             "endlinecolor": "#A2B1C6",
             "gridcolor": "#506784",
             "linecolor": "#506784",
             "minorgridcolor": "#506784",
             "startlinecolor": "#A2B1C6"
            },
            "type": "carpet"
           }
          ],
          "table": [
           {
            "cells": {
             "fill": {
              "color": "#506784"
             },
             "line": {
              "color": "rgb(17,17,17)"
             }
            },
            "header": {
             "fill": {
              "color": "#2a3f5f"
             },
             "line": {
              "color": "rgb(17,17,17)"
             }
            },
            "type": "table"
           }
          ],
          "barpolar": [
           {
            "marker": {
             "line": {
              "color": "rgb(17,17,17)",
              "width": 0.5
             },
             "pattern": {
              "fillmode": "overlay",
              "size": 10,
              "solidity": 0.2
             }
            },
            "type": "barpolar"
           }
          ],
          "pie": [
           {
            "automargin": true,
            "type": "pie"
           }
          ]
         },
         "layout": {
          "autotypenumbers": "strict",
          "colorway": [
           "#636efa",
           "#EF553B",
           "#00cc96",
           "#ab63fa",
           "#FFA15A",
           "#19d3f3",
           "#FF6692",
           "#B6E880",
           "#FF97FF",
           "#FECB52"
          ],
          "font": {
           "color": "#f2f5fa"
          },
          "hovermode": "closest",
          "hoverlabel": {
           "align": "left"
          },
          "paper_bgcolor": "rgb(17,17,17)",
          "plot_bgcolor": "rgb(17,17,17)",
          "polar": {
           "bgcolor": "rgb(17,17,17)",
           "angularaxis": {
            "gridcolor": "#506784",
            "linecolor": "#506784",
            "ticks": ""
           },
           "radialaxis": {
            "gridcolor": "#506784",
            "linecolor": "#506784",
            "ticks": ""
           }
          },
          "ternary": {
           "bgcolor": "rgb(17,17,17)",
           "aaxis": {
            "gridcolor": "#506784",
            "linecolor": "#506784",
            "ticks": ""
           },
           "baxis": {
            "gridcolor": "#506784",
            "linecolor": "#506784",
            "ticks": ""
           },
           "caxis": {
            "gridcolor": "#506784",
            "linecolor": "#506784",
            "ticks": ""
           }
          },
          "coloraxis": {
           "colorbar": {
            "outlinewidth": 0,
            "ticks": ""
           }
          },
          "colorscale": {
           "sequential": [
            [
             0.0,
             "#0d0887"
            ],
            [
             0.1111111111111111,
             "#46039f"
            ],
            [
             0.2222222222222222,
             "#7201a8"
            ],
            [
             0.3333333333333333,
             "#9c179e"
            ],
            [
             0.4444444444444444,
             "#bd3786"
            ],
            [
             0.5555555555555556,
             "#d8576b"
            ],
            [
             0.6666666666666666,
             "#ed7953"
            ],
            [
             0.7777777777777778,
             "#fb9f3a"
            ],
            [
             0.8888888888888888,
             "#fdca26"
            ],
            [
             1.0,
             "#f0f921"
            ]
           ],
           "sequentialminus": [
            [
             0.0,
             "#0d0887"
            ],
            [
             0.1111111111111111,
             "#46039f"
            ],
            [
             0.2222222222222222,
             "#7201a8"
            ],
            [
             0.3333333333333333,
             "#9c179e"
            ],
            [
             0.4444444444444444,
             "#bd3786"
            ],
            [
             0.5555555555555556,
             "#d8576b"
            ],
            [
             0.6666666666666666,
             "#ed7953"
            ],
            [
             0.7777777777777778,
             "#fb9f3a"
            ],
            [
             0.8888888888888888,
             "#fdca26"
            ],
            [
             1.0,
             "#f0f921"
            ]
           ],
           "diverging": [
            [
             0,
             "#8e0152"
            ],
            [
             0.1,
             "#c51b7d"
            ],
            [
             0.2,
             "#de77ae"
            ],
            [
             0.3,
             "#f1b6da"
            ],
            [
             0.4,
             "#fde0ef"
            ],
            [
             0.5,
             "#f7f7f7"
            ],
            [
             0.6,
             "#e6f5d0"
            ],
            [
             0.7,
             "#b8e186"
            ],
            [
             0.8,
             "#7fbc41"
            ],
            [
             0.9,
             "#4d9221"
            ],
            [
             1,
             "#276419"
            ]
           ]
          },
          "xaxis": {
           "gridcolor": "#283442",
           "linecolor": "#506784",
           "ticks": "",
           "title": {
            "standoff": 15
           },
           "zerolinecolor": "#283442",
           "automargin": true,
           "zerolinewidth": 2
          },
          "yaxis": {
           "gridcolor": "#283442",
           "linecolor": "#506784",
           "ticks": "",
           "title": {
            "standoff": 15
           },
           "zerolinecolor": "#283442",
           "automargin": true,
           "zerolinewidth": 2
          },
          "scene": {
           "xaxis": {
            "backgroundcolor": "rgb(17,17,17)",
            "gridcolor": "#506784",
            "linecolor": "#506784",
            "showbackground": true,
            "ticks": "",
            "zerolinecolor": "#C8D4E3",
            "gridwidth": 2
           },
           "yaxis": {
            "backgroundcolor": "rgb(17,17,17)",
            "gridcolor": "#506784",
            "linecolor": "#506784",
            "showbackground": true,
            "ticks": "",
            "zerolinecolor": "#C8D4E3",
            "gridwidth": 2
           },
           "zaxis": {
            "backgroundcolor": "rgb(17,17,17)",
            "gridcolor": "#506784",
            "linecolor": "#506784",
            "showbackground": true,
            "ticks": "",
            "zerolinecolor": "#C8D4E3",
            "gridwidth": 2
           }
          },
          "shapedefaults": {
           "line": {
            "color": "#f2f5fa"
           }
          },
          "annotationdefaults": {
           "arrowcolor": "#f2f5fa",
           "arrowhead": 0,
           "arrowwidth": 1
          },
          "geo": {
           "bgcolor": "rgb(17,17,17)",
           "landcolor": "rgb(17,17,17)",
           "subunitcolor": "#506784",
           "showland": true,
           "showlakes": true,
           "lakecolor": "rgb(17,17,17)"
          },
          "title": {
           "x": 0.05
          },
          "updatemenudefaults": {
           "bgcolor": "#506784",
           "borderwidth": 0
          },
          "sliderdefaults": {
           "bgcolor": "#C8D4E3",
           "borderwidth": 1,
           "bordercolor": "rgb(17,17,17)",
           "tickwidth": 0
          },
          "mapbox": {
           "style": "dark"
          }
         }
        },
        "xaxis": {
         "anchor": "y",
         "domain": [
          0.0,
          0.18400000000000002
         ],
         "title": {
          "text": "Treatment"
         },
         "categoryorder": "array",
         "categoryarray": [
          "Control",
          "8 min UVC",
          "5 min UVC"
         ]
        },
        "yaxis": {
         "anchor": "x",
         "domain": [
          0.0,
          1.0
         ],
         "title": {
          "text": "Fresh weight (g)"
         }
        },
        "xaxis2": {
         "anchor": "y2",
         "domain": [
          0.20400000000000001,
          0.388
         ],
         "matches": "x",
         "title": {
          "text": "Treatment"
         },
         "categoryorder": "array",
         "categoryarray": [
          "Control",
          "8 min UVC",
          "5 min UVC"
         ]
        },
        "yaxis2": {
         "anchor": "x2",
         "domain": [
          0.0,
          1.0
         ],
         "matches": "y",
         "showticklabels": false
        },
        "xaxis3": {
         "anchor": "y3",
         "domain": [
          0.40800000000000003,
          0.5920000000000001
         ],
         "matches": "x",
         "title": {
          "text": "Treatment"
         },
         "categoryorder": "array",
         "categoryarray": [
          "Control",
          "8 min UVC",
          "5 min UVC"
         ]
        },
        "yaxis3": {
         "anchor": "x3",
         "domain": [
          0.0,
          1.0
         ],
         "matches": "y",
         "showticklabels": false
        },
        "xaxis4": {
         "anchor": "y4",
         "domain": [
          0.6120000000000001,
          0.7960000000000002
         ],
         "matches": "x",
         "title": {
          "text": "Treatment"
         },
         "categoryorder": "array",
         "categoryarray": [
          "Control",
          "8 min UVC",
          "5 min UVC"
         ]
        },
        "yaxis4": {
         "anchor": "x4",
         "domain": [
          0.0,
          1.0
         ],
         "matches": "y",
         "showticklabels": false
        },
        "xaxis5": {
         "anchor": "y5",
         "domain": [
          0.8160000000000001,
          1.0
         ],
         "matches": "x",
         "title": {
          "text": "Treatment"
         },
         "categoryorder": "array",
         "categoryarray": [
          "Control",
          "8 min UVC",
          "5 min UVC"
         ]
        },
        "yaxis5": {
         "anchor": "x5",
         "domain": [
          0.0,
          1.0
         ],
         "matches": "y",
         "showticklabels": false
        },
        "annotations": [
         {
          "font": {},
          "showarrow": false,
          "text": "Crop=Mn24",
          "x": 0.09200000000000001,
          "xanchor": "center",
          "xref": "paper",
          "y": 1.0,
          "yanchor": "bottom",
          "yref": "paper"
         },
         {
          "font": {},
          "showarrow": false,
          "text": "Crop=Cr31",
          "x": 0.29600000000000004,
          "xanchor": "center",
          "xref": "paper",
          "y": 1.0,
          "yanchor": "bottom",
          "yref": "paper"
         },
         {
          "font": {},
          "showarrow": false,
          "text": "Crop=Pr26",
          "x": 0.5,
          "xanchor": "center",
          "xref": "paper",
          "y": 1.0,
          "yanchor": "bottom",
          "yref": "paper"
         },
         {
          "font": {},
          "showarrow": false,
          "text": "Crop=Bs79",
          "x": 0.7040000000000002,
          "xanchor": "center",
          "xref": "paper",
          "y": 1.0,
          "yanchor": "bottom",
          "yref": "paper"
         },
         {
          "font": {},
          "showarrow": false,
          "text": "Crop=Bs49",
          "x": 0.908,
          "xanchor": "center",
          "xref": "paper",
          "y": 1.0,
          "yanchor": "bottom",
          "yref": "paper"
         }
        ],
        "legend": {
         "title": {
          "text": "Treatment"
         },
         "tracegroupgap": 0
        },
        "title": {
         "text": "Fresh Weight"
        },
        "boxmode": "overlay",
        "height": 750
       },
       "config": {
        "plotlyServerURL": "https://plot.ly"
       }
      },
      "text/html": "<div>                            <div id=\"ad2751c9-98c3-4b86-9824-94e459293a89\" class=\"plotly-graph-div\" style=\"height:750px; width:100%;\"></div>            <script type=\"text/javascript\">                require([\"plotly\"], function(Plotly) {                    window.PLOTLYENV=window.PLOTLYENV || {};                                    if (document.getElementById(\"ad2751c9-98c3-4b86-9824-94e459293a89\")) {                    Plotly.newPlot(                        \"ad2751c9-98c3-4b86-9824-94e459293a89\",                        [{\"alignmentgroup\":\"True\",\"hovertemplate\":\"Treatment=%{x}<br>Crop=Mn24<br>Fresh weight (g)=%{y}<extra></extra>\",\"legendgroup\":\"Control\",\"marker\":{\"color\":\"#636efa\"},\"name\":\"Control\",\"notched\":false,\"offsetgroup\":\"Control\",\"orientation\":\"v\",\"showlegend\":true,\"x\":[\"Control\",\"Control\",\"Control\",\"Control\",\"Control\",\"Control\",\"Control\",\"Control\",\"Control\",\"Control\",\"Control\",\"Control\",\"Control\",\"Control\",\"Control\",\"Control\",\"Control\",\"Control\",\"Control\",\"Control\"],\"x0\":\" \",\"xaxis\":\"x\",\"y\":[15.72,15.3,17.55,15.67,16.59,16.33,17.57,9.64,18.81,19.21,13.19,15.23,15.5,17.62,16.19,16.87,14.84,16.0,17.28,16.21],\"y0\":\" \",\"yaxis\":\"y\",\"type\":\"box\"},{\"alignmentgroup\":\"True\",\"hovertemplate\":\"Treatment=%{x}<br>Crop=Cr31<br>Fresh weight (g)=%{y}<extra></extra>\",\"legendgroup\":\"Control\",\"marker\":{\"color\":\"#636efa\"},\"name\":\"Control\",\"notched\":false,\"offsetgroup\":\"Control\",\"orientation\":\"v\",\"showlegend\":false,\"x\":[\"Control\",\"Control\",\"Control\",\"Control\",\"Control\",\"Control\",\"Control\",\"Control\",\"Control\",\"Control\",\"Control\",\"Control\",\"Control\",\"Control\",\"Control\",\"Control\",\"Control\",\"Control\",\"Control\",\"Control\"],\"x0\":\" \",\"xaxis\":\"x2\",\"y\":[19.4,20.65,21.98,24.05,17.9,22.63,15.09,19.7,21.19,24.82,23.12,17.2,23.85,23.51,15.98,19.25,21.69,20.91,22.08,24.01],\"y0\":\" \",\"yaxis\":\"y2\",\"type\":\"box\"},{\"alignmentgroup\":\"True\",\"hovertemplate\":\"Treatment=%{x}<br>Crop=Pr26<br>Fresh weight (g)=%{y}<extra></extra>\",\"legendgroup\":\"Control\",\"marker\":{\"color\":\"#636efa\"},\"name\":\"Control\",\"notched\":false,\"offsetgroup\":\"Control\",\"orientation\":\"v\",\"showlegend\":false,\"x\":[\"Control\",\"Control\",\"Control\",\"Control\",\"Control\",\"Control\",\"Control\",\"Control\",\"Control\",\"Control\",\"Control\",\"Control\",\"Control\",\"Control\",\"Control\",\"Control\",\"Control\",\"Control\",\"Control\",\"Control\"],\"x0\":\" \",\"xaxis\":\"x3\",\"y\":[16.49,14.31,13.72,13.68,15.16,14.9,13.97,10.16,9.17,15.4,13.94,13.15,15.52,16.79,15.17,12.26,14.14,16.67,14.8,13.06],\"y0\":\" \",\"yaxis\":\"y3\",\"type\":\"box\"},{\"alignmentgroup\":\"True\",\"hovertemplate\":\"Treatment=%{x}<br>Crop=Bs79<br>Fresh weight (g)=%{y}<extra></extra>\",\"legendgroup\":\"Control\",\"marker\":{\"color\":\"#636efa\"},\"name\":\"Control\",\"notched\":false,\"offsetgroup\":\"Control\",\"orientation\":\"v\",\"showlegend\":false,\"x\":[\"Control\",\"Control\",\"Control\",\"Control\",\"Control\",\"Control\",\"Control\",\"Control\",\"Control\",\"Control\",\"Control\",\"Control\",\"Control\",\"Control\",\"Control\",\"Control\",\"Control\",\"Control\",\"Control\",\"Control\"],\"x0\":\" \",\"xaxis\":\"x4\",\"y\":[8.83,8.06,5.6,7.66,7.3,6.44,8.94,8.0,5.33,6.8,10.46,8.39,7.88,7.0,8.36,11.93,9.67,9.06,10.05,8.03],\"y0\":\" \",\"yaxis\":\"y4\",\"type\":\"box\"},{\"alignmentgroup\":\"True\",\"hovertemplate\":\"Treatment=%{x}<br>Crop=Bs49<br>Fresh weight (g)=%{y}<extra></extra>\",\"legendgroup\":\"Control\",\"marker\":{\"color\":\"#636efa\"},\"name\":\"Control\",\"notched\":false,\"offsetgroup\":\"Control\",\"orientation\":\"v\",\"showlegend\":false,\"x\":[\"Control\",\"Control\",\"Control\",\"Control\",\"Control\",\"Control\",\"Control\",\"Control\",\"Control\",\"Control\",\"Control\",\"Control\",\"Control\",\"Control\",\"Control\",\"Control\",\"Control\",\"Control\",\"Control\",\"Control\"],\"x0\":\" \",\"xaxis\":\"x5\",\"y\":[10.35,18.22,18.36,20.38,17.2,15.95,15.69,13.57,15.61,16.25,12.85,17.84,18.19,15.83,18.96,18.41,14.25,16.23,19.17,15.44],\"y0\":\" \",\"yaxis\":\"y5\",\"type\":\"box\"},{\"alignmentgroup\":\"True\",\"hovertemplate\":\"Treatment=%{x}<br>Crop=Mn24<br>Fresh weight (g)=%{y}<extra></extra>\",\"legendgroup\":\"8 min UVC\",\"marker\":{\"color\":\"#EF553B\"},\"name\":\"8 min UVC\",\"notched\":false,\"offsetgroup\":\"8 min UVC\",\"orientation\":\"v\",\"showlegend\":true,\"x\":[\"8 min UVC\",\"8 min UVC\",\"8 min UVC\",\"8 min UVC\",\"8 min UVC\",\"8 min UVC\",\"8 min UVC\",\"8 min UVC\",\"8 min UVC\",\"8 min UVC\",\"8 min UVC\",\"8 min UVC\",\"8 min UVC\",\"8 min UVC\",\"8 min UVC\",\"8 min UVC\",\"8 min UVC\",\"8 min UVC\",\"8 min UVC\",\"8 min UVC\"],\"x0\":\" \",\"xaxis\":\"x\",\"y\":[14.19,16.36,18.48,14.42,17.21,15.53,13.87,14.4,12.82,18.22,16.16,12.32,17.3,12.91,13.95,15.16,18.72,15.04,14.23,15.44],\"y0\":\" \",\"yaxis\":\"y\",\"type\":\"box\"},{\"alignmentgroup\":\"True\",\"hovertemplate\":\"Treatment=%{x}<br>Crop=Cr31<br>Fresh weight (g)=%{y}<extra></extra>\",\"legendgroup\":\"8 min UVC\",\"marker\":{\"color\":\"#EF553B\"},\"name\":\"8 min UVC\",\"notched\":false,\"offsetgroup\":\"8 min UVC\",\"orientation\":\"v\",\"showlegend\":false,\"x\":[\"8 min UVC\",\"8 min UVC\",\"8 min UVC\",\"8 min UVC\",\"8 min UVC\",\"8 min UVC\",\"8 min UVC\",\"8 min UVC\",\"8 min UVC\",\"8 min UVC\",\"8 min UVC\",\"8 min UVC\",\"8 min UVC\",\"8 min UVC\",\"8 min UVC\",\"8 min UVC\",\"8 min UVC\",\"8 min UVC\",\"8 min UVC\",\"8 min UVC\"],\"x0\":\" \",\"xaxis\":\"x2\",\"y\":[23.07,20.69,23.32,20.47,23.14,20.44,30.16,22.49,22.41,21.72,24.74,21.99,22.27,25.66,30.85,16.16,21.7,17.87,24.98,14.98],\"y0\":\" \",\"yaxis\":\"y2\",\"type\":\"box\"},{\"alignmentgroup\":\"True\",\"hovertemplate\":\"Treatment=%{x}<br>Crop=Pr26<br>Fresh weight (g)=%{y}<extra></extra>\",\"legendgroup\":\"8 min UVC\",\"marker\":{\"color\":\"#EF553B\"},\"name\":\"8 min UVC\",\"notched\":false,\"offsetgroup\":\"8 min UVC\",\"orientation\":\"v\",\"showlegend\":false,\"x\":[\"8 min UVC\",\"8 min UVC\",\"8 min UVC\",\"8 min UVC\",\"8 min UVC\",\"8 min UVC\",\"8 min UVC\",\"8 min UVC\",\"8 min UVC\",\"8 min UVC\",\"8 min UVC\",\"8 min UVC\",\"8 min UVC\",\"8 min UVC\",\"8 min UVC\",\"8 min UVC\",\"8 min UVC\",\"8 min UVC\",\"8 min UVC\",\"8 min UVC\"],\"x0\":\" \",\"xaxis\":\"x3\",\"y\":[15.42,13.19,13.73,12.15,12.67,9.85,10.51,9.9,9.91,11.98,13.46,13.77,12.43,12.52,14.95,13.15,11.87,12.75,13.72,13.57],\"y0\":\" \",\"yaxis\":\"y3\",\"type\":\"box\"},{\"alignmentgroup\":\"True\",\"hovertemplate\":\"Treatment=%{x}<br>Crop=Bs79<br>Fresh weight (g)=%{y}<extra></extra>\",\"legendgroup\":\"8 min UVC\",\"marker\":{\"color\":\"#EF553B\"},\"name\":\"8 min UVC\",\"notched\":false,\"offsetgroup\":\"8 min UVC\",\"orientation\":\"v\",\"showlegend\":false,\"x\":[\"8 min UVC\",\"8 min UVC\",\"8 min UVC\",\"8 min UVC\",\"8 min UVC\",\"8 min UVC\",\"8 min UVC\",\"8 min UVC\",\"8 min UVC\",\"8 min UVC\",\"8 min UVC\",\"8 min UVC\",\"8 min UVC\",\"8 min UVC\",\"8 min UVC\",\"8 min UVC\",\"8 min UVC\",\"8 min UVC\",\"8 min UVC\",\"8 min UVC\"],\"x0\":\" \",\"xaxis\":\"x4\",\"y\":[8.52,6.39,8.11,6.55,8.41,8.74,9.27,9.87,8.55,7.47,8.56,8.24,7.78,9.71,8.71,10.0,9.92,9.12,7.41,9.45],\"y0\":\" \",\"yaxis\":\"y4\",\"type\":\"box\"},{\"alignmentgroup\":\"True\",\"hovertemplate\":\"Treatment=%{x}<br>Crop=Bs49<br>Fresh weight (g)=%{y}<extra></extra>\",\"legendgroup\":\"8 min UVC\",\"marker\":{\"color\":\"#EF553B\"},\"name\":\"8 min UVC\",\"notched\":false,\"offsetgroup\":\"8 min UVC\",\"orientation\":\"v\",\"showlegend\":false,\"x\":[\"8 min UVC\",\"8 min UVC\",\"8 min UVC\",\"8 min UVC\",\"8 min UVC\",\"8 min UVC\",\"8 min UVC\",\"8 min UVC\",\"8 min UVC\",\"8 min UVC\",\"8 min UVC\",\"8 min UVC\",\"8 min UVC\",\"8 min UVC\",\"8 min UVC\",\"8 min UVC\",\"8 min UVC\",\"8 min UVC\",\"8 min UVC\",\"8 min UVC\"],\"x0\":\" \",\"xaxis\":\"x5\",\"y\":[18.62,19.12,12.86,19.62,16.42,12.48,12.67,15.31,15.48,14.47,21.78,19.71,14.8,19.51,13.94,13.9,18.25,14.62,17.55,15.21],\"y0\":\" \",\"yaxis\":\"y5\",\"type\":\"box\"},{\"alignmentgroup\":\"True\",\"hovertemplate\":\"Treatment=%{x}<br>Crop=Mn24<br>Fresh weight (g)=%{y}<extra></extra>\",\"legendgroup\":\"5 min UVC\",\"marker\":{\"color\":\"#00cc96\"},\"name\":\"5 min UVC\",\"notched\":false,\"offsetgroup\":\"5 min UVC\",\"orientation\":\"v\",\"showlegend\":true,\"x\":[\"5 min UVC\",\"5 min UVC\",\"5 min UVC\",\"5 min UVC\",\"5 min UVC\",\"5 min UVC\",\"5 min UVC\",\"5 min UVC\",\"5 min UVC\",\"5 min UVC\",\"5 min UVC\",\"5 min UVC\",\"5 min UVC\",\"5 min UVC\",\"5 min UVC\",\"5 min UVC\",\"5 min UVC\",\"5 min UVC\",\"5 min UVC\",\"5 min UVC\"],\"x0\":\" \",\"xaxis\":\"x\",\"y\":[19.15,16.8,16.2,14.71,17.71,17.25,16.0,17.55,14.68,14.01,17.4,16.12,17.0,16.23,15.89,15.67,16.5,18.15,17.15,17.0],\"y0\":\" \",\"yaxis\":\"y\",\"type\":\"box\"},{\"alignmentgroup\":\"True\",\"hovertemplate\":\"Treatment=%{x}<br>Crop=Cr31<br>Fresh weight (g)=%{y}<extra></extra>\",\"legendgroup\":\"5 min UVC\",\"marker\":{\"color\":\"#00cc96\"},\"name\":\"5 min UVC\",\"notched\":false,\"offsetgroup\":\"5 min UVC\",\"orientation\":\"v\",\"showlegend\":false,\"x\":[\"5 min UVC\",\"5 min UVC\",\"5 min UVC\",\"5 min UVC\",\"5 min UVC\",\"5 min UVC\",\"5 min UVC\",\"5 min UVC\",\"5 min UVC\",\"5 min UVC\",\"5 min UVC\",\"5 min UVC\",\"5 min UVC\",\"5 min UVC\",\"5 min UVC\",\"5 min UVC\",\"5 min UVC\",\"5 min UVC\",\"5 min UVC\",\"5 min UVC\"],\"x0\":\" \",\"xaxis\":\"x2\",\"y\":[23.7,19.48,20.74,22.16,18.58,21.18,17.9,19.03,20.78,20.06,18.81,22.41,17.69,21.51,21.57,15.06,22.52,20.84,24.94,20.51],\"y0\":\" \",\"yaxis\":\"y2\",\"type\":\"box\"},{\"alignmentgroup\":\"True\",\"hovertemplate\":\"Treatment=%{x}<br>Crop=Pr26<br>Fresh weight (g)=%{y}<extra></extra>\",\"legendgroup\":\"5 min UVC\",\"marker\":{\"color\":\"#00cc96\"},\"name\":\"5 min UVC\",\"notched\":false,\"offsetgroup\":\"5 min UVC\",\"orientation\":\"v\",\"showlegend\":false,\"x\":[\"5 min UVC\",\"5 min UVC\",\"5 min UVC\",\"5 min UVC\",\"5 min UVC\",\"5 min UVC\",\"5 min UVC\",\"5 min UVC\",\"5 min UVC\",\"5 min UVC\",\"5 min UVC\",\"5 min UVC\",\"5 min UVC\",\"5 min UVC\",\"5 min UVC\",\"5 min UVC\",\"5 min UVC\",\"5 min UVC\",\"5 min UVC\",\"5 min UVC\"],\"x0\":\" \",\"xaxis\":\"x3\",\"y\":[13.6,12.84,13.39,13.01,12.15,11.28,14.45,12.85,12.16,14.01,12.17,13.69,11.97,13.57,12.55,12.09,13.15,10.84,14.59,13.91],\"y0\":\" \",\"yaxis\":\"y3\",\"type\":\"box\"},{\"alignmentgroup\":\"True\",\"hovertemplate\":\"Treatment=%{x}<br>Crop=Bs79<br>Fresh weight (g)=%{y}<extra></extra>\",\"legendgroup\":\"5 min UVC\",\"marker\":{\"color\":\"#00cc96\"},\"name\":\"5 min UVC\",\"notched\":false,\"offsetgroup\":\"5 min UVC\",\"orientation\":\"v\",\"showlegend\":false,\"x\":[\"5 min UVC\",\"5 min UVC\",\"5 min UVC\",\"5 min UVC\",\"5 min UVC\",\"5 min UVC\",\"5 min UVC\",\"5 min UVC\",\"5 min UVC\",\"5 min UVC\",\"5 min UVC\",\"5 min UVC\",\"5 min UVC\",\"5 min UVC\",\"5 min UVC\",\"5 min UVC\",\"5 min UVC\",\"5 min UVC\",\"5 min UVC\",\"5 min UVC\"],\"x0\":\" \",\"xaxis\":\"x4\",\"y\":[8.03,5.55,7.44,5.38,4.38,9.73,10.05,8.5,6.56,9.64,8.49,8.27,9.75,9.61,10.66,10.81,10.79,10.24,10.79,11.34],\"y0\":\" \",\"yaxis\":\"y4\",\"type\":\"box\"},{\"alignmentgroup\":\"True\",\"hovertemplate\":\"Treatment=%{x}<br>Crop=Bs49<br>Fresh weight (g)=%{y}<extra></extra>\",\"legendgroup\":\"5 min UVC\",\"marker\":{\"color\":\"#00cc96\"},\"name\":\"5 min UVC\",\"notched\":false,\"offsetgroup\":\"5 min UVC\",\"orientation\":\"v\",\"showlegend\":false,\"x\":[\"5 min UVC\",\"5 min UVC\",\"5 min UVC\",\"5 min UVC\",\"5 min UVC\",\"5 min UVC\",\"5 min UVC\",\"5 min UVC\",\"5 min UVC\",\"5 min UVC\",\"5 min UVC\",\"5 min UVC\",\"5 min UVC\",\"5 min UVC\",\"5 min UVC\",\"5 min UVC\",\"5 min UVC\",\"5 min UVC\",\"5 min UVC\",\"5 min UVC\"],\"x0\":\" \",\"xaxis\":\"x5\",\"y\":[16.45,15.35,16.33,15.19,17.78,10.59,16.92,14.04,16.1,15.16,13.58,15.5,17.2,19.43,14.88,16.0,13.24,10.25,16.9,16.48],\"y0\":\" \",\"yaxis\":\"y5\",\"type\":\"box\"}],                        {\"template\":{\"data\":{\"histogram2dcontour\":[{\"type\":\"histogram2dcontour\",\"colorbar\":{\"outlinewidth\":0,\"ticks\":\"\"},\"colorscale\":[[0.0,\"#0d0887\"],[0.1111111111111111,\"#46039f\"],[0.2222222222222222,\"#7201a8\"],[0.3333333333333333,\"#9c179e\"],[0.4444444444444444,\"#bd3786\"],[0.5555555555555556,\"#d8576b\"],[0.6666666666666666,\"#ed7953\"],[0.7777777777777778,\"#fb9f3a\"],[0.8888888888888888,\"#fdca26\"],[1.0,\"#f0f921\"]]}],\"choropleth\":[{\"type\":\"choropleth\",\"colorbar\":{\"outlinewidth\":0,\"ticks\":\"\"}}],\"histogram2d\":[{\"type\":\"histogram2d\",\"colorbar\":{\"outlinewidth\":0,\"ticks\":\"\"},\"colorscale\":[[0.0,\"#0d0887\"],[0.1111111111111111,\"#46039f\"],[0.2222222222222222,\"#7201a8\"],[0.3333333333333333,\"#9c179e\"],[0.4444444444444444,\"#bd3786\"],[0.5555555555555556,\"#d8576b\"],[0.6666666666666666,\"#ed7953\"],[0.7777777777777778,\"#fb9f3a\"],[0.8888888888888888,\"#fdca26\"],[1.0,\"#f0f921\"]]}],\"heatmap\":[{\"type\":\"heatmap\",\"colorbar\":{\"outlinewidth\":0,\"ticks\":\"\"},\"colorscale\":[[0.0,\"#0d0887\"],[0.1111111111111111,\"#46039f\"],[0.2222222222222222,\"#7201a8\"],[0.3333333333333333,\"#9c179e\"],[0.4444444444444444,\"#bd3786\"],[0.5555555555555556,\"#d8576b\"],[0.6666666666666666,\"#ed7953\"],[0.7777777777777778,\"#fb9f3a\"],[0.8888888888888888,\"#fdca26\"],[1.0,\"#f0f921\"]]}],\"heatmapgl\":[{\"type\":\"heatmapgl\",\"colorbar\":{\"outlinewidth\":0,\"ticks\":\"\"},\"colorscale\":[[0.0,\"#0d0887\"],[0.1111111111111111,\"#46039f\"],[0.2222222222222222,\"#7201a8\"],[0.3333333333333333,\"#9c179e\"],[0.4444444444444444,\"#bd3786\"],[0.5555555555555556,\"#d8576b\"],[0.6666666666666666,\"#ed7953\"],[0.7777777777777778,\"#fb9f3a\"],[0.8888888888888888,\"#fdca26\"],[1.0,\"#f0f921\"]]}],\"contourcarpet\":[{\"type\":\"contourcarpet\",\"colorbar\":{\"outlinewidth\":0,\"ticks\":\"\"}}],\"contour\":[{\"type\":\"contour\",\"colorbar\":{\"outlinewidth\":0,\"ticks\":\"\"},\"colorscale\":[[0.0,\"#0d0887\"],[0.1111111111111111,\"#46039f\"],[0.2222222222222222,\"#7201a8\"],[0.3333333333333333,\"#9c179e\"],[0.4444444444444444,\"#bd3786\"],[0.5555555555555556,\"#d8576b\"],[0.6666666666666666,\"#ed7953\"],[0.7777777777777778,\"#fb9f3a\"],[0.8888888888888888,\"#fdca26\"],[1.0,\"#f0f921\"]]}],\"surface\":[{\"type\":\"surface\",\"colorbar\":{\"outlinewidth\":0,\"ticks\":\"\"},\"colorscale\":[[0.0,\"#0d0887\"],[0.1111111111111111,\"#46039f\"],[0.2222222222222222,\"#7201a8\"],[0.3333333333333333,\"#9c179e\"],[0.4444444444444444,\"#bd3786\"],[0.5555555555555556,\"#d8576b\"],[0.6666666666666666,\"#ed7953\"],[0.7777777777777778,\"#fb9f3a\"],[0.8888888888888888,\"#fdca26\"],[1.0,\"#f0f921\"]]}],\"mesh3d\":[{\"type\":\"mesh3d\",\"colorbar\":{\"outlinewidth\":0,\"ticks\":\"\"}}],\"scatter\":[{\"marker\":{\"line\":{\"color\":\"#283442\"}},\"type\":\"scatter\"}],\"parcoords\":[{\"type\":\"parcoords\",\"line\":{\"colorbar\":{\"outlinewidth\":0,\"ticks\":\"\"}}}],\"scatterpolargl\":[{\"type\":\"scatterpolargl\",\"marker\":{\"colorbar\":{\"outlinewidth\":0,\"ticks\":\"\"}}}],\"bar\":[{\"error_x\":{\"color\":\"#f2f5fa\"},\"error_y\":{\"color\":\"#f2f5fa\"},\"marker\":{\"line\":{\"color\":\"rgb(17,17,17)\",\"width\":0.5},\"pattern\":{\"fillmode\":\"overlay\",\"size\":10,\"solidity\":0.2}},\"type\":\"bar\"}],\"scattergeo\":[{\"type\":\"scattergeo\",\"marker\":{\"colorbar\":{\"outlinewidth\":0,\"ticks\":\"\"}}}],\"scatterpolar\":[{\"type\":\"scatterpolar\",\"marker\":{\"colorbar\":{\"outlinewidth\":0,\"ticks\":\"\"}}}],\"histogram\":[{\"marker\":{\"pattern\":{\"fillmode\":\"overlay\",\"size\":10,\"solidity\":0.2}},\"type\":\"histogram\"}],\"scattergl\":[{\"marker\":{\"line\":{\"color\":\"#283442\"}},\"type\":\"scattergl\"}],\"scatter3d\":[{\"type\":\"scatter3d\",\"line\":{\"colorbar\":{\"outlinewidth\":0,\"ticks\":\"\"}},\"marker\":{\"colorbar\":{\"outlinewidth\":0,\"ticks\":\"\"}}}],\"scattermapbox\":[{\"type\":\"scattermapbox\",\"marker\":{\"colorbar\":{\"outlinewidth\":0,\"ticks\":\"\"}}}],\"scatterternary\":[{\"type\":\"scatterternary\",\"marker\":{\"colorbar\":{\"outlinewidth\":0,\"ticks\":\"\"}}}],\"scattercarpet\":[{\"type\":\"scattercarpet\",\"marker\":{\"colorbar\":{\"outlinewidth\":0,\"ticks\":\"\"}}}],\"carpet\":[{\"aaxis\":{\"endlinecolor\":\"#A2B1C6\",\"gridcolor\":\"#506784\",\"linecolor\":\"#506784\",\"minorgridcolor\":\"#506784\",\"startlinecolor\":\"#A2B1C6\"},\"baxis\":{\"endlinecolor\":\"#A2B1C6\",\"gridcolor\":\"#506784\",\"linecolor\":\"#506784\",\"minorgridcolor\":\"#506784\",\"startlinecolor\":\"#A2B1C6\"},\"type\":\"carpet\"}],\"table\":[{\"cells\":{\"fill\":{\"color\":\"#506784\"},\"line\":{\"color\":\"rgb(17,17,17)\"}},\"header\":{\"fill\":{\"color\":\"#2a3f5f\"},\"line\":{\"color\":\"rgb(17,17,17)\"}},\"type\":\"table\"}],\"barpolar\":[{\"marker\":{\"line\":{\"color\":\"rgb(17,17,17)\",\"width\":0.5},\"pattern\":{\"fillmode\":\"overlay\",\"size\":10,\"solidity\":0.2}},\"type\":\"barpolar\"}],\"pie\":[{\"automargin\":true,\"type\":\"pie\"}]},\"layout\":{\"autotypenumbers\":\"strict\",\"colorway\":[\"#636efa\",\"#EF553B\",\"#00cc96\",\"#ab63fa\",\"#FFA15A\",\"#19d3f3\",\"#FF6692\",\"#B6E880\",\"#FF97FF\",\"#FECB52\"],\"font\":{\"color\":\"#f2f5fa\"},\"hovermode\":\"closest\",\"hoverlabel\":{\"align\":\"left\"},\"paper_bgcolor\":\"rgb(17,17,17)\",\"plot_bgcolor\":\"rgb(17,17,17)\",\"polar\":{\"bgcolor\":\"rgb(17,17,17)\",\"angularaxis\":{\"gridcolor\":\"#506784\",\"linecolor\":\"#506784\",\"ticks\":\"\"},\"radialaxis\":{\"gridcolor\":\"#506784\",\"linecolor\":\"#506784\",\"ticks\":\"\"}},\"ternary\":{\"bgcolor\":\"rgb(17,17,17)\",\"aaxis\":{\"gridcolor\":\"#506784\",\"linecolor\":\"#506784\",\"ticks\":\"\"},\"baxis\":{\"gridcolor\":\"#506784\",\"linecolor\":\"#506784\",\"ticks\":\"\"},\"caxis\":{\"gridcolor\":\"#506784\",\"linecolor\":\"#506784\",\"ticks\":\"\"}},\"coloraxis\":{\"colorbar\":{\"outlinewidth\":0,\"ticks\":\"\"}},\"colorscale\":{\"sequential\":[[0.0,\"#0d0887\"],[0.1111111111111111,\"#46039f\"],[0.2222222222222222,\"#7201a8\"],[0.3333333333333333,\"#9c179e\"],[0.4444444444444444,\"#bd3786\"],[0.5555555555555556,\"#d8576b\"],[0.6666666666666666,\"#ed7953\"],[0.7777777777777778,\"#fb9f3a\"],[0.8888888888888888,\"#fdca26\"],[1.0,\"#f0f921\"]],\"sequentialminus\":[[0.0,\"#0d0887\"],[0.1111111111111111,\"#46039f\"],[0.2222222222222222,\"#7201a8\"],[0.3333333333333333,\"#9c179e\"],[0.4444444444444444,\"#bd3786\"],[0.5555555555555556,\"#d8576b\"],[0.6666666666666666,\"#ed7953\"],[0.7777777777777778,\"#fb9f3a\"],[0.8888888888888888,\"#fdca26\"],[1.0,\"#f0f921\"]],\"diverging\":[[0,\"#8e0152\"],[0.1,\"#c51b7d\"],[0.2,\"#de77ae\"],[0.3,\"#f1b6da\"],[0.4,\"#fde0ef\"],[0.5,\"#f7f7f7\"],[0.6,\"#e6f5d0\"],[0.7,\"#b8e186\"],[0.8,\"#7fbc41\"],[0.9,\"#4d9221\"],[1,\"#276419\"]]},\"xaxis\":{\"gridcolor\":\"#283442\",\"linecolor\":\"#506784\",\"ticks\":\"\",\"title\":{\"standoff\":15},\"zerolinecolor\":\"#283442\",\"automargin\":true,\"zerolinewidth\":2},\"yaxis\":{\"gridcolor\":\"#283442\",\"linecolor\":\"#506784\",\"ticks\":\"\",\"title\":{\"standoff\":15},\"zerolinecolor\":\"#283442\",\"automargin\":true,\"zerolinewidth\":2},\"scene\":{\"xaxis\":{\"backgroundcolor\":\"rgb(17,17,17)\",\"gridcolor\":\"#506784\",\"linecolor\":\"#506784\",\"showbackground\":true,\"ticks\":\"\",\"zerolinecolor\":\"#C8D4E3\",\"gridwidth\":2},\"yaxis\":{\"backgroundcolor\":\"rgb(17,17,17)\",\"gridcolor\":\"#506784\",\"linecolor\":\"#506784\",\"showbackground\":true,\"ticks\":\"\",\"zerolinecolor\":\"#C8D4E3\",\"gridwidth\":2},\"zaxis\":{\"backgroundcolor\":\"rgb(17,17,17)\",\"gridcolor\":\"#506784\",\"linecolor\":\"#506784\",\"showbackground\":true,\"ticks\":\"\",\"zerolinecolor\":\"#C8D4E3\",\"gridwidth\":2}},\"shapedefaults\":{\"line\":{\"color\":\"#f2f5fa\"}},\"annotationdefaults\":{\"arrowcolor\":\"#f2f5fa\",\"arrowhead\":0,\"arrowwidth\":1},\"geo\":{\"bgcolor\":\"rgb(17,17,17)\",\"landcolor\":\"rgb(17,17,17)\",\"subunitcolor\":\"#506784\",\"showland\":true,\"showlakes\":true,\"lakecolor\":\"rgb(17,17,17)\"},\"title\":{\"x\":0.05},\"updatemenudefaults\":{\"bgcolor\":\"#506784\",\"borderwidth\":0},\"sliderdefaults\":{\"bgcolor\":\"#C8D4E3\",\"borderwidth\":1,\"bordercolor\":\"rgb(17,17,17)\",\"tickwidth\":0},\"mapbox\":{\"style\":\"dark\"}}},\"xaxis\":{\"anchor\":\"y\",\"domain\":[0.0,0.18400000000000002],\"title\":{\"text\":\"Treatment\"},\"categoryorder\":\"array\",\"categoryarray\":[\"Control\",\"8 min UVC\",\"5 min UVC\"]},\"yaxis\":{\"anchor\":\"x\",\"domain\":[0.0,1.0],\"title\":{\"text\":\"Fresh weight (g)\"}},\"xaxis2\":{\"anchor\":\"y2\",\"domain\":[0.20400000000000001,0.388],\"matches\":\"x\",\"title\":{\"text\":\"Treatment\"},\"categoryorder\":\"array\",\"categoryarray\":[\"Control\",\"8 min UVC\",\"5 min UVC\"]},\"yaxis2\":{\"anchor\":\"x2\",\"domain\":[0.0,1.0],\"matches\":\"y\",\"showticklabels\":false},\"xaxis3\":{\"anchor\":\"y3\",\"domain\":[0.40800000000000003,0.5920000000000001],\"matches\":\"x\",\"title\":{\"text\":\"Treatment\"},\"categoryorder\":\"array\",\"categoryarray\":[\"Control\",\"8 min UVC\",\"5 min UVC\"]},\"yaxis3\":{\"anchor\":\"x3\",\"domain\":[0.0,1.0],\"matches\":\"y\",\"showticklabels\":false},\"xaxis4\":{\"anchor\":\"y4\",\"domain\":[0.6120000000000001,0.7960000000000002],\"matches\":\"x\",\"title\":{\"text\":\"Treatment\"},\"categoryorder\":\"array\",\"categoryarray\":[\"Control\",\"8 min UVC\",\"5 min UVC\"]},\"yaxis4\":{\"anchor\":\"x4\",\"domain\":[0.0,1.0],\"matches\":\"y\",\"showticklabels\":false},\"xaxis5\":{\"anchor\":\"y5\",\"domain\":[0.8160000000000001,1.0],\"matches\":\"x\",\"title\":{\"text\":\"Treatment\"},\"categoryorder\":\"array\",\"categoryarray\":[\"Control\",\"8 min UVC\",\"5 min UVC\"]},\"yaxis5\":{\"anchor\":\"x5\",\"domain\":[0.0,1.0],\"matches\":\"y\",\"showticklabels\":false},\"annotations\":[{\"font\":{},\"showarrow\":false,\"text\":\"Crop=Mn24\",\"x\":0.09200000000000001,\"xanchor\":\"center\",\"xref\":\"paper\",\"y\":1.0,\"yanchor\":\"bottom\",\"yref\":\"paper\"},{\"font\":{},\"showarrow\":false,\"text\":\"Crop=Cr31\",\"x\":0.29600000000000004,\"xanchor\":\"center\",\"xref\":\"paper\",\"y\":1.0,\"yanchor\":\"bottom\",\"yref\":\"paper\"},{\"font\":{},\"showarrow\":false,\"text\":\"Crop=Pr26\",\"x\":0.5,\"xanchor\":\"center\",\"xref\":\"paper\",\"y\":1.0,\"yanchor\":\"bottom\",\"yref\":\"paper\"},{\"font\":{},\"showarrow\":false,\"text\":\"Crop=Bs79\",\"x\":0.7040000000000002,\"xanchor\":\"center\",\"xref\":\"paper\",\"y\":1.0,\"yanchor\":\"bottom\",\"yref\":\"paper\"},{\"font\":{},\"showarrow\":false,\"text\":\"Crop=Bs49\",\"x\":0.908,\"xanchor\":\"center\",\"xref\":\"paper\",\"y\":1.0,\"yanchor\":\"bottom\",\"yref\":\"paper\"}],\"legend\":{\"title\":{\"text\":\"Treatment\"},\"tracegroupgap\":0},\"title\":{\"text\":\"Fresh Weight\"},\"boxmode\":\"overlay\",\"height\":750},                        {\"responsive\": true}                    ).then(function(){\n                            \nvar gd = document.getElementById('ad2751c9-98c3-4b86-9824-94e459293a89');\nvar x = new MutationObserver(function (mutations, observer) {{\n        var display = window.getComputedStyle(gd).display;\n        if (!display || display === 'none') {{\n            console.log([gd, 'removed!']);\n            Plotly.purge(gd);\n            observer.disconnect();\n        }}\n}});\n\n// Listen for the removal of the full notebook cells\nvar notebookContainer = gd.closest('#notebook-container');\nif (notebookContainer) {{\n    x.observe(notebookContainer, {childList: true});\n}}\n\n// Listen for the clearing of the current output cell\nvar outputEl = gd.closest('.output');\nif (outputEl) {{\n    x.observe(outputEl, {childList: true});\n}}\n\n                        })                };                });            </script>        </div>"
     },
     "metadata": {},
     "output_type": "display_data"
    }
   ],
   "source": [
    "import plotly.express as px\n",
    "fig = px.box(df, x=\"Treatment\", y=\"Fresh weight (g)\", color='Treatment', facet_col='Crop', title='Fresh Weight', height=750)\n",
    "fig.show()"
   ],
   "metadata": {
    "collapsed": false,
    "pycharm": {
     "name": "#%%\n"
    }
   }
  },
  {
   "cell_type": "code",
   "execution_count": 3,
   "outputs": [
    {
     "data": {
      "text/plain": "      Crop   Tray_position   Replicate   Treatment   day  date         \\\n0     Bs79   A6                       1  Control        1  19/04/2022   \n1     Pr26   A7                       1  Control        1  19/04/2022   \n2     Cr31   A8                       3  Control        1  19/04/2022   \n3     Bs79   A9                       2  Control        1  19/04/2022   \n4     Bs79   A10                      3  Control        1  19/04/2022   \n...     ...             ...         ...         ...   ...         ...   \n2063  Lt63   A10                      3  UV5           27  31/05/2022   \n2064  Lt98   B6                       3  UV5           27  31/05/2022   \n2065  Lt43   B7                       4  UV5           27  31/05/2022   \n2066  Lt43   B8                       5  UV5           27  31/05/2022   \n2067  Lt63   B9                       5  UV5           27  31/05/2022   \n\n      batchid           tray   planteye_id   digital_biomass__avg   ...  \\\n0     29_HG_mix_st_16       0  scan1                  1.286627e+06  ...   \n1     29_HG_mix_st_16       1  scan1                  7.383611e+05  ...   \n2     29_HG_mix_st_16       2  scan1                  1.354925e+06  ...   \n3     29_HG_mix_st_16       3  scan1                  1.008395e+06  ...   \n4     29_HG_mix_st_16       4  scan1                  6.243872e+05  ...   \n...                ...    ...           ...                    ...  ...   \n2063  31_Lt_st_18           4  scan2                  2.620192e+07  ...   \n2064  31_Lt_st_18           5  scan2                  3.554782e+07  ...   \n2065  31_Lt_st_18           6  scan2                  3.048843e+07  ...   \n2066  31_Lt_st_18           7  scan2                  3.242467e+07  ...   \n2067  31_Lt_st_18           8  scan2                  2.772485e+07  ...   \n\n      leaf_angle__min   light_pen_depth__avg   light_pen_depth__max   \\\n0               40.462                 15.285                 15.285   \n1               38.268                 10.662                 10.662   \n2               33.864                 26.104                 26.104   \n3               39.678                 16.944                 16.944   \n4               40.630                 11.556                 11.556   \n...                ...                    ...                    ...   \n2063            37.306                 54.935                 54.935   \n2064            38.372                 67.025                 67.025   \n2065            38.059                 72.602                 72.602   \n2066            37.083                 69.683                 69.683   \n2067            39.034                 58.792                 58.792   \n\n      light_pen_depth__min   npci_aver__avg   npci_aver__max   \\\n0                    15.285          0.14090          0.14090   \n1                    10.662          0.24786          0.24786   \n2                    26.104          0.14953          0.14953   \n3                    16.944          0.15485          0.15485   \n4                    11.556          0.16030          0.16030   \n...                     ...              ...              ...   \n2063                 54.935          0.28241          0.28241   \n2064                 67.025          0.20993          0.20993   \n2065                 72.602          0.28574          0.28574   \n2066                 69.683          0.25424          0.25424   \n2067                 58.792          0.28980          0.28980   \n\n      npci_aver__min   psri_aver__avg   psri_aver__max   psri_aver__min  \n0             0.14090          0.02525          0.02525         0.02525  \n1             0.24786          0.10250          0.10250         0.10250  \n2             0.14953          0.07317          0.07317         0.07317  \n3             0.15485          0.02876          0.02876         0.02876  \n4             0.16030          0.03414          0.03414         0.03414  \n...               ...              ...              ...             ...  \n2063          0.28241          0.04767          0.04767         0.04767  \n2064          0.20993          0.02722          0.02722         0.02722  \n2065          0.28574          0.04939          0.04939         0.04939  \n2066          0.25424          0.06248          0.06248         0.06248  \n2067          0.28980          0.05434          0.05434         0.05434  \n\n[2068 rows x 51 columns]",
      "text/html": "<div>\n<style scoped>\n    .dataframe tbody tr th:only-of-type {\n        vertical-align: middle;\n    }\n\n    .dataframe tbody tr th {\n        vertical-align: top;\n    }\n\n    .dataframe thead th {\n        text-align: right;\n    }\n</style>\n<table border=\"1\" class=\"dataframe\">\n  <thead>\n    <tr style=\"text-align: right;\">\n      <th></th>\n      <th>Crop</th>\n      <th>Tray_position</th>\n      <th>Replicate</th>\n      <th>Treatment</th>\n      <th>day</th>\n      <th>date</th>\n      <th>batchid</th>\n      <th>tray</th>\n      <th>planteye_id</th>\n      <th>digital_biomass__avg</th>\n      <th>...</th>\n      <th>leaf_angle__min</th>\n      <th>light_pen_depth__avg</th>\n      <th>light_pen_depth__max</th>\n      <th>light_pen_depth__min</th>\n      <th>npci_aver__avg</th>\n      <th>npci_aver__max</th>\n      <th>npci_aver__min</th>\n      <th>psri_aver__avg</th>\n      <th>psri_aver__max</th>\n      <th>psri_aver__min</th>\n    </tr>\n  </thead>\n  <tbody>\n    <tr>\n      <th>0</th>\n      <td>Bs79</td>\n      <td>A6</td>\n      <td>1</td>\n      <td>Control</td>\n      <td>1</td>\n      <td>19/04/2022</td>\n      <td>29_HG_mix_st_16</td>\n      <td>0</td>\n      <td>scan1</td>\n      <td>1.286627e+06</td>\n      <td>...</td>\n      <td>40.462</td>\n      <td>15.285</td>\n      <td>15.285</td>\n      <td>15.285</td>\n      <td>0.14090</td>\n      <td>0.14090</td>\n      <td>0.14090</td>\n      <td>0.02525</td>\n      <td>0.02525</td>\n      <td>0.02525</td>\n    </tr>\n    <tr>\n      <th>1</th>\n      <td>Pr26</td>\n      <td>A7</td>\n      <td>1</td>\n      <td>Control</td>\n      <td>1</td>\n      <td>19/04/2022</td>\n      <td>29_HG_mix_st_16</td>\n      <td>1</td>\n      <td>scan1</td>\n      <td>7.383611e+05</td>\n      <td>...</td>\n      <td>38.268</td>\n      <td>10.662</td>\n      <td>10.662</td>\n      <td>10.662</td>\n      <td>0.24786</td>\n      <td>0.24786</td>\n      <td>0.24786</td>\n      <td>0.10250</td>\n      <td>0.10250</td>\n      <td>0.10250</td>\n    </tr>\n    <tr>\n      <th>2</th>\n      <td>Cr31</td>\n      <td>A8</td>\n      <td>3</td>\n      <td>Control</td>\n      <td>1</td>\n      <td>19/04/2022</td>\n      <td>29_HG_mix_st_16</td>\n      <td>2</td>\n      <td>scan1</td>\n      <td>1.354925e+06</td>\n      <td>...</td>\n      <td>33.864</td>\n      <td>26.104</td>\n      <td>26.104</td>\n      <td>26.104</td>\n      <td>0.14953</td>\n      <td>0.14953</td>\n      <td>0.14953</td>\n      <td>0.07317</td>\n      <td>0.07317</td>\n      <td>0.07317</td>\n    </tr>\n    <tr>\n      <th>3</th>\n      <td>Bs79</td>\n      <td>A9</td>\n      <td>2</td>\n      <td>Control</td>\n      <td>1</td>\n      <td>19/04/2022</td>\n      <td>29_HG_mix_st_16</td>\n      <td>3</td>\n      <td>scan1</td>\n      <td>1.008395e+06</td>\n      <td>...</td>\n      <td>39.678</td>\n      <td>16.944</td>\n      <td>16.944</td>\n      <td>16.944</td>\n      <td>0.15485</td>\n      <td>0.15485</td>\n      <td>0.15485</td>\n      <td>0.02876</td>\n      <td>0.02876</td>\n      <td>0.02876</td>\n    </tr>\n    <tr>\n      <th>4</th>\n      <td>Bs79</td>\n      <td>A10</td>\n      <td>3</td>\n      <td>Control</td>\n      <td>1</td>\n      <td>19/04/2022</td>\n      <td>29_HG_mix_st_16</td>\n      <td>4</td>\n      <td>scan1</td>\n      <td>6.243872e+05</td>\n      <td>...</td>\n      <td>40.630</td>\n      <td>11.556</td>\n      <td>11.556</td>\n      <td>11.556</td>\n      <td>0.16030</td>\n      <td>0.16030</td>\n      <td>0.16030</td>\n      <td>0.03414</td>\n      <td>0.03414</td>\n      <td>0.03414</td>\n    </tr>\n    <tr>\n      <th>...</th>\n      <td>...</td>\n      <td>...</td>\n      <td>...</td>\n      <td>...</td>\n      <td>...</td>\n      <td>...</td>\n      <td>...</td>\n      <td>...</td>\n      <td>...</td>\n      <td>...</td>\n      <td>...</td>\n      <td>...</td>\n      <td>...</td>\n      <td>...</td>\n      <td>...</td>\n      <td>...</td>\n      <td>...</td>\n      <td>...</td>\n      <td>...</td>\n      <td>...</td>\n      <td>...</td>\n    </tr>\n    <tr>\n      <th>2063</th>\n      <td>Lt63</td>\n      <td>A10</td>\n      <td>3</td>\n      <td>UV5</td>\n      <td>27</td>\n      <td>31/05/2022</td>\n      <td>31_Lt_st_18</td>\n      <td>4</td>\n      <td>scan2</td>\n      <td>2.620192e+07</td>\n      <td>...</td>\n      <td>37.306</td>\n      <td>54.935</td>\n      <td>54.935</td>\n      <td>54.935</td>\n      <td>0.28241</td>\n      <td>0.28241</td>\n      <td>0.28241</td>\n      <td>0.04767</td>\n      <td>0.04767</td>\n      <td>0.04767</td>\n    </tr>\n    <tr>\n      <th>2064</th>\n      <td>Lt98</td>\n      <td>B6</td>\n      <td>3</td>\n      <td>UV5</td>\n      <td>27</td>\n      <td>31/05/2022</td>\n      <td>31_Lt_st_18</td>\n      <td>5</td>\n      <td>scan2</td>\n      <td>3.554782e+07</td>\n      <td>...</td>\n      <td>38.372</td>\n      <td>67.025</td>\n      <td>67.025</td>\n      <td>67.025</td>\n      <td>0.20993</td>\n      <td>0.20993</td>\n      <td>0.20993</td>\n      <td>0.02722</td>\n      <td>0.02722</td>\n      <td>0.02722</td>\n    </tr>\n    <tr>\n      <th>2065</th>\n      <td>Lt43</td>\n      <td>B7</td>\n      <td>4</td>\n      <td>UV5</td>\n      <td>27</td>\n      <td>31/05/2022</td>\n      <td>31_Lt_st_18</td>\n      <td>6</td>\n      <td>scan2</td>\n      <td>3.048843e+07</td>\n      <td>...</td>\n      <td>38.059</td>\n      <td>72.602</td>\n      <td>72.602</td>\n      <td>72.602</td>\n      <td>0.28574</td>\n      <td>0.28574</td>\n      <td>0.28574</td>\n      <td>0.04939</td>\n      <td>0.04939</td>\n      <td>0.04939</td>\n    </tr>\n    <tr>\n      <th>2066</th>\n      <td>Lt43</td>\n      <td>B8</td>\n      <td>5</td>\n      <td>UV5</td>\n      <td>27</td>\n      <td>31/05/2022</td>\n      <td>31_Lt_st_18</td>\n      <td>7</td>\n      <td>scan2</td>\n      <td>3.242467e+07</td>\n      <td>...</td>\n      <td>37.083</td>\n      <td>69.683</td>\n      <td>69.683</td>\n      <td>69.683</td>\n      <td>0.25424</td>\n      <td>0.25424</td>\n      <td>0.25424</td>\n      <td>0.06248</td>\n      <td>0.06248</td>\n      <td>0.06248</td>\n    </tr>\n    <tr>\n      <th>2067</th>\n      <td>Lt63</td>\n      <td>B9</td>\n      <td>5</td>\n      <td>UV5</td>\n      <td>27</td>\n      <td>31/05/2022</td>\n      <td>31_Lt_st_18</td>\n      <td>8</td>\n      <td>scan2</td>\n      <td>2.772485e+07</td>\n      <td>...</td>\n      <td>39.034</td>\n      <td>58.792</td>\n      <td>58.792</td>\n      <td>58.792</td>\n      <td>0.28980</td>\n      <td>0.28980</td>\n      <td>0.28980</td>\n      <td>0.05434</td>\n      <td>0.05434</td>\n      <td>0.05434</td>\n    </tr>\n  </tbody>\n</table>\n<p>2068 rows × 51 columns</p>\n</div>"
     },
     "execution_count": 3,
     "metadata": {},
     "output_type": "execute_result"
    }
   ],
   "source": [
    "df = pd.read_csv(\"/Users/mohammedsohilshaikh/Desktop/Venturit/Photosynq/Data/Plantye.csv\")\n",
    "df"
   ],
   "metadata": {
    "collapsed": false,
    "pycharm": {
     "name": "#%%\n"
    }
   }
  },
  {
   "cell_type": "code",
   "execution_count": 4,
   "outputs": [
    {
     "data": {
      "text/plain": "Index(['Crop ', 'Tray_position ', 'Replicate ', 'Treatment ', 'day ',\n       'date       ', 'batchid         ', 'tray ', 'planteye_id ',\n       'digital_biomass__avg ', 'digital_biomass__max ',\n       'digital_biomass__min ', 'height__avg   ', 'height__max ',\n       'height__min ', 'height_max__avg ', 'height_max__max ',\n       'height_max__min ', 'leaf_area_index__avg ', 'leaf_area_index__max ',\n       'leaf_area_index__min ', 'proj_area__avg ', 'proj_area__max ',\n       'proj_area__min ', 'ndvi_aver__avg ', 'ndvi_aver__max ',\n       'ndvi_aver__min ', 'greenness_aver__avg ', 'greenness_aver__max ',\n       'greenness_aver__min ', 'hue_aver__avg ', 'hue_aver__max ',\n       'hue_aver__min ', 'area_3d__avg   ', 'area_3d__max ', 'area_3d__min ',\n       'leaf_inclination__avg ', 'leaf_inclination__max ',\n       'leaf_inclination__min ', 'leaf_angle__avg ', 'leaf_angle__max ',\n       'leaf_angle__min ', 'light_pen_depth__avg ', 'light_pen_depth__max ',\n       'light_pen_depth__min ', 'npci_aver__avg ', 'npci_aver__max ',\n       'npci_aver__min ', 'psri_aver__avg ', 'psri_aver__max ',\n       'psri_aver__min'],\n      dtype='object')"
     },
     "execution_count": 4,
     "metadata": {},
     "output_type": "execute_result"
    }
   ],
   "source": [
    "df.columns"
   ],
   "metadata": {
    "collapsed": false,
    "pycharm": {
     "name": "#%%\n"
    }
   }
  },
  {
   "cell_type": "code",
   "execution_count": 5,
   "outputs": [
    {
     "data": {
      "text/plain": "     Crop  Tray_position   Replicate  Treatment   day  date         \\\n0     Bs79             A6           1    Control     1  19/04/2022   \n1     Pr26             A7           1    Control     1  19/04/2022   \n2     Cr31             A8           3    Control     1  19/04/2022   \n3     Bs79             A9           2    Control     1  19/04/2022   \n4     Bs79            A10           3    Control     1  19/04/2022   \n...    ...            ...         ...        ...   ...         ...   \n2063  Lt63            A10           3        UV5    27  31/05/2022   \n2064  Lt98             B6           3        UV5    27  31/05/2022   \n2065  Lt43             B7           4        UV5    27  31/05/2022   \n2066  Lt43             B8           5        UV5    27  31/05/2022   \n2067  Lt63             B9           5        UV5    27  31/05/2022   \n\n      batchid           tray   planteye_id   digital_biomass__avg   ...  \\\n0     29_HG_mix_st_16       0  scan1                  1.286627e+06  ...   \n1     29_HG_mix_st_16       1  scan1                  7.383611e+05  ...   \n2     29_HG_mix_st_16       2  scan1                  1.354925e+06  ...   \n3     29_HG_mix_st_16       3  scan1                  1.008395e+06  ...   \n4     29_HG_mix_st_16       4  scan1                  6.243872e+05  ...   \n...                ...    ...           ...                    ...  ...   \n2063  31_Lt_st_18           4  scan2                  2.620192e+07  ...   \n2064  31_Lt_st_18           5  scan2                  3.554782e+07  ...   \n2065  31_Lt_st_18           6  scan2                  3.048843e+07  ...   \n2066  31_Lt_st_18           7  scan2                  3.242467e+07  ...   \n2067  31_Lt_st_18           8  scan2                  2.772485e+07  ...   \n\n      leaf_angle__min   light_pen_depth__avg   light_pen_depth__max   \\\n0               40.462                 15.285                 15.285   \n1               38.268                 10.662                 10.662   \n2               33.864                 26.104                 26.104   \n3               39.678                 16.944                 16.944   \n4               40.630                 11.556                 11.556   \n...                ...                    ...                    ...   \n2063            37.306                 54.935                 54.935   \n2064            38.372                 67.025                 67.025   \n2065            38.059                 72.602                 72.602   \n2066            37.083                 69.683                 69.683   \n2067            39.034                 58.792                 58.792   \n\n      light_pen_depth__min   npci_aver__avg   npci_aver__max   \\\n0                    15.285          0.14090          0.14090   \n1                    10.662          0.24786          0.24786   \n2                    26.104          0.14953          0.14953   \n3                    16.944          0.15485          0.15485   \n4                    11.556          0.16030          0.16030   \n...                     ...              ...              ...   \n2063                 54.935          0.28241          0.28241   \n2064                 67.025          0.20993          0.20993   \n2065                 72.602          0.28574          0.28574   \n2066                 69.683          0.25424          0.25424   \n2067                 58.792          0.28980          0.28980   \n\n      npci_aver__min   psri_aver__avg   psri_aver__max   psri_aver__min  \n0             0.14090          0.02525          0.02525         0.02525  \n1             0.24786          0.10250          0.10250         0.10250  \n2             0.14953          0.07317          0.07317         0.07317  \n3             0.15485          0.02876          0.02876         0.02876  \n4             0.16030          0.03414          0.03414         0.03414  \n...               ...              ...              ...             ...  \n2063          0.28241          0.04767          0.04767         0.04767  \n2064          0.20993          0.02722          0.02722         0.02722  \n2065          0.28574          0.04939          0.04939         0.04939  \n2066          0.25424          0.06248          0.06248         0.06248  \n2067          0.28980          0.05434          0.05434         0.05434  \n\n[2068 rows x 51 columns]",
      "text/html": "<div>\n<style scoped>\n    .dataframe tbody tr th:only-of-type {\n        vertical-align: middle;\n    }\n\n    .dataframe tbody tr th {\n        vertical-align: top;\n    }\n\n    .dataframe thead th {\n        text-align: right;\n    }\n</style>\n<table border=\"1\" class=\"dataframe\">\n  <thead>\n    <tr style=\"text-align: right;\">\n      <th></th>\n      <th>Crop</th>\n      <th>Tray_position</th>\n      <th>Replicate</th>\n      <th>Treatment</th>\n      <th>day</th>\n      <th>date</th>\n      <th>batchid</th>\n      <th>tray</th>\n      <th>planteye_id</th>\n      <th>digital_biomass__avg</th>\n      <th>...</th>\n      <th>leaf_angle__min</th>\n      <th>light_pen_depth__avg</th>\n      <th>light_pen_depth__max</th>\n      <th>light_pen_depth__min</th>\n      <th>npci_aver__avg</th>\n      <th>npci_aver__max</th>\n      <th>npci_aver__min</th>\n      <th>psri_aver__avg</th>\n      <th>psri_aver__max</th>\n      <th>psri_aver__min</th>\n    </tr>\n  </thead>\n  <tbody>\n    <tr>\n      <th>0</th>\n      <td>Bs79</td>\n      <td>A6</td>\n      <td>1</td>\n      <td>Control</td>\n      <td>1</td>\n      <td>19/04/2022</td>\n      <td>29_HG_mix_st_16</td>\n      <td>0</td>\n      <td>scan1</td>\n      <td>1.286627e+06</td>\n      <td>...</td>\n      <td>40.462</td>\n      <td>15.285</td>\n      <td>15.285</td>\n      <td>15.285</td>\n      <td>0.14090</td>\n      <td>0.14090</td>\n      <td>0.14090</td>\n      <td>0.02525</td>\n      <td>0.02525</td>\n      <td>0.02525</td>\n    </tr>\n    <tr>\n      <th>1</th>\n      <td>Pr26</td>\n      <td>A7</td>\n      <td>1</td>\n      <td>Control</td>\n      <td>1</td>\n      <td>19/04/2022</td>\n      <td>29_HG_mix_st_16</td>\n      <td>1</td>\n      <td>scan1</td>\n      <td>7.383611e+05</td>\n      <td>...</td>\n      <td>38.268</td>\n      <td>10.662</td>\n      <td>10.662</td>\n      <td>10.662</td>\n      <td>0.24786</td>\n      <td>0.24786</td>\n      <td>0.24786</td>\n      <td>0.10250</td>\n      <td>0.10250</td>\n      <td>0.10250</td>\n    </tr>\n    <tr>\n      <th>2</th>\n      <td>Cr31</td>\n      <td>A8</td>\n      <td>3</td>\n      <td>Control</td>\n      <td>1</td>\n      <td>19/04/2022</td>\n      <td>29_HG_mix_st_16</td>\n      <td>2</td>\n      <td>scan1</td>\n      <td>1.354925e+06</td>\n      <td>...</td>\n      <td>33.864</td>\n      <td>26.104</td>\n      <td>26.104</td>\n      <td>26.104</td>\n      <td>0.14953</td>\n      <td>0.14953</td>\n      <td>0.14953</td>\n      <td>0.07317</td>\n      <td>0.07317</td>\n      <td>0.07317</td>\n    </tr>\n    <tr>\n      <th>3</th>\n      <td>Bs79</td>\n      <td>A9</td>\n      <td>2</td>\n      <td>Control</td>\n      <td>1</td>\n      <td>19/04/2022</td>\n      <td>29_HG_mix_st_16</td>\n      <td>3</td>\n      <td>scan1</td>\n      <td>1.008395e+06</td>\n      <td>...</td>\n      <td>39.678</td>\n      <td>16.944</td>\n      <td>16.944</td>\n      <td>16.944</td>\n      <td>0.15485</td>\n      <td>0.15485</td>\n      <td>0.15485</td>\n      <td>0.02876</td>\n      <td>0.02876</td>\n      <td>0.02876</td>\n    </tr>\n    <tr>\n      <th>4</th>\n      <td>Bs79</td>\n      <td>A10</td>\n      <td>3</td>\n      <td>Control</td>\n      <td>1</td>\n      <td>19/04/2022</td>\n      <td>29_HG_mix_st_16</td>\n      <td>4</td>\n      <td>scan1</td>\n      <td>6.243872e+05</td>\n      <td>...</td>\n      <td>40.630</td>\n      <td>11.556</td>\n      <td>11.556</td>\n      <td>11.556</td>\n      <td>0.16030</td>\n      <td>0.16030</td>\n      <td>0.16030</td>\n      <td>0.03414</td>\n      <td>0.03414</td>\n      <td>0.03414</td>\n    </tr>\n    <tr>\n      <th>...</th>\n      <td>...</td>\n      <td>...</td>\n      <td>...</td>\n      <td>...</td>\n      <td>...</td>\n      <td>...</td>\n      <td>...</td>\n      <td>...</td>\n      <td>...</td>\n      <td>...</td>\n      <td>...</td>\n      <td>...</td>\n      <td>...</td>\n      <td>...</td>\n      <td>...</td>\n      <td>...</td>\n      <td>...</td>\n      <td>...</td>\n      <td>...</td>\n      <td>...</td>\n      <td>...</td>\n    </tr>\n    <tr>\n      <th>2063</th>\n      <td>Lt63</td>\n      <td>A10</td>\n      <td>3</td>\n      <td>UV5</td>\n      <td>27</td>\n      <td>31/05/2022</td>\n      <td>31_Lt_st_18</td>\n      <td>4</td>\n      <td>scan2</td>\n      <td>2.620192e+07</td>\n      <td>...</td>\n      <td>37.306</td>\n      <td>54.935</td>\n      <td>54.935</td>\n      <td>54.935</td>\n      <td>0.28241</td>\n      <td>0.28241</td>\n      <td>0.28241</td>\n      <td>0.04767</td>\n      <td>0.04767</td>\n      <td>0.04767</td>\n    </tr>\n    <tr>\n      <th>2064</th>\n      <td>Lt98</td>\n      <td>B6</td>\n      <td>3</td>\n      <td>UV5</td>\n      <td>27</td>\n      <td>31/05/2022</td>\n      <td>31_Lt_st_18</td>\n      <td>5</td>\n      <td>scan2</td>\n      <td>3.554782e+07</td>\n      <td>...</td>\n      <td>38.372</td>\n      <td>67.025</td>\n      <td>67.025</td>\n      <td>67.025</td>\n      <td>0.20993</td>\n      <td>0.20993</td>\n      <td>0.20993</td>\n      <td>0.02722</td>\n      <td>0.02722</td>\n      <td>0.02722</td>\n    </tr>\n    <tr>\n      <th>2065</th>\n      <td>Lt43</td>\n      <td>B7</td>\n      <td>4</td>\n      <td>UV5</td>\n      <td>27</td>\n      <td>31/05/2022</td>\n      <td>31_Lt_st_18</td>\n      <td>6</td>\n      <td>scan2</td>\n      <td>3.048843e+07</td>\n      <td>...</td>\n      <td>38.059</td>\n      <td>72.602</td>\n      <td>72.602</td>\n      <td>72.602</td>\n      <td>0.28574</td>\n      <td>0.28574</td>\n      <td>0.28574</td>\n      <td>0.04939</td>\n      <td>0.04939</td>\n      <td>0.04939</td>\n    </tr>\n    <tr>\n      <th>2066</th>\n      <td>Lt43</td>\n      <td>B8</td>\n      <td>5</td>\n      <td>UV5</td>\n      <td>27</td>\n      <td>31/05/2022</td>\n      <td>31_Lt_st_18</td>\n      <td>7</td>\n      <td>scan2</td>\n      <td>3.242467e+07</td>\n      <td>...</td>\n      <td>37.083</td>\n      <td>69.683</td>\n      <td>69.683</td>\n      <td>69.683</td>\n      <td>0.25424</td>\n      <td>0.25424</td>\n      <td>0.25424</td>\n      <td>0.06248</td>\n      <td>0.06248</td>\n      <td>0.06248</td>\n    </tr>\n    <tr>\n      <th>2067</th>\n      <td>Lt63</td>\n      <td>B9</td>\n      <td>5</td>\n      <td>UV5</td>\n      <td>27</td>\n      <td>31/05/2022</td>\n      <td>31_Lt_st_18</td>\n      <td>8</td>\n      <td>scan2</td>\n      <td>2.772485e+07</td>\n      <td>...</td>\n      <td>39.034</td>\n      <td>58.792</td>\n      <td>58.792</td>\n      <td>58.792</td>\n      <td>0.28980</td>\n      <td>0.28980</td>\n      <td>0.28980</td>\n      <td>0.05434</td>\n      <td>0.05434</td>\n      <td>0.05434</td>\n    </tr>\n  </tbody>\n</table>\n<p>2068 rows × 51 columns</p>\n</div>"
     },
     "execution_count": 5,
     "metadata": {},
     "output_type": "execute_result"
    }
   ],
   "source": [
    "df['Crop '] = df['Crop '].str.strip()\n",
    "df['Tray_position '] = df['Tray_position '].str.strip()\n",
    "df['Treatment '] = df['Treatment '].str.strip()\n",
    "df"
   ],
   "metadata": {
    "collapsed": false,
    "pycharm": {
     "name": "#%%\n"
    }
   }
  },
  {
   "cell_type": "code",
   "execution_count": 12,
   "outputs": [
    {
     "data": {
      "application/vnd.plotly.v1+json": {
       "data": [
        {
         "hovertemplate": "Crop =Pr26<br>day =%{x}<br>height__avg   =%{y}<extra></extra>",
         "legendgroup": "",
         "line": {
          "color": "#636efa",
          "dash": "solid"
         },
         "marker": {
          "symbol": "circle"
         },
         "mode": "lines",
         "name": "",
         "orientation": "v",
         "showlegend": false,
         "x": [
          1,
          2,
          3,
          4,
          5,
          7,
          8,
          9,
          10,
          11,
          12,
          13,
          14,
          15
         ],
         "xaxis": "x",
         "y": [
          20.575,
          23.101,
          25.36833333,
          27.393,
          29.571,
          44.043,
          53.587,
          61.195,
          64.953,
          76.569,
          87.9595,
          102.0564,
          120.1884,
          131.817
         ],
         "yaxis": "y",
         "type": "scatter"
        },
        {
         "hovertemplate": "Crop =Lt63<br>day =%{x}<br>height__avg   =%{y}<extra></extra>",
         "legendgroup": "",
         "line": {
          "color": "#636efa",
          "dash": "solid"
         },
         "marker": {
          "symbol": "circle"
         },
         "mode": "lines",
         "name": "",
         "orientation": "v",
         "showlegend": false,
         "x": [
          1,
          2,
          3,
          4,
          5,
          6,
          7,
          8,
          9,
          10,
          11,
          14,
          15,
          16,
          17,
          18,
          19,
          20,
          21,
          22,
          23,
          24,
          25,
          26,
          27
         ],
         "xaxis": "x2",
         "y": [
          23.84333333,
          19.648,
          16.1225,
          16.2622,
          18.5215,
          20.763,
          25.7625,
          29.773875,
          35.01825,
          41.56044444,
          46.79757143,
          66.14442857,
          72.8905,
          79.60866667,
          87.1746,
          94.5322,
          102.8464,
          111.02275,
          116.8624286,
          122.8858333,
          127.3573333,
          132.8358,
          135.8898,
          139.7532,
          142.3255
         ],
         "yaxis": "y2",
         "type": "scatter"
        }
       ],
       "layout": {
        "template": {
         "data": {
          "histogram2dcontour": [
           {
            "type": "histogram2dcontour",
            "colorbar": {
             "outlinewidth": 0,
             "ticks": ""
            },
            "colorscale": [
             [
              0.0,
              "#0d0887"
             ],
             [
              0.1111111111111111,
              "#46039f"
             ],
             [
              0.2222222222222222,
              "#7201a8"
             ],
             [
              0.3333333333333333,
              "#9c179e"
             ],
             [
              0.4444444444444444,
              "#bd3786"
             ],
             [
              0.5555555555555556,
              "#d8576b"
             ],
             [
              0.6666666666666666,
              "#ed7953"
             ],
             [
              0.7777777777777778,
              "#fb9f3a"
             ],
             [
              0.8888888888888888,
              "#fdca26"
             ],
             [
              1.0,
              "#f0f921"
             ]
            ]
           }
          ],
          "choropleth": [
           {
            "type": "choropleth",
            "colorbar": {
             "outlinewidth": 0,
             "ticks": ""
            }
           }
          ],
          "histogram2d": [
           {
            "type": "histogram2d",
            "colorbar": {
             "outlinewidth": 0,
             "ticks": ""
            },
            "colorscale": [
             [
              0.0,
              "#0d0887"
             ],
             [
              0.1111111111111111,
              "#46039f"
             ],
             [
              0.2222222222222222,
              "#7201a8"
             ],
             [
              0.3333333333333333,
              "#9c179e"
             ],
             [
              0.4444444444444444,
              "#bd3786"
             ],
             [
              0.5555555555555556,
              "#d8576b"
             ],
             [
              0.6666666666666666,
              "#ed7953"
             ],
             [
              0.7777777777777778,
              "#fb9f3a"
             ],
             [
              0.8888888888888888,
              "#fdca26"
             ],
             [
              1.0,
              "#f0f921"
             ]
            ]
           }
          ],
          "heatmap": [
           {
            "type": "heatmap",
            "colorbar": {
             "outlinewidth": 0,
             "ticks": ""
            },
            "colorscale": [
             [
              0.0,
              "#0d0887"
             ],
             [
              0.1111111111111111,
              "#46039f"
             ],
             [
              0.2222222222222222,
              "#7201a8"
             ],
             [
              0.3333333333333333,
              "#9c179e"
             ],
             [
              0.4444444444444444,
              "#bd3786"
             ],
             [
              0.5555555555555556,
              "#d8576b"
             ],
             [
              0.6666666666666666,
              "#ed7953"
             ],
             [
              0.7777777777777778,
              "#fb9f3a"
             ],
             [
              0.8888888888888888,
              "#fdca26"
             ],
             [
              1.0,
              "#f0f921"
             ]
            ]
           }
          ],
          "heatmapgl": [
           {
            "type": "heatmapgl",
            "colorbar": {
             "outlinewidth": 0,
             "ticks": ""
            },
            "colorscale": [
             [
              0.0,
              "#0d0887"
             ],
             [
              0.1111111111111111,
              "#46039f"
             ],
             [
              0.2222222222222222,
              "#7201a8"
             ],
             [
              0.3333333333333333,
              "#9c179e"
             ],
             [
              0.4444444444444444,
              "#bd3786"
             ],
             [
              0.5555555555555556,
              "#d8576b"
             ],
             [
              0.6666666666666666,
              "#ed7953"
             ],
             [
              0.7777777777777778,
              "#fb9f3a"
             ],
             [
              0.8888888888888888,
              "#fdca26"
             ],
             [
              1.0,
              "#f0f921"
             ]
            ]
           }
          ],
          "contourcarpet": [
           {
            "type": "contourcarpet",
            "colorbar": {
             "outlinewidth": 0,
             "ticks": ""
            }
           }
          ],
          "contour": [
           {
            "type": "contour",
            "colorbar": {
             "outlinewidth": 0,
             "ticks": ""
            },
            "colorscale": [
             [
              0.0,
              "#0d0887"
             ],
             [
              0.1111111111111111,
              "#46039f"
             ],
             [
              0.2222222222222222,
              "#7201a8"
             ],
             [
              0.3333333333333333,
              "#9c179e"
             ],
             [
              0.4444444444444444,
              "#bd3786"
             ],
             [
              0.5555555555555556,
              "#d8576b"
             ],
             [
              0.6666666666666666,
              "#ed7953"
             ],
             [
              0.7777777777777778,
              "#fb9f3a"
             ],
             [
              0.8888888888888888,
              "#fdca26"
             ],
             [
              1.0,
              "#f0f921"
             ]
            ]
           }
          ],
          "surface": [
           {
            "type": "surface",
            "colorbar": {
             "outlinewidth": 0,
             "ticks": ""
            },
            "colorscale": [
             [
              0.0,
              "#0d0887"
             ],
             [
              0.1111111111111111,
              "#46039f"
             ],
             [
              0.2222222222222222,
              "#7201a8"
             ],
             [
              0.3333333333333333,
              "#9c179e"
             ],
             [
              0.4444444444444444,
              "#bd3786"
             ],
             [
              0.5555555555555556,
              "#d8576b"
             ],
             [
              0.6666666666666666,
              "#ed7953"
             ],
             [
              0.7777777777777778,
              "#fb9f3a"
             ],
             [
              0.8888888888888888,
              "#fdca26"
             ],
             [
              1.0,
              "#f0f921"
             ]
            ]
           }
          ],
          "mesh3d": [
           {
            "type": "mesh3d",
            "colorbar": {
             "outlinewidth": 0,
             "ticks": ""
            }
           }
          ],
          "scatter": [
           {
            "marker": {
             "line": {
              "color": "#283442"
             }
            },
            "type": "scatter"
           }
          ],
          "parcoords": [
           {
            "type": "parcoords",
            "line": {
             "colorbar": {
              "outlinewidth": 0,
              "ticks": ""
             }
            }
           }
          ],
          "scatterpolargl": [
           {
            "type": "scatterpolargl",
            "marker": {
             "colorbar": {
              "outlinewidth": 0,
              "ticks": ""
             }
            }
           }
          ],
          "bar": [
           {
            "error_x": {
             "color": "#f2f5fa"
            },
            "error_y": {
             "color": "#f2f5fa"
            },
            "marker": {
             "line": {
              "color": "rgb(17,17,17)",
              "width": 0.5
             },
             "pattern": {
              "fillmode": "overlay",
              "size": 10,
              "solidity": 0.2
             }
            },
            "type": "bar"
           }
          ],
          "scattergeo": [
           {
            "type": "scattergeo",
            "marker": {
             "colorbar": {
              "outlinewidth": 0,
              "ticks": ""
             }
            }
           }
          ],
          "scatterpolar": [
           {
            "type": "scatterpolar",
            "marker": {
             "colorbar": {
              "outlinewidth": 0,
              "ticks": ""
             }
            }
           }
          ],
          "histogram": [
           {
            "marker": {
             "pattern": {
              "fillmode": "overlay",
              "size": 10,
              "solidity": 0.2
             }
            },
            "type": "histogram"
           }
          ],
          "scattergl": [
           {
            "marker": {
             "line": {
              "color": "#283442"
             }
            },
            "type": "scattergl"
           }
          ],
          "scatter3d": [
           {
            "type": "scatter3d",
            "line": {
             "colorbar": {
              "outlinewidth": 0,
              "ticks": ""
             }
            },
            "marker": {
             "colorbar": {
              "outlinewidth": 0,
              "ticks": ""
             }
            }
           }
          ],
          "scattermapbox": [
           {
            "type": "scattermapbox",
            "marker": {
             "colorbar": {
              "outlinewidth": 0,
              "ticks": ""
             }
            }
           }
          ],
          "scatterternary": [
           {
            "type": "scatterternary",
            "marker": {
             "colorbar": {
              "outlinewidth": 0,
              "ticks": ""
             }
            }
           }
          ],
          "scattercarpet": [
           {
            "type": "scattercarpet",
            "marker": {
             "colorbar": {
              "outlinewidth": 0,
              "ticks": ""
             }
            }
           }
          ],
          "carpet": [
           {
            "aaxis": {
             "endlinecolor": "#A2B1C6",
             "gridcolor": "#506784",
             "linecolor": "#506784",
             "minorgridcolor": "#506784",
             "startlinecolor": "#A2B1C6"
            },
            "baxis": {
             "endlinecolor": "#A2B1C6",
             "gridcolor": "#506784",
             "linecolor": "#506784",
             "minorgridcolor": "#506784",
             "startlinecolor": "#A2B1C6"
            },
            "type": "carpet"
           }
          ],
          "table": [
           {
            "cells": {
             "fill": {
              "color": "#506784"
             },
             "line": {
              "color": "rgb(17,17,17)"
             }
            },
            "header": {
             "fill": {
              "color": "#2a3f5f"
             },
             "line": {
              "color": "rgb(17,17,17)"
             }
            },
            "type": "table"
           }
          ],
          "barpolar": [
           {
            "marker": {
             "line": {
              "color": "rgb(17,17,17)",
              "width": 0.5
             },
             "pattern": {
              "fillmode": "overlay",
              "size": 10,
              "solidity": 0.2
             }
            },
            "type": "barpolar"
           }
          ],
          "pie": [
           {
            "automargin": true,
            "type": "pie"
           }
          ]
         },
         "layout": {
          "autotypenumbers": "strict",
          "colorway": [
           "#636efa",
           "#EF553B",
           "#00cc96",
           "#ab63fa",
           "#FFA15A",
           "#19d3f3",
           "#FF6692",
           "#B6E880",
           "#FF97FF",
           "#FECB52"
          ],
          "font": {
           "color": "#f2f5fa"
          },
          "hovermode": "closest",
          "hoverlabel": {
           "align": "left"
          },
          "paper_bgcolor": "rgb(17,17,17)",
          "plot_bgcolor": "rgb(17,17,17)",
          "polar": {
           "bgcolor": "rgb(17,17,17)",
           "angularaxis": {
            "gridcolor": "#506784",
            "linecolor": "#506784",
            "ticks": ""
           },
           "radialaxis": {
            "gridcolor": "#506784",
            "linecolor": "#506784",
            "ticks": ""
           }
          },
          "ternary": {
           "bgcolor": "rgb(17,17,17)",
           "aaxis": {
            "gridcolor": "#506784",
            "linecolor": "#506784",
            "ticks": ""
           },
           "baxis": {
            "gridcolor": "#506784",
            "linecolor": "#506784",
            "ticks": ""
           },
           "caxis": {
            "gridcolor": "#506784",
            "linecolor": "#506784",
            "ticks": ""
           }
          },
          "coloraxis": {
           "colorbar": {
            "outlinewidth": 0,
            "ticks": ""
           }
          },
          "colorscale": {
           "sequential": [
            [
             0.0,
             "#0d0887"
            ],
            [
             0.1111111111111111,
             "#46039f"
            ],
            [
             0.2222222222222222,
             "#7201a8"
            ],
            [
             0.3333333333333333,
             "#9c179e"
            ],
            [
             0.4444444444444444,
             "#bd3786"
            ],
            [
             0.5555555555555556,
             "#d8576b"
            ],
            [
             0.6666666666666666,
             "#ed7953"
            ],
            [
             0.7777777777777778,
             "#fb9f3a"
            ],
            [
             0.8888888888888888,
             "#fdca26"
            ],
            [
             1.0,
             "#f0f921"
            ]
           ],
           "sequentialminus": [
            [
             0.0,
             "#0d0887"
            ],
            [
             0.1111111111111111,
             "#46039f"
            ],
            [
             0.2222222222222222,
             "#7201a8"
            ],
            [
             0.3333333333333333,
             "#9c179e"
            ],
            [
             0.4444444444444444,
             "#bd3786"
            ],
            [
             0.5555555555555556,
             "#d8576b"
            ],
            [
             0.6666666666666666,
             "#ed7953"
            ],
            [
             0.7777777777777778,
             "#fb9f3a"
            ],
            [
             0.8888888888888888,
             "#fdca26"
            ],
            [
             1.0,
             "#f0f921"
            ]
           ],
           "diverging": [
            [
             0,
             "#8e0152"
            ],
            [
             0.1,
             "#c51b7d"
            ],
            [
             0.2,
             "#de77ae"
            ],
            [
             0.3,
             "#f1b6da"
            ],
            [
             0.4,
             "#fde0ef"
            ],
            [
             0.5,
             "#f7f7f7"
            ],
            [
             0.6,
             "#e6f5d0"
            ],
            [
             0.7,
             "#b8e186"
            ],
            [
             0.8,
             "#7fbc41"
            ],
            [
             0.9,
             "#4d9221"
            ],
            [
             1,
             "#276419"
            ]
           ]
          },
          "xaxis": {
           "gridcolor": "#283442",
           "linecolor": "#506784",
           "ticks": "",
           "title": {
            "standoff": 15
           },
           "zerolinecolor": "#283442",
           "automargin": true,
           "zerolinewidth": 2
          },
          "yaxis": {
           "gridcolor": "#283442",
           "linecolor": "#506784",
           "ticks": "",
           "title": {
            "standoff": 15
           },
           "zerolinecolor": "#283442",
           "automargin": true,
           "zerolinewidth": 2
          },
          "scene": {
           "xaxis": {
            "backgroundcolor": "rgb(17,17,17)",
            "gridcolor": "#506784",
            "linecolor": "#506784",
            "showbackground": true,
            "ticks": "",
            "zerolinecolor": "#C8D4E3",
            "gridwidth": 2
           },
           "yaxis": {
            "backgroundcolor": "rgb(17,17,17)",
            "gridcolor": "#506784",
            "linecolor": "#506784",
            "showbackground": true,
            "ticks": "",
            "zerolinecolor": "#C8D4E3",
            "gridwidth": 2
           },
           "zaxis": {
            "backgroundcolor": "rgb(17,17,17)",
            "gridcolor": "#506784",
            "linecolor": "#506784",
            "showbackground": true,
            "ticks": "",
            "zerolinecolor": "#C8D4E3",
            "gridwidth": 2
           }
          },
          "shapedefaults": {
           "line": {
            "color": "#f2f5fa"
           }
          },
          "annotationdefaults": {
           "arrowcolor": "#f2f5fa",
           "arrowhead": 0,
           "arrowwidth": 1
          },
          "geo": {
           "bgcolor": "rgb(17,17,17)",
           "landcolor": "rgb(17,17,17)",
           "subunitcolor": "#506784",
           "showland": true,
           "showlakes": true,
           "lakecolor": "rgb(17,17,17)"
          },
          "title": {
           "x": 0.05
          },
          "updatemenudefaults": {
           "bgcolor": "#506784",
           "borderwidth": 0
          },
          "sliderdefaults": {
           "bgcolor": "#C8D4E3",
           "borderwidth": 1,
           "bordercolor": "rgb(17,17,17)",
           "tickwidth": 0
          },
          "mapbox": {
           "style": "dark"
          }
         }
        },
        "xaxis": {
         "anchor": "y",
         "domain": [
          0.0,
          0.49
         ],
         "title": {
          "text": "day "
         }
        },
        "yaxis": {
         "anchor": "x",
         "domain": [
          0.0,
          1.0
         ],
         "title": {
          "text": "height__avg   "
         }
        },
        "xaxis2": {
         "anchor": "y2",
         "domain": [
          0.51,
          1.0
         ],
         "matches": "x",
         "title": {
          "text": "day "
         }
        },
        "yaxis2": {
         "anchor": "x2",
         "domain": [
          0.0,
          1.0
         ],
         "matches": "y",
         "showticklabels": false
        },
        "annotations": [
         {
          "font": {},
          "showarrow": false,
          "text": "Crop =Pr26",
          "x": 0.245,
          "xanchor": "center",
          "xref": "paper",
          "y": 1.0,
          "yanchor": "bottom",
          "yref": "paper"
         },
         {
          "font": {},
          "showarrow": false,
          "text": "Crop =Lt63",
          "x": 0.755,
          "xanchor": "center",
          "xref": "paper",
          "y": 1.0,
          "yanchor": "bottom",
          "yref": "paper"
         }
        ],
        "legend": {
         "tracegroupgap": 0
        },
        "margin": {
         "t": 60
        },
        "height": 400,
        "width": 800
       },
       "config": {
        "plotlyServerURL": "https://plot.ly"
       }
      },
      "text/html": "<div>                            <div id=\"5dd13a2c-7d36-429a-b6df-26d620969df5\" class=\"plotly-graph-div\" style=\"height:400px; width:800px;\"></div>            <script type=\"text/javascript\">                require([\"plotly\"], function(Plotly) {                    window.PLOTLYENV=window.PLOTLYENV || {};                                    if (document.getElementById(\"5dd13a2c-7d36-429a-b6df-26d620969df5\")) {                    Plotly.newPlot(                        \"5dd13a2c-7d36-429a-b6df-26d620969df5\",                        [{\"hovertemplate\":\"Crop =Pr26<br>day =%{x}<br>height__avg   =%{y}<extra></extra>\",\"legendgroup\":\"\",\"line\":{\"color\":\"#636efa\",\"dash\":\"solid\"},\"marker\":{\"symbol\":\"circle\"},\"mode\":\"lines\",\"name\":\"\",\"orientation\":\"v\",\"showlegend\":false,\"x\":[1,2,3,4,5,7,8,9,10,11,12,13,14,15],\"xaxis\":\"x\",\"y\":[20.575,23.101,25.36833333,27.393,29.571,44.043,53.587,61.195,64.953,76.569,87.9595,102.0564,120.1884,131.817],\"yaxis\":\"y\",\"type\":\"scatter\"},{\"hovertemplate\":\"Crop =Lt63<br>day =%{x}<br>height__avg   =%{y}<extra></extra>\",\"legendgroup\":\"\",\"line\":{\"color\":\"#636efa\",\"dash\":\"solid\"},\"marker\":{\"symbol\":\"circle\"},\"mode\":\"lines\",\"name\":\"\",\"orientation\":\"v\",\"showlegend\":false,\"x\":[1,2,3,4,5,6,7,8,9,10,11,14,15,16,17,18,19,20,21,22,23,24,25,26,27],\"xaxis\":\"x2\",\"y\":[23.84333333,19.648,16.1225,16.2622,18.5215,20.763,25.7625,29.773875,35.01825,41.56044444,46.79757143,66.14442857,72.8905,79.60866667,87.1746,94.5322,102.8464,111.02275,116.8624286,122.8858333,127.3573333,132.8358,135.8898,139.7532,142.3255],\"yaxis\":\"y2\",\"type\":\"scatter\"}],                        {\"template\":{\"data\":{\"histogram2dcontour\":[{\"type\":\"histogram2dcontour\",\"colorbar\":{\"outlinewidth\":0,\"ticks\":\"\"},\"colorscale\":[[0.0,\"#0d0887\"],[0.1111111111111111,\"#46039f\"],[0.2222222222222222,\"#7201a8\"],[0.3333333333333333,\"#9c179e\"],[0.4444444444444444,\"#bd3786\"],[0.5555555555555556,\"#d8576b\"],[0.6666666666666666,\"#ed7953\"],[0.7777777777777778,\"#fb9f3a\"],[0.8888888888888888,\"#fdca26\"],[1.0,\"#f0f921\"]]}],\"choropleth\":[{\"type\":\"choropleth\",\"colorbar\":{\"outlinewidth\":0,\"ticks\":\"\"}}],\"histogram2d\":[{\"type\":\"histogram2d\",\"colorbar\":{\"outlinewidth\":0,\"ticks\":\"\"},\"colorscale\":[[0.0,\"#0d0887\"],[0.1111111111111111,\"#46039f\"],[0.2222222222222222,\"#7201a8\"],[0.3333333333333333,\"#9c179e\"],[0.4444444444444444,\"#bd3786\"],[0.5555555555555556,\"#d8576b\"],[0.6666666666666666,\"#ed7953\"],[0.7777777777777778,\"#fb9f3a\"],[0.8888888888888888,\"#fdca26\"],[1.0,\"#f0f921\"]]}],\"heatmap\":[{\"type\":\"heatmap\",\"colorbar\":{\"outlinewidth\":0,\"ticks\":\"\"},\"colorscale\":[[0.0,\"#0d0887\"],[0.1111111111111111,\"#46039f\"],[0.2222222222222222,\"#7201a8\"],[0.3333333333333333,\"#9c179e\"],[0.4444444444444444,\"#bd3786\"],[0.5555555555555556,\"#d8576b\"],[0.6666666666666666,\"#ed7953\"],[0.7777777777777778,\"#fb9f3a\"],[0.8888888888888888,\"#fdca26\"],[1.0,\"#f0f921\"]]}],\"heatmapgl\":[{\"type\":\"heatmapgl\",\"colorbar\":{\"outlinewidth\":0,\"ticks\":\"\"},\"colorscale\":[[0.0,\"#0d0887\"],[0.1111111111111111,\"#46039f\"],[0.2222222222222222,\"#7201a8\"],[0.3333333333333333,\"#9c179e\"],[0.4444444444444444,\"#bd3786\"],[0.5555555555555556,\"#d8576b\"],[0.6666666666666666,\"#ed7953\"],[0.7777777777777778,\"#fb9f3a\"],[0.8888888888888888,\"#fdca26\"],[1.0,\"#f0f921\"]]}],\"contourcarpet\":[{\"type\":\"contourcarpet\",\"colorbar\":{\"outlinewidth\":0,\"ticks\":\"\"}}],\"contour\":[{\"type\":\"contour\",\"colorbar\":{\"outlinewidth\":0,\"ticks\":\"\"},\"colorscale\":[[0.0,\"#0d0887\"],[0.1111111111111111,\"#46039f\"],[0.2222222222222222,\"#7201a8\"],[0.3333333333333333,\"#9c179e\"],[0.4444444444444444,\"#bd3786\"],[0.5555555555555556,\"#d8576b\"],[0.6666666666666666,\"#ed7953\"],[0.7777777777777778,\"#fb9f3a\"],[0.8888888888888888,\"#fdca26\"],[1.0,\"#f0f921\"]]}],\"surface\":[{\"type\":\"surface\",\"colorbar\":{\"outlinewidth\":0,\"ticks\":\"\"},\"colorscale\":[[0.0,\"#0d0887\"],[0.1111111111111111,\"#46039f\"],[0.2222222222222222,\"#7201a8\"],[0.3333333333333333,\"#9c179e\"],[0.4444444444444444,\"#bd3786\"],[0.5555555555555556,\"#d8576b\"],[0.6666666666666666,\"#ed7953\"],[0.7777777777777778,\"#fb9f3a\"],[0.8888888888888888,\"#fdca26\"],[1.0,\"#f0f921\"]]}],\"mesh3d\":[{\"type\":\"mesh3d\",\"colorbar\":{\"outlinewidth\":0,\"ticks\":\"\"}}],\"scatter\":[{\"marker\":{\"line\":{\"color\":\"#283442\"}},\"type\":\"scatter\"}],\"parcoords\":[{\"type\":\"parcoords\",\"line\":{\"colorbar\":{\"outlinewidth\":0,\"ticks\":\"\"}}}],\"scatterpolargl\":[{\"type\":\"scatterpolargl\",\"marker\":{\"colorbar\":{\"outlinewidth\":0,\"ticks\":\"\"}}}],\"bar\":[{\"error_x\":{\"color\":\"#f2f5fa\"},\"error_y\":{\"color\":\"#f2f5fa\"},\"marker\":{\"line\":{\"color\":\"rgb(17,17,17)\",\"width\":0.5},\"pattern\":{\"fillmode\":\"overlay\",\"size\":10,\"solidity\":0.2}},\"type\":\"bar\"}],\"scattergeo\":[{\"type\":\"scattergeo\",\"marker\":{\"colorbar\":{\"outlinewidth\":0,\"ticks\":\"\"}}}],\"scatterpolar\":[{\"type\":\"scatterpolar\",\"marker\":{\"colorbar\":{\"outlinewidth\":0,\"ticks\":\"\"}}}],\"histogram\":[{\"marker\":{\"pattern\":{\"fillmode\":\"overlay\",\"size\":10,\"solidity\":0.2}},\"type\":\"histogram\"}],\"scattergl\":[{\"marker\":{\"line\":{\"color\":\"#283442\"}},\"type\":\"scattergl\"}],\"scatter3d\":[{\"type\":\"scatter3d\",\"line\":{\"colorbar\":{\"outlinewidth\":0,\"ticks\":\"\"}},\"marker\":{\"colorbar\":{\"outlinewidth\":0,\"ticks\":\"\"}}}],\"scattermapbox\":[{\"type\":\"scattermapbox\",\"marker\":{\"colorbar\":{\"outlinewidth\":0,\"ticks\":\"\"}}}],\"scatterternary\":[{\"type\":\"scatterternary\",\"marker\":{\"colorbar\":{\"outlinewidth\":0,\"ticks\":\"\"}}}],\"scattercarpet\":[{\"type\":\"scattercarpet\",\"marker\":{\"colorbar\":{\"outlinewidth\":0,\"ticks\":\"\"}}}],\"carpet\":[{\"aaxis\":{\"endlinecolor\":\"#A2B1C6\",\"gridcolor\":\"#506784\",\"linecolor\":\"#506784\",\"minorgridcolor\":\"#506784\",\"startlinecolor\":\"#A2B1C6\"},\"baxis\":{\"endlinecolor\":\"#A2B1C6\",\"gridcolor\":\"#506784\",\"linecolor\":\"#506784\",\"minorgridcolor\":\"#506784\",\"startlinecolor\":\"#A2B1C6\"},\"type\":\"carpet\"}],\"table\":[{\"cells\":{\"fill\":{\"color\":\"#506784\"},\"line\":{\"color\":\"rgb(17,17,17)\"}},\"header\":{\"fill\":{\"color\":\"#2a3f5f\"},\"line\":{\"color\":\"rgb(17,17,17)\"}},\"type\":\"table\"}],\"barpolar\":[{\"marker\":{\"line\":{\"color\":\"rgb(17,17,17)\",\"width\":0.5},\"pattern\":{\"fillmode\":\"overlay\",\"size\":10,\"solidity\":0.2}},\"type\":\"barpolar\"}],\"pie\":[{\"automargin\":true,\"type\":\"pie\"}]},\"layout\":{\"autotypenumbers\":\"strict\",\"colorway\":[\"#636efa\",\"#EF553B\",\"#00cc96\",\"#ab63fa\",\"#FFA15A\",\"#19d3f3\",\"#FF6692\",\"#B6E880\",\"#FF97FF\",\"#FECB52\"],\"font\":{\"color\":\"#f2f5fa\"},\"hovermode\":\"closest\",\"hoverlabel\":{\"align\":\"left\"},\"paper_bgcolor\":\"rgb(17,17,17)\",\"plot_bgcolor\":\"rgb(17,17,17)\",\"polar\":{\"bgcolor\":\"rgb(17,17,17)\",\"angularaxis\":{\"gridcolor\":\"#506784\",\"linecolor\":\"#506784\",\"ticks\":\"\"},\"radialaxis\":{\"gridcolor\":\"#506784\",\"linecolor\":\"#506784\",\"ticks\":\"\"}},\"ternary\":{\"bgcolor\":\"rgb(17,17,17)\",\"aaxis\":{\"gridcolor\":\"#506784\",\"linecolor\":\"#506784\",\"ticks\":\"\"},\"baxis\":{\"gridcolor\":\"#506784\",\"linecolor\":\"#506784\",\"ticks\":\"\"},\"caxis\":{\"gridcolor\":\"#506784\",\"linecolor\":\"#506784\",\"ticks\":\"\"}},\"coloraxis\":{\"colorbar\":{\"outlinewidth\":0,\"ticks\":\"\"}},\"colorscale\":{\"sequential\":[[0.0,\"#0d0887\"],[0.1111111111111111,\"#46039f\"],[0.2222222222222222,\"#7201a8\"],[0.3333333333333333,\"#9c179e\"],[0.4444444444444444,\"#bd3786\"],[0.5555555555555556,\"#d8576b\"],[0.6666666666666666,\"#ed7953\"],[0.7777777777777778,\"#fb9f3a\"],[0.8888888888888888,\"#fdca26\"],[1.0,\"#f0f921\"]],\"sequentialminus\":[[0.0,\"#0d0887\"],[0.1111111111111111,\"#46039f\"],[0.2222222222222222,\"#7201a8\"],[0.3333333333333333,\"#9c179e\"],[0.4444444444444444,\"#bd3786\"],[0.5555555555555556,\"#d8576b\"],[0.6666666666666666,\"#ed7953\"],[0.7777777777777778,\"#fb9f3a\"],[0.8888888888888888,\"#fdca26\"],[1.0,\"#f0f921\"]],\"diverging\":[[0,\"#8e0152\"],[0.1,\"#c51b7d\"],[0.2,\"#de77ae\"],[0.3,\"#f1b6da\"],[0.4,\"#fde0ef\"],[0.5,\"#f7f7f7\"],[0.6,\"#e6f5d0\"],[0.7,\"#b8e186\"],[0.8,\"#7fbc41\"],[0.9,\"#4d9221\"],[1,\"#276419\"]]},\"xaxis\":{\"gridcolor\":\"#283442\",\"linecolor\":\"#506784\",\"ticks\":\"\",\"title\":{\"standoff\":15},\"zerolinecolor\":\"#283442\",\"automargin\":true,\"zerolinewidth\":2},\"yaxis\":{\"gridcolor\":\"#283442\",\"linecolor\":\"#506784\",\"ticks\":\"\",\"title\":{\"standoff\":15},\"zerolinecolor\":\"#283442\",\"automargin\":true,\"zerolinewidth\":2},\"scene\":{\"xaxis\":{\"backgroundcolor\":\"rgb(17,17,17)\",\"gridcolor\":\"#506784\",\"linecolor\":\"#506784\",\"showbackground\":true,\"ticks\":\"\",\"zerolinecolor\":\"#C8D4E3\",\"gridwidth\":2},\"yaxis\":{\"backgroundcolor\":\"rgb(17,17,17)\",\"gridcolor\":\"#506784\",\"linecolor\":\"#506784\",\"showbackground\":true,\"ticks\":\"\",\"zerolinecolor\":\"#C8D4E3\",\"gridwidth\":2},\"zaxis\":{\"backgroundcolor\":\"rgb(17,17,17)\",\"gridcolor\":\"#506784\",\"linecolor\":\"#506784\",\"showbackground\":true,\"ticks\":\"\",\"zerolinecolor\":\"#C8D4E3\",\"gridwidth\":2}},\"shapedefaults\":{\"line\":{\"color\":\"#f2f5fa\"}},\"annotationdefaults\":{\"arrowcolor\":\"#f2f5fa\",\"arrowhead\":0,\"arrowwidth\":1},\"geo\":{\"bgcolor\":\"rgb(17,17,17)\",\"landcolor\":\"rgb(17,17,17)\",\"subunitcolor\":\"#506784\",\"showland\":true,\"showlakes\":true,\"lakecolor\":\"rgb(17,17,17)\"},\"title\":{\"x\":0.05},\"updatemenudefaults\":{\"bgcolor\":\"#506784\",\"borderwidth\":0},\"sliderdefaults\":{\"bgcolor\":\"#C8D4E3\",\"borderwidth\":1,\"bordercolor\":\"rgb(17,17,17)\",\"tickwidth\":0},\"mapbox\":{\"style\":\"dark\"}}},\"xaxis\":{\"anchor\":\"y\",\"domain\":[0.0,0.49],\"title\":{\"text\":\"day \"}},\"yaxis\":{\"anchor\":\"x\",\"domain\":[0.0,1.0],\"title\":{\"text\":\"height__avg   \"}},\"xaxis2\":{\"anchor\":\"y2\",\"domain\":[0.51,1.0],\"matches\":\"x\",\"title\":{\"text\":\"day \"}},\"yaxis2\":{\"anchor\":\"x2\",\"domain\":[0.0,1.0],\"matches\":\"y\",\"showticklabels\":false},\"annotations\":[{\"font\":{},\"showarrow\":false,\"text\":\"Crop =Pr26\",\"x\":0.245,\"xanchor\":\"center\",\"xref\":\"paper\",\"y\":1.0,\"yanchor\":\"bottom\",\"yref\":\"paper\"},{\"font\":{},\"showarrow\":false,\"text\":\"Crop =Lt63\",\"x\":0.755,\"xanchor\":\"center\",\"xref\":\"paper\",\"y\":1.0,\"yanchor\":\"bottom\",\"yref\":\"paper\"}],\"legend\":{\"tracegroupgap\":0},\"margin\":{\"t\":60},\"height\":400,\"width\":800},                        {\"responsive\": true}                    ).then(function(){\n                            \nvar gd = document.getElementById('5dd13a2c-7d36-429a-b6df-26d620969df5');\nvar x = new MutationObserver(function (mutations, observer) {{\n        var display = window.getComputedStyle(gd).display;\n        if (!display || display === 'none') {{\n            console.log([gd, 'removed!']);\n            Plotly.purge(gd);\n            observer.disconnect();\n        }}\n}});\n\n// Listen for the removal of the full notebook cells\nvar notebookContainer = gd.closest('#notebook-container');\nif (notebookContainer) {{\n    x.observe(notebookContainer, {childList: true});\n}}\n\n// Listen for the clearing of the current output cell\nvar outputEl = gd.closest('.output');\nif (outputEl) {{\n    x.observe(outputEl, {childList: true});\n}}\n\n                        })                };                });            </script>        </div>"
     },
     "metadata": {},
     "output_type": "display_data"
    }
   ],
   "source": [
    "crop_1 = 'Lt63'\n",
    "crop_2 = 'Pr26'\n",
    "tray_position = 'A7'\n",
    "treatment = 'Control'\n",
    "df_temp = df.loc[(df['Crop '].isin([crop_1, crop_2])) & (df['Tray_position '] == tray_position) & (\n",
    "            df['Treatment '] == treatment)]\n",
    "\n",
    "fig = px.line(df_temp, x=\"day \", y=\"height__avg   \", facet_col=\"Crop \",\n",
    "              width=800, height=400)\n",
    "fig.show()"
   ],
   "metadata": {
    "collapsed": false,
    "pycharm": {
     "name": "#%%\n"
    }
   }
  },
  {
   "cell_type": "code",
   "execution_count": 5,
   "outputs": [
    {
     "data": {
      "text/plain": "     Crop  Tray_position   Replicate  Treatment   day  date         \\\n759   Lt63             A7           1    Control     1  03/05/2022   \n793   Lt63             A7           1        UV8     1  03/05/2022   \n829   Lt63             A7           1        UV5     1  03/05/2022   \n843   Lt63             A7           1    Control     2  04/05/2022   \n857   Lt63             A7           1        UV8     2  04/05/2022   \n...    ...            ...         ...        ...   ...         ...   \n1988  Lt63             A7           1    Control    27  30/05/2022   \n2006  Lt63             A7           1        UV8    26  30/05/2022   \n2024  Lt63             A7           1        UV5    26  30/05/2022   \n2042  Lt63             A7           1        UV8    27  31/05/2022   \n2060  Lt63             A7           1        UV5    27  31/05/2022   \n\n      batchid           tray   planteye_id   digital_biomass__avg   ...  \\\n759   29_Lt_st_18           1  scan2                  4.686645e+05  ...   \n793   30_Lt_st_18           1  scan2                  3.487480e+05  ...   \n829   31_Lt_st_18           1  scan2                  3.612088e+05  ...   \n843   29_Lt_st_18           1  scan2                  4.934573e+05  ...   \n857   30_Lt_st_18           1  scan2                  3.851310e+05  ...   \n...                ...    ...           ...                    ...  ...   \n1988  29_Lt_st_18           1  scan2                  2.891339e+07  ...   \n2006  30_Lt_st_18           1  scan2                  2.449298e+07  ...   \n2024  31_Lt_st_18           1  scan2                  2.609097e+07  ...   \n2042  30_Lt_st_18           1  scan2                  2.502750e+07  ...   \n2060  31_Lt_st_18           1  scan2                  2.645856e+07  ...   \n\n      leaf_angle__min   light_pen_depth__avg   light_pen_depth__max   \\\n759             43.832              18.292333                 19.399   \n793             43.981              17.408000                 18.185   \n829             44.540              14.066000                 14.066   \n843             44.230              14.227000                 15.996   \n857             44.746              14.482500                 16.067   \n...                ...                    ...                    ...   \n1988            34.895              47.587250                 47.929   \n2006            32.506              40.654667                 41.058   \n2024            32.848              40.801667                 40.924   \n2042            32.419              41.139000                 41.202   \n2060            32.864              40.663000                 40.663   \n\n      light_pen_depth__min   npci_aver__avg   npci_aver__max   \\\n759                  16.914         0.201700          0.20800   \n793                  16.631         0.206665          0.20714   \n829                  14.066         0.203960          0.20396   \n843                  12.458         0.189080          0.20513   \n857                  12.898         0.187705          0.20173   \n...                     ...              ...              ...   \n1988                 46.962         0.227068          0.22935   \n2006                 40.237         0.265677          0.26956   \n2024                 40.672         0.249140          0.25507   \n2042                 41.076         0.271500          0.27633   \n2060                 40.663         0.243680          0.24368   \n\n      npci_aver__min   psri_aver__avg   psri_aver__max   psri_aver__min  \n759           0.19420         0.071577          0.07429         0.06835  \n793           0.20619         0.074375          0.07471         0.07404  \n829           0.20396         0.076600          0.07660         0.07660  \n843           0.17303         0.064975          0.06876         0.06119  \n857           0.17368         0.065585          0.06821         0.06296  \n...               ...              ...              ...             ...  \n1988          0.22460         0.051443          0.05216         0.05043  \n2006          0.26220         0.067383          0.06819         0.06678  \n2024          0.24373         0.060950          0.06189         0.05989  \n2042          0.26667         0.069880          0.07027         0.06949  \n2060          0.24368         0.060410          0.06041         0.06041  \n\n[75 rows x 51 columns]",
      "text/html": "<div>\n<style scoped>\n    .dataframe tbody tr th:only-of-type {\n        vertical-align: middle;\n    }\n\n    .dataframe tbody tr th {\n        vertical-align: top;\n    }\n\n    .dataframe thead th {\n        text-align: right;\n    }\n</style>\n<table border=\"1\" class=\"dataframe\">\n  <thead>\n    <tr style=\"text-align: right;\">\n      <th></th>\n      <th>Crop</th>\n      <th>Tray_position</th>\n      <th>Replicate</th>\n      <th>Treatment</th>\n      <th>day</th>\n      <th>date</th>\n      <th>batchid</th>\n      <th>tray</th>\n      <th>planteye_id</th>\n      <th>digital_biomass__avg</th>\n      <th>...</th>\n      <th>leaf_angle__min</th>\n      <th>light_pen_depth__avg</th>\n      <th>light_pen_depth__max</th>\n      <th>light_pen_depth__min</th>\n      <th>npci_aver__avg</th>\n      <th>npci_aver__max</th>\n      <th>npci_aver__min</th>\n      <th>psri_aver__avg</th>\n      <th>psri_aver__max</th>\n      <th>psri_aver__min</th>\n    </tr>\n  </thead>\n  <tbody>\n    <tr>\n      <th>759</th>\n      <td>Lt63</td>\n      <td>A7</td>\n      <td>1</td>\n      <td>Control</td>\n      <td>1</td>\n      <td>03/05/2022</td>\n      <td>29_Lt_st_18</td>\n      <td>1</td>\n      <td>scan2</td>\n      <td>4.686645e+05</td>\n      <td>...</td>\n      <td>43.832</td>\n      <td>18.292333</td>\n      <td>19.399</td>\n      <td>16.914</td>\n      <td>0.201700</td>\n      <td>0.20800</td>\n      <td>0.19420</td>\n      <td>0.071577</td>\n      <td>0.07429</td>\n      <td>0.06835</td>\n    </tr>\n    <tr>\n      <th>793</th>\n      <td>Lt63</td>\n      <td>A7</td>\n      <td>1</td>\n      <td>UV8</td>\n      <td>1</td>\n      <td>03/05/2022</td>\n      <td>30_Lt_st_18</td>\n      <td>1</td>\n      <td>scan2</td>\n      <td>3.487480e+05</td>\n      <td>...</td>\n      <td>43.981</td>\n      <td>17.408000</td>\n      <td>18.185</td>\n      <td>16.631</td>\n      <td>0.206665</td>\n      <td>0.20714</td>\n      <td>0.20619</td>\n      <td>0.074375</td>\n      <td>0.07471</td>\n      <td>0.07404</td>\n    </tr>\n    <tr>\n      <th>829</th>\n      <td>Lt63</td>\n      <td>A7</td>\n      <td>1</td>\n      <td>UV5</td>\n      <td>1</td>\n      <td>03/05/2022</td>\n      <td>31_Lt_st_18</td>\n      <td>1</td>\n      <td>scan2</td>\n      <td>3.612088e+05</td>\n      <td>...</td>\n      <td>44.540</td>\n      <td>14.066000</td>\n      <td>14.066</td>\n      <td>14.066</td>\n      <td>0.203960</td>\n      <td>0.20396</td>\n      <td>0.20396</td>\n      <td>0.076600</td>\n      <td>0.07660</td>\n      <td>0.07660</td>\n    </tr>\n    <tr>\n      <th>843</th>\n      <td>Lt63</td>\n      <td>A7</td>\n      <td>1</td>\n      <td>Control</td>\n      <td>2</td>\n      <td>04/05/2022</td>\n      <td>29_Lt_st_18</td>\n      <td>1</td>\n      <td>scan2</td>\n      <td>4.934573e+05</td>\n      <td>...</td>\n      <td>44.230</td>\n      <td>14.227000</td>\n      <td>15.996</td>\n      <td>12.458</td>\n      <td>0.189080</td>\n      <td>0.20513</td>\n      <td>0.17303</td>\n      <td>0.064975</td>\n      <td>0.06876</td>\n      <td>0.06119</td>\n    </tr>\n    <tr>\n      <th>857</th>\n      <td>Lt63</td>\n      <td>A7</td>\n      <td>1</td>\n      <td>UV8</td>\n      <td>2</td>\n      <td>04/05/2022</td>\n      <td>30_Lt_st_18</td>\n      <td>1</td>\n      <td>scan2</td>\n      <td>3.851310e+05</td>\n      <td>...</td>\n      <td>44.746</td>\n      <td>14.482500</td>\n      <td>16.067</td>\n      <td>12.898</td>\n      <td>0.187705</td>\n      <td>0.20173</td>\n      <td>0.17368</td>\n      <td>0.065585</td>\n      <td>0.06821</td>\n      <td>0.06296</td>\n    </tr>\n    <tr>\n      <th>...</th>\n      <td>...</td>\n      <td>...</td>\n      <td>...</td>\n      <td>...</td>\n      <td>...</td>\n      <td>...</td>\n      <td>...</td>\n      <td>...</td>\n      <td>...</td>\n      <td>...</td>\n      <td>...</td>\n      <td>...</td>\n      <td>...</td>\n      <td>...</td>\n      <td>...</td>\n      <td>...</td>\n      <td>...</td>\n      <td>...</td>\n      <td>...</td>\n      <td>...</td>\n      <td>...</td>\n    </tr>\n    <tr>\n      <th>1988</th>\n      <td>Lt63</td>\n      <td>A7</td>\n      <td>1</td>\n      <td>Control</td>\n      <td>27</td>\n      <td>30/05/2022</td>\n      <td>29_Lt_st_18</td>\n      <td>1</td>\n      <td>scan2</td>\n      <td>2.891339e+07</td>\n      <td>...</td>\n      <td>34.895</td>\n      <td>47.587250</td>\n      <td>47.929</td>\n      <td>46.962</td>\n      <td>0.227068</td>\n      <td>0.22935</td>\n      <td>0.22460</td>\n      <td>0.051443</td>\n      <td>0.05216</td>\n      <td>0.05043</td>\n    </tr>\n    <tr>\n      <th>2006</th>\n      <td>Lt63</td>\n      <td>A7</td>\n      <td>1</td>\n      <td>UV8</td>\n      <td>26</td>\n      <td>30/05/2022</td>\n      <td>30_Lt_st_18</td>\n      <td>1</td>\n      <td>scan2</td>\n      <td>2.449298e+07</td>\n      <td>...</td>\n      <td>32.506</td>\n      <td>40.654667</td>\n      <td>41.058</td>\n      <td>40.237</td>\n      <td>0.265677</td>\n      <td>0.26956</td>\n      <td>0.26220</td>\n      <td>0.067383</td>\n      <td>0.06819</td>\n      <td>0.06678</td>\n    </tr>\n    <tr>\n      <th>2024</th>\n      <td>Lt63</td>\n      <td>A7</td>\n      <td>1</td>\n      <td>UV5</td>\n      <td>26</td>\n      <td>30/05/2022</td>\n      <td>31_Lt_st_18</td>\n      <td>1</td>\n      <td>scan2</td>\n      <td>2.609097e+07</td>\n      <td>...</td>\n      <td>32.848</td>\n      <td>40.801667</td>\n      <td>40.924</td>\n      <td>40.672</td>\n      <td>0.249140</td>\n      <td>0.25507</td>\n      <td>0.24373</td>\n      <td>0.060950</td>\n      <td>0.06189</td>\n      <td>0.05989</td>\n    </tr>\n    <tr>\n      <th>2042</th>\n      <td>Lt63</td>\n      <td>A7</td>\n      <td>1</td>\n      <td>UV8</td>\n      <td>27</td>\n      <td>31/05/2022</td>\n      <td>30_Lt_st_18</td>\n      <td>1</td>\n      <td>scan2</td>\n      <td>2.502750e+07</td>\n      <td>...</td>\n      <td>32.419</td>\n      <td>41.139000</td>\n      <td>41.202</td>\n      <td>41.076</td>\n      <td>0.271500</td>\n      <td>0.27633</td>\n      <td>0.26667</td>\n      <td>0.069880</td>\n      <td>0.07027</td>\n      <td>0.06949</td>\n    </tr>\n    <tr>\n      <th>2060</th>\n      <td>Lt63</td>\n      <td>A7</td>\n      <td>1</td>\n      <td>UV5</td>\n      <td>27</td>\n      <td>31/05/2022</td>\n      <td>31_Lt_st_18</td>\n      <td>1</td>\n      <td>scan2</td>\n      <td>2.645856e+07</td>\n      <td>...</td>\n      <td>32.864</td>\n      <td>40.663000</td>\n      <td>40.663</td>\n      <td>40.663</td>\n      <td>0.243680</td>\n      <td>0.24368</td>\n      <td>0.24368</td>\n      <td>0.060410</td>\n      <td>0.06041</td>\n      <td>0.06041</td>\n    </tr>\n  </tbody>\n</table>\n<p>75 rows × 51 columns</p>\n</div>"
     },
     "execution_count": 5,
     "metadata": {},
     "output_type": "execute_result"
    }
   ],
   "source": [
    "df_lt_a7 = df.loc[(df['Crop '] == 'Lt63') & (df['Tray_position '] == 'A7')]\n",
    "df_lt_a7"
   ],
   "metadata": {
    "collapsed": false,
    "pycharm": {
     "name": "#%%\n"
    }
   }
  },
  {
   "cell_type": "code",
   "execution_count": 48,
   "outputs": [
    {
     "data": {
      "application/vnd.plotly.v1+json": {
       "data": [
        {
         "hovertemplate": "Treatment =Control<br>day =%{x}<br>height__avg   =%{y}<extra></extra>",
         "legendgroup": "Control",
         "line": {
          "color": "#636efa",
          "dash": "solid"
         },
         "marker": {
          "symbol": "circle"
         },
         "mode": "lines",
         "name": "Control",
         "orientation": "v",
         "showlegend": true,
         "x": [
          1,
          2,
          3,
          4,
          5,
          6,
          7,
          8,
          9,
          10,
          11,
          14,
          15,
          16,
          17,
          18,
          19,
          20,
          21,
          22,
          23,
          24,
          25,
          26,
          27
         ],
         "xaxis": "x",
         "y": [
          23.84333333,
          19.648,
          16.1225,
          16.2622,
          18.5215,
          20.763,
          25.7625,
          29.773875,
          35.01825,
          41.56044444,
          46.79757143,
          66.14442857,
          72.8905,
          79.60866667,
          87.1746,
          94.5322,
          102.8464,
          111.02275,
          116.8624286,
          122.8858333,
          127.3573333,
          132.8358,
          135.8898,
          139.7532,
          142.3255
         ],
         "yaxis": "y",
         "type": "scatter"
        },
        {
         "hovertemplate": "Treatment =UV8<br>day =%{x}<br>height__avg   =%{y}<extra></extra>",
         "legendgroup": "UV8",
         "line": {
          "color": "#EF553B",
          "dash": "solid"
         },
         "marker": {
          "symbol": "circle"
         },
         "mode": "lines",
         "name": "UV8",
         "orientation": "v",
         "showlegend": true,
         "x": [
          1,
          2,
          3,
          4,
          5,
          6,
          7,
          8,
          9,
          10,
          13,
          14,
          15,
          16,
          17,
          18,
          19,
          20,
          21,
          22,
          23,
          24,
          25,
          26,
          27
         ],
         "xaxis": "x",
         "y": [
          22.142,
          19.479,
          16.663,
          15.172,
          17.7925,
          19.776,
          23.1428,
          27.7042,
          31.71166667,
          36.75533333,
          52.872,
          59.8265,
          65.87766667,
          72.74233333,
          79.5685,
          86.6656,
          94.046,
          100.75775,
          105.792,
          110.935,
          114.0716667,
          117.3013333,
          120.163,
          123.415,
          125.8545
         ],
         "yaxis": "y",
         "type": "scatter"
        },
        {
         "hovertemplate": "Treatment =UV5<br>day =%{x}<br>height__avg   =%{y}<extra></extra>",
         "legendgroup": "UV5",
         "line": {
          "color": "#00cc96",
          "dash": "solid"
         },
         "marker": {
          "symbol": "circle"
         },
         "mode": "lines",
         "name": "UV5",
         "orientation": "v",
         "showlegend": true,
         "x": [
          1,
          2,
          3,
          4,
          5,
          6,
          7,
          8,
          9,
          10,
          13,
          14,
          15,
          16,
          17,
          18,
          19,
          20,
          21,
          22,
          23,
          24,
          25,
          26,
          27
         ],
         "xaxis": "x",
         "y": [
          19.469,
          16.72975,
          12.599,
          13.4495,
          15.2755,
          23.50525,
          26.71325,
          31.549875,
          36.62971429,
          41.87,
          60.045,
          66.86475,
          74.543,
          80.57733333,
          89.05733333,
          94.66225,
          101.7314,
          106.815,
          112.0416,
          115.9545,
          119.7115,
          122.9525,
          125.4025,
          128.561,
          130.435
         ],
         "yaxis": "y",
         "type": "scatter"
        }
       ],
       "layout": {
        "template": {
         "data": {
          "histogram2dcontour": [
           {
            "type": "histogram2dcontour",
            "colorbar": {
             "outlinewidth": 0,
             "ticks": ""
            },
            "colorscale": [
             [
              0.0,
              "#0d0887"
             ],
             [
              0.1111111111111111,
              "#46039f"
             ],
             [
              0.2222222222222222,
              "#7201a8"
             ],
             [
              0.3333333333333333,
              "#9c179e"
             ],
             [
              0.4444444444444444,
              "#bd3786"
             ],
             [
              0.5555555555555556,
              "#d8576b"
             ],
             [
              0.6666666666666666,
              "#ed7953"
             ],
             [
              0.7777777777777778,
              "#fb9f3a"
             ],
             [
              0.8888888888888888,
              "#fdca26"
             ],
             [
              1.0,
              "#f0f921"
             ]
            ]
           }
          ],
          "choropleth": [
           {
            "type": "choropleth",
            "colorbar": {
             "outlinewidth": 0,
             "ticks": ""
            }
           }
          ],
          "histogram2d": [
           {
            "type": "histogram2d",
            "colorbar": {
             "outlinewidth": 0,
             "ticks": ""
            },
            "colorscale": [
             [
              0.0,
              "#0d0887"
             ],
             [
              0.1111111111111111,
              "#46039f"
             ],
             [
              0.2222222222222222,
              "#7201a8"
             ],
             [
              0.3333333333333333,
              "#9c179e"
             ],
             [
              0.4444444444444444,
              "#bd3786"
             ],
             [
              0.5555555555555556,
              "#d8576b"
             ],
             [
              0.6666666666666666,
              "#ed7953"
             ],
             [
              0.7777777777777778,
              "#fb9f3a"
             ],
             [
              0.8888888888888888,
              "#fdca26"
             ],
             [
              1.0,
              "#f0f921"
             ]
            ]
           }
          ],
          "heatmap": [
           {
            "type": "heatmap",
            "colorbar": {
             "outlinewidth": 0,
             "ticks": ""
            },
            "colorscale": [
             [
              0.0,
              "#0d0887"
             ],
             [
              0.1111111111111111,
              "#46039f"
             ],
             [
              0.2222222222222222,
              "#7201a8"
             ],
             [
              0.3333333333333333,
              "#9c179e"
             ],
             [
              0.4444444444444444,
              "#bd3786"
             ],
             [
              0.5555555555555556,
              "#d8576b"
             ],
             [
              0.6666666666666666,
              "#ed7953"
             ],
             [
              0.7777777777777778,
              "#fb9f3a"
             ],
             [
              0.8888888888888888,
              "#fdca26"
             ],
             [
              1.0,
              "#f0f921"
             ]
            ]
           }
          ],
          "heatmapgl": [
           {
            "type": "heatmapgl",
            "colorbar": {
             "outlinewidth": 0,
             "ticks": ""
            },
            "colorscale": [
             [
              0.0,
              "#0d0887"
             ],
             [
              0.1111111111111111,
              "#46039f"
             ],
             [
              0.2222222222222222,
              "#7201a8"
             ],
             [
              0.3333333333333333,
              "#9c179e"
             ],
             [
              0.4444444444444444,
              "#bd3786"
             ],
             [
              0.5555555555555556,
              "#d8576b"
             ],
             [
              0.6666666666666666,
              "#ed7953"
             ],
             [
              0.7777777777777778,
              "#fb9f3a"
             ],
             [
              0.8888888888888888,
              "#fdca26"
             ],
             [
              1.0,
              "#f0f921"
             ]
            ]
           }
          ],
          "contourcarpet": [
           {
            "type": "contourcarpet",
            "colorbar": {
             "outlinewidth": 0,
             "ticks": ""
            }
           }
          ],
          "contour": [
           {
            "type": "contour",
            "colorbar": {
             "outlinewidth": 0,
             "ticks": ""
            },
            "colorscale": [
             [
              0.0,
              "#0d0887"
             ],
             [
              0.1111111111111111,
              "#46039f"
             ],
             [
              0.2222222222222222,
              "#7201a8"
             ],
             [
              0.3333333333333333,
              "#9c179e"
             ],
             [
              0.4444444444444444,
              "#bd3786"
             ],
             [
              0.5555555555555556,
              "#d8576b"
             ],
             [
              0.6666666666666666,
              "#ed7953"
             ],
             [
              0.7777777777777778,
              "#fb9f3a"
             ],
             [
              0.8888888888888888,
              "#fdca26"
             ],
             [
              1.0,
              "#f0f921"
             ]
            ]
           }
          ],
          "surface": [
           {
            "type": "surface",
            "colorbar": {
             "outlinewidth": 0,
             "ticks": ""
            },
            "colorscale": [
             [
              0.0,
              "#0d0887"
             ],
             [
              0.1111111111111111,
              "#46039f"
             ],
             [
              0.2222222222222222,
              "#7201a8"
             ],
             [
              0.3333333333333333,
              "#9c179e"
             ],
             [
              0.4444444444444444,
              "#bd3786"
             ],
             [
              0.5555555555555556,
              "#d8576b"
             ],
             [
              0.6666666666666666,
              "#ed7953"
             ],
             [
              0.7777777777777778,
              "#fb9f3a"
             ],
             [
              0.8888888888888888,
              "#fdca26"
             ],
             [
              1.0,
              "#f0f921"
             ]
            ]
           }
          ],
          "mesh3d": [
           {
            "type": "mesh3d",
            "colorbar": {
             "outlinewidth": 0,
             "ticks": ""
            }
           }
          ],
          "scatter": [
           {
            "marker": {
             "line": {
              "color": "#283442"
             }
            },
            "type": "scatter"
           }
          ],
          "parcoords": [
           {
            "type": "parcoords",
            "line": {
             "colorbar": {
              "outlinewidth": 0,
              "ticks": ""
             }
            }
           }
          ],
          "scatterpolargl": [
           {
            "type": "scatterpolargl",
            "marker": {
             "colorbar": {
              "outlinewidth": 0,
              "ticks": ""
             }
            }
           }
          ],
          "bar": [
           {
            "error_x": {
             "color": "#f2f5fa"
            },
            "error_y": {
             "color": "#f2f5fa"
            },
            "marker": {
             "line": {
              "color": "rgb(17,17,17)",
              "width": 0.5
             },
             "pattern": {
              "fillmode": "overlay",
              "size": 10,
              "solidity": 0.2
             }
            },
            "type": "bar"
           }
          ],
          "scattergeo": [
           {
            "type": "scattergeo",
            "marker": {
             "colorbar": {
              "outlinewidth": 0,
              "ticks": ""
             }
            }
           }
          ],
          "scatterpolar": [
           {
            "type": "scatterpolar",
            "marker": {
             "colorbar": {
              "outlinewidth": 0,
              "ticks": ""
             }
            }
           }
          ],
          "histogram": [
           {
            "marker": {
             "pattern": {
              "fillmode": "overlay",
              "size": 10,
              "solidity": 0.2
             }
            },
            "type": "histogram"
           }
          ],
          "scattergl": [
           {
            "marker": {
             "line": {
              "color": "#283442"
             }
            },
            "type": "scattergl"
           }
          ],
          "scatter3d": [
           {
            "type": "scatter3d",
            "line": {
             "colorbar": {
              "outlinewidth": 0,
              "ticks": ""
             }
            },
            "marker": {
             "colorbar": {
              "outlinewidth": 0,
              "ticks": ""
             }
            }
           }
          ],
          "scattermapbox": [
           {
            "type": "scattermapbox",
            "marker": {
             "colorbar": {
              "outlinewidth": 0,
              "ticks": ""
             }
            }
           }
          ],
          "scatterternary": [
           {
            "type": "scatterternary",
            "marker": {
             "colorbar": {
              "outlinewidth": 0,
              "ticks": ""
             }
            }
           }
          ],
          "scattercarpet": [
           {
            "type": "scattercarpet",
            "marker": {
             "colorbar": {
              "outlinewidth": 0,
              "ticks": ""
             }
            }
           }
          ],
          "carpet": [
           {
            "aaxis": {
             "endlinecolor": "#A2B1C6",
             "gridcolor": "#506784",
             "linecolor": "#506784",
             "minorgridcolor": "#506784",
             "startlinecolor": "#A2B1C6"
            },
            "baxis": {
             "endlinecolor": "#A2B1C6",
             "gridcolor": "#506784",
             "linecolor": "#506784",
             "minorgridcolor": "#506784",
             "startlinecolor": "#A2B1C6"
            },
            "type": "carpet"
           }
          ],
          "table": [
           {
            "cells": {
             "fill": {
              "color": "#506784"
             },
             "line": {
              "color": "rgb(17,17,17)"
             }
            },
            "header": {
             "fill": {
              "color": "#2a3f5f"
             },
             "line": {
              "color": "rgb(17,17,17)"
             }
            },
            "type": "table"
           }
          ],
          "barpolar": [
           {
            "marker": {
             "line": {
              "color": "rgb(17,17,17)",
              "width": 0.5
             },
             "pattern": {
              "fillmode": "overlay",
              "size": 10,
              "solidity": 0.2
             }
            },
            "type": "barpolar"
           }
          ],
          "pie": [
           {
            "automargin": true,
            "type": "pie"
           }
          ]
         },
         "layout": {
          "autotypenumbers": "strict",
          "colorway": [
           "#636efa",
           "#EF553B",
           "#00cc96",
           "#ab63fa",
           "#FFA15A",
           "#19d3f3",
           "#FF6692",
           "#B6E880",
           "#FF97FF",
           "#FECB52"
          ],
          "font": {
           "color": "#f2f5fa"
          },
          "hovermode": "closest",
          "hoverlabel": {
           "align": "left"
          },
          "paper_bgcolor": "rgb(17,17,17)",
          "plot_bgcolor": "rgb(17,17,17)",
          "polar": {
           "bgcolor": "rgb(17,17,17)",
           "angularaxis": {
            "gridcolor": "#506784",
            "linecolor": "#506784",
            "ticks": ""
           },
           "radialaxis": {
            "gridcolor": "#506784",
            "linecolor": "#506784",
            "ticks": ""
           }
          },
          "ternary": {
           "bgcolor": "rgb(17,17,17)",
           "aaxis": {
            "gridcolor": "#506784",
            "linecolor": "#506784",
            "ticks": ""
           },
           "baxis": {
            "gridcolor": "#506784",
            "linecolor": "#506784",
            "ticks": ""
           },
           "caxis": {
            "gridcolor": "#506784",
            "linecolor": "#506784",
            "ticks": ""
           }
          },
          "coloraxis": {
           "colorbar": {
            "outlinewidth": 0,
            "ticks": ""
           }
          },
          "colorscale": {
           "sequential": [
            [
             0.0,
             "#0d0887"
            ],
            [
             0.1111111111111111,
             "#46039f"
            ],
            [
             0.2222222222222222,
             "#7201a8"
            ],
            [
             0.3333333333333333,
             "#9c179e"
            ],
            [
             0.4444444444444444,
             "#bd3786"
            ],
            [
             0.5555555555555556,
             "#d8576b"
            ],
            [
             0.6666666666666666,
             "#ed7953"
            ],
            [
             0.7777777777777778,
             "#fb9f3a"
            ],
            [
             0.8888888888888888,
             "#fdca26"
            ],
            [
             1.0,
             "#f0f921"
            ]
           ],
           "sequentialminus": [
            [
             0.0,
             "#0d0887"
            ],
            [
             0.1111111111111111,
             "#46039f"
            ],
            [
             0.2222222222222222,
             "#7201a8"
            ],
            [
             0.3333333333333333,
             "#9c179e"
            ],
            [
             0.4444444444444444,
             "#bd3786"
            ],
            [
             0.5555555555555556,
             "#d8576b"
            ],
            [
             0.6666666666666666,
             "#ed7953"
            ],
            [
             0.7777777777777778,
             "#fb9f3a"
            ],
            [
             0.8888888888888888,
             "#fdca26"
            ],
            [
             1.0,
             "#f0f921"
            ]
           ],
           "diverging": [
            [
             0,
             "#8e0152"
            ],
            [
             0.1,
             "#c51b7d"
            ],
            [
             0.2,
             "#de77ae"
            ],
            [
             0.3,
             "#f1b6da"
            ],
            [
             0.4,
             "#fde0ef"
            ],
            [
             0.5,
             "#f7f7f7"
            ],
            [
             0.6,
             "#e6f5d0"
            ],
            [
             0.7,
             "#b8e186"
            ],
            [
             0.8,
             "#7fbc41"
            ],
            [
             0.9,
             "#4d9221"
            ],
            [
             1,
             "#276419"
            ]
           ]
          },
          "xaxis": {
           "gridcolor": "#283442",
           "linecolor": "#506784",
           "ticks": "",
           "title": {
            "standoff": 15
           },
           "zerolinecolor": "#283442",
           "automargin": true,
           "zerolinewidth": 2
          },
          "yaxis": {
           "gridcolor": "#283442",
           "linecolor": "#506784",
           "ticks": "",
           "title": {
            "standoff": 15
           },
           "zerolinecolor": "#283442",
           "automargin": true,
           "zerolinewidth": 2
          },
          "scene": {
           "xaxis": {
            "backgroundcolor": "rgb(17,17,17)",
            "gridcolor": "#506784",
            "linecolor": "#506784",
            "showbackground": true,
            "ticks": "",
            "zerolinecolor": "#C8D4E3",
            "gridwidth": 2
           },
           "yaxis": {
            "backgroundcolor": "rgb(17,17,17)",
            "gridcolor": "#506784",
            "linecolor": "#506784",
            "showbackground": true,
            "ticks": "",
            "zerolinecolor": "#C8D4E3",
            "gridwidth": 2
           },
           "zaxis": {
            "backgroundcolor": "rgb(17,17,17)",
            "gridcolor": "#506784",
            "linecolor": "#506784",
            "showbackground": true,
            "ticks": "",
            "zerolinecolor": "#C8D4E3",
            "gridwidth": 2
           }
          },
          "shapedefaults": {
           "line": {
            "color": "#f2f5fa"
           }
          },
          "annotationdefaults": {
           "arrowcolor": "#f2f5fa",
           "arrowhead": 0,
           "arrowwidth": 1
          },
          "geo": {
           "bgcolor": "rgb(17,17,17)",
           "landcolor": "rgb(17,17,17)",
           "subunitcolor": "#506784",
           "showland": true,
           "showlakes": true,
           "lakecolor": "rgb(17,17,17)"
          },
          "title": {
           "x": 0.05
          },
          "updatemenudefaults": {
           "bgcolor": "#506784",
           "borderwidth": 0
          },
          "sliderdefaults": {
           "bgcolor": "#C8D4E3",
           "borderwidth": 1,
           "bordercolor": "rgb(17,17,17)",
           "tickwidth": 0
          },
          "mapbox": {
           "style": "dark"
          }
         }
        },
        "xaxis": {
         "anchor": "y",
         "domain": [
          0.0,
          1.0
         ],
         "title": {
          "text": "day "
         }
        },
        "yaxis": {
         "anchor": "x",
         "domain": [
          0.0,
          1.0
         ],
         "title": {
          "text": "height__avg   "
         }
        },
        "legend": {
         "title": {
          "text": "Treatment "
         },
         "tracegroupgap": 0
        },
        "title": {
         "text": "Crop Lt63 Daily Growth With Tray Position A7"
        }
       },
       "config": {
        "plotlyServerURL": "https://plot.ly"
       }
      },
      "text/html": "<div>                            <div id=\"4f26968e-3a50-434d-8a4f-4fe6d7ec0dd7\" class=\"plotly-graph-div\" style=\"height:525px; width:100%;\"></div>            <script type=\"text/javascript\">                require([\"plotly\"], function(Plotly) {                    window.PLOTLYENV=window.PLOTLYENV || {};                                    if (document.getElementById(\"4f26968e-3a50-434d-8a4f-4fe6d7ec0dd7\")) {                    Plotly.newPlot(                        \"4f26968e-3a50-434d-8a4f-4fe6d7ec0dd7\",                        [{\"hovertemplate\":\"Treatment =Control<br>day =%{x}<br>height__avg   =%{y}<extra></extra>\",\"legendgroup\":\"Control\",\"line\":{\"color\":\"#636efa\",\"dash\":\"solid\"},\"marker\":{\"symbol\":\"circle\"},\"mode\":\"lines\",\"name\":\"Control\",\"orientation\":\"v\",\"showlegend\":true,\"x\":[1,2,3,4,5,6,7,8,9,10,11,14,15,16,17,18,19,20,21,22,23,24,25,26,27],\"xaxis\":\"x\",\"y\":[23.84333333,19.648,16.1225,16.2622,18.5215,20.763,25.7625,29.773875,35.01825,41.56044444,46.79757143,66.14442857,72.8905,79.60866667,87.1746,94.5322,102.8464,111.02275,116.8624286,122.8858333,127.3573333,132.8358,135.8898,139.7532,142.3255],\"yaxis\":\"y\",\"type\":\"scatter\"},{\"hovertemplate\":\"Treatment =UV8<br>day =%{x}<br>height__avg   =%{y}<extra></extra>\",\"legendgroup\":\"UV8\",\"line\":{\"color\":\"#EF553B\",\"dash\":\"solid\"},\"marker\":{\"symbol\":\"circle\"},\"mode\":\"lines\",\"name\":\"UV8\",\"orientation\":\"v\",\"showlegend\":true,\"x\":[1,2,3,4,5,6,7,8,9,10,13,14,15,16,17,18,19,20,21,22,23,24,25,26,27],\"xaxis\":\"x\",\"y\":[22.142,19.479,16.663,15.172,17.7925,19.776,23.1428,27.7042,31.71166667,36.75533333,52.872,59.8265,65.87766667,72.74233333,79.5685,86.6656,94.046,100.75775,105.792,110.935,114.0716667,117.3013333,120.163,123.415,125.8545],\"yaxis\":\"y\",\"type\":\"scatter\"},{\"hovertemplate\":\"Treatment =UV5<br>day =%{x}<br>height__avg   =%{y}<extra></extra>\",\"legendgroup\":\"UV5\",\"line\":{\"color\":\"#00cc96\",\"dash\":\"solid\"},\"marker\":{\"symbol\":\"circle\"},\"mode\":\"lines\",\"name\":\"UV5\",\"orientation\":\"v\",\"showlegend\":true,\"x\":[1,2,3,4,5,6,7,8,9,10,13,14,15,16,17,18,19,20,21,22,23,24,25,26,27],\"xaxis\":\"x\",\"y\":[19.469,16.72975,12.599,13.4495,15.2755,23.50525,26.71325,31.549875,36.62971429,41.87,60.045,66.86475,74.543,80.57733333,89.05733333,94.66225,101.7314,106.815,112.0416,115.9545,119.7115,122.9525,125.4025,128.561,130.435],\"yaxis\":\"y\",\"type\":\"scatter\"}],                        {\"template\":{\"data\":{\"histogram2dcontour\":[{\"type\":\"histogram2dcontour\",\"colorbar\":{\"outlinewidth\":0,\"ticks\":\"\"},\"colorscale\":[[0.0,\"#0d0887\"],[0.1111111111111111,\"#46039f\"],[0.2222222222222222,\"#7201a8\"],[0.3333333333333333,\"#9c179e\"],[0.4444444444444444,\"#bd3786\"],[0.5555555555555556,\"#d8576b\"],[0.6666666666666666,\"#ed7953\"],[0.7777777777777778,\"#fb9f3a\"],[0.8888888888888888,\"#fdca26\"],[1.0,\"#f0f921\"]]}],\"choropleth\":[{\"type\":\"choropleth\",\"colorbar\":{\"outlinewidth\":0,\"ticks\":\"\"}}],\"histogram2d\":[{\"type\":\"histogram2d\",\"colorbar\":{\"outlinewidth\":0,\"ticks\":\"\"},\"colorscale\":[[0.0,\"#0d0887\"],[0.1111111111111111,\"#46039f\"],[0.2222222222222222,\"#7201a8\"],[0.3333333333333333,\"#9c179e\"],[0.4444444444444444,\"#bd3786\"],[0.5555555555555556,\"#d8576b\"],[0.6666666666666666,\"#ed7953\"],[0.7777777777777778,\"#fb9f3a\"],[0.8888888888888888,\"#fdca26\"],[1.0,\"#f0f921\"]]}],\"heatmap\":[{\"type\":\"heatmap\",\"colorbar\":{\"outlinewidth\":0,\"ticks\":\"\"},\"colorscale\":[[0.0,\"#0d0887\"],[0.1111111111111111,\"#46039f\"],[0.2222222222222222,\"#7201a8\"],[0.3333333333333333,\"#9c179e\"],[0.4444444444444444,\"#bd3786\"],[0.5555555555555556,\"#d8576b\"],[0.6666666666666666,\"#ed7953\"],[0.7777777777777778,\"#fb9f3a\"],[0.8888888888888888,\"#fdca26\"],[1.0,\"#f0f921\"]]}],\"heatmapgl\":[{\"type\":\"heatmapgl\",\"colorbar\":{\"outlinewidth\":0,\"ticks\":\"\"},\"colorscale\":[[0.0,\"#0d0887\"],[0.1111111111111111,\"#46039f\"],[0.2222222222222222,\"#7201a8\"],[0.3333333333333333,\"#9c179e\"],[0.4444444444444444,\"#bd3786\"],[0.5555555555555556,\"#d8576b\"],[0.6666666666666666,\"#ed7953\"],[0.7777777777777778,\"#fb9f3a\"],[0.8888888888888888,\"#fdca26\"],[1.0,\"#f0f921\"]]}],\"contourcarpet\":[{\"type\":\"contourcarpet\",\"colorbar\":{\"outlinewidth\":0,\"ticks\":\"\"}}],\"contour\":[{\"type\":\"contour\",\"colorbar\":{\"outlinewidth\":0,\"ticks\":\"\"},\"colorscale\":[[0.0,\"#0d0887\"],[0.1111111111111111,\"#46039f\"],[0.2222222222222222,\"#7201a8\"],[0.3333333333333333,\"#9c179e\"],[0.4444444444444444,\"#bd3786\"],[0.5555555555555556,\"#d8576b\"],[0.6666666666666666,\"#ed7953\"],[0.7777777777777778,\"#fb9f3a\"],[0.8888888888888888,\"#fdca26\"],[1.0,\"#f0f921\"]]}],\"surface\":[{\"type\":\"surface\",\"colorbar\":{\"outlinewidth\":0,\"ticks\":\"\"},\"colorscale\":[[0.0,\"#0d0887\"],[0.1111111111111111,\"#46039f\"],[0.2222222222222222,\"#7201a8\"],[0.3333333333333333,\"#9c179e\"],[0.4444444444444444,\"#bd3786\"],[0.5555555555555556,\"#d8576b\"],[0.6666666666666666,\"#ed7953\"],[0.7777777777777778,\"#fb9f3a\"],[0.8888888888888888,\"#fdca26\"],[1.0,\"#f0f921\"]]}],\"mesh3d\":[{\"type\":\"mesh3d\",\"colorbar\":{\"outlinewidth\":0,\"ticks\":\"\"}}],\"scatter\":[{\"marker\":{\"line\":{\"color\":\"#283442\"}},\"type\":\"scatter\"}],\"parcoords\":[{\"type\":\"parcoords\",\"line\":{\"colorbar\":{\"outlinewidth\":0,\"ticks\":\"\"}}}],\"scatterpolargl\":[{\"type\":\"scatterpolargl\",\"marker\":{\"colorbar\":{\"outlinewidth\":0,\"ticks\":\"\"}}}],\"bar\":[{\"error_x\":{\"color\":\"#f2f5fa\"},\"error_y\":{\"color\":\"#f2f5fa\"},\"marker\":{\"line\":{\"color\":\"rgb(17,17,17)\",\"width\":0.5},\"pattern\":{\"fillmode\":\"overlay\",\"size\":10,\"solidity\":0.2}},\"type\":\"bar\"}],\"scattergeo\":[{\"type\":\"scattergeo\",\"marker\":{\"colorbar\":{\"outlinewidth\":0,\"ticks\":\"\"}}}],\"scatterpolar\":[{\"type\":\"scatterpolar\",\"marker\":{\"colorbar\":{\"outlinewidth\":0,\"ticks\":\"\"}}}],\"histogram\":[{\"marker\":{\"pattern\":{\"fillmode\":\"overlay\",\"size\":10,\"solidity\":0.2}},\"type\":\"histogram\"}],\"scattergl\":[{\"marker\":{\"line\":{\"color\":\"#283442\"}},\"type\":\"scattergl\"}],\"scatter3d\":[{\"type\":\"scatter3d\",\"line\":{\"colorbar\":{\"outlinewidth\":0,\"ticks\":\"\"}},\"marker\":{\"colorbar\":{\"outlinewidth\":0,\"ticks\":\"\"}}}],\"scattermapbox\":[{\"type\":\"scattermapbox\",\"marker\":{\"colorbar\":{\"outlinewidth\":0,\"ticks\":\"\"}}}],\"scatterternary\":[{\"type\":\"scatterternary\",\"marker\":{\"colorbar\":{\"outlinewidth\":0,\"ticks\":\"\"}}}],\"scattercarpet\":[{\"type\":\"scattercarpet\",\"marker\":{\"colorbar\":{\"outlinewidth\":0,\"ticks\":\"\"}}}],\"carpet\":[{\"aaxis\":{\"endlinecolor\":\"#A2B1C6\",\"gridcolor\":\"#506784\",\"linecolor\":\"#506784\",\"minorgridcolor\":\"#506784\",\"startlinecolor\":\"#A2B1C6\"},\"baxis\":{\"endlinecolor\":\"#A2B1C6\",\"gridcolor\":\"#506784\",\"linecolor\":\"#506784\",\"minorgridcolor\":\"#506784\",\"startlinecolor\":\"#A2B1C6\"},\"type\":\"carpet\"}],\"table\":[{\"cells\":{\"fill\":{\"color\":\"#506784\"},\"line\":{\"color\":\"rgb(17,17,17)\"}},\"header\":{\"fill\":{\"color\":\"#2a3f5f\"},\"line\":{\"color\":\"rgb(17,17,17)\"}},\"type\":\"table\"}],\"barpolar\":[{\"marker\":{\"line\":{\"color\":\"rgb(17,17,17)\",\"width\":0.5},\"pattern\":{\"fillmode\":\"overlay\",\"size\":10,\"solidity\":0.2}},\"type\":\"barpolar\"}],\"pie\":[{\"automargin\":true,\"type\":\"pie\"}]},\"layout\":{\"autotypenumbers\":\"strict\",\"colorway\":[\"#636efa\",\"#EF553B\",\"#00cc96\",\"#ab63fa\",\"#FFA15A\",\"#19d3f3\",\"#FF6692\",\"#B6E880\",\"#FF97FF\",\"#FECB52\"],\"font\":{\"color\":\"#f2f5fa\"},\"hovermode\":\"closest\",\"hoverlabel\":{\"align\":\"left\"},\"paper_bgcolor\":\"rgb(17,17,17)\",\"plot_bgcolor\":\"rgb(17,17,17)\",\"polar\":{\"bgcolor\":\"rgb(17,17,17)\",\"angularaxis\":{\"gridcolor\":\"#506784\",\"linecolor\":\"#506784\",\"ticks\":\"\"},\"radialaxis\":{\"gridcolor\":\"#506784\",\"linecolor\":\"#506784\",\"ticks\":\"\"}},\"ternary\":{\"bgcolor\":\"rgb(17,17,17)\",\"aaxis\":{\"gridcolor\":\"#506784\",\"linecolor\":\"#506784\",\"ticks\":\"\"},\"baxis\":{\"gridcolor\":\"#506784\",\"linecolor\":\"#506784\",\"ticks\":\"\"},\"caxis\":{\"gridcolor\":\"#506784\",\"linecolor\":\"#506784\",\"ticks\":\"\"}},\"coloraxis\":{\"colorbar\":{\"outlinewidth\":0,\"ticks\":\"\"}},\"colorscale\":{\"sequential\":[[0.0,\"#0d0887\"],[0.1111111111111111,\"#46039f\"],[0.2222222222222222,\"#7201a8\"],[0.3333333333333333,\"#9c179e\"],[0.4444444444444444,\"#bd3786\"],[0.5555555555555556,\"#d8576b\"],[0.6666666666666666,\"#ed7953\"],[0.7777777777777778,\"#fb9f3a\"],[0.8888888888888888,\"#fdca26\"],[1.0,\"#f0f921\"]],\"sequentialminus\":[[0.0,\"#0d0887\"],[0.1111111111111111,\"#46039f\"],[0.2222222222222222,\"#7201a8\"],[0.3333333333333333,\"#9c179e\"],[0.4444444444444444,\"#bd3786\"],[0.5555555555555556,\"#d8576b\"],[0.6666666666666666,\"#ed7953\"],[0.7777777777777778,\"#fb9f3a\"],[0.8888888888888888,\"#fdca26\"],[1.0,\"#f0f921\"]],\"diverging\":[[0,\"#8e0152\"],[0.1,\"#c51b7d\"],[0.2,\"#de77ae\"],[0.3,\"#f1b6da\"],[0.4,\"#fde0ef\"],[0.5,\"#f7f7f7\"],[0.6,\"#e6f5d0\"],[0.7,\"#b8e186\"],[0.8,\"#7fbc41\"],[0.9,\"#4d9221\"],[1,\"#276419\"]]},\"xaxis\":{\"gridcolor\":\"#283442\",\"linecolor\":\"#506784\",\"ticks\":\"\",\"title\":{\"standoff\":15},\"zerolinecolor\":\"#283442\",\"automargin\":true,\"zerolinewidth\":2},\"yaxis\":{\"gridcolor\":\"#283442\",\"linecolor\":\"#506784\",\"ticks\":\"\",\"title\":{\"standoff\":15},\"zerolinecolor\":\"#283442\",\"automargin\":true,\"zerolinewidth\":2},\"scene\":{\"xaxis\":{\"backgroundcolor\":\"rgb(17,17,17)\",\"gridcolor\":\"#506784\",\"linecolor\":\"#506784\",\"showbackground\":true,\"ticks\":\"\",\"zerolinecolor\":\"#C8D4E3\",\"gridwidth\":2},\"yaxis\":{\"backgroundcolor\":\"rgb(17,17,17)\",\"gridcolor\":\"#506784\",\"linecolor\":\"#506784\",\"showbackground\":true,\"ticks\":\"\",\"zerolinecolor\":\"#C8D4E3\",\"gridwidth\":2},\"zaxis\":{\"backgroundcolor\":\"rgb(17,17,17)\",\"gridcolor\":\"#506784\",\"linecolor\":\"#506784\",\"showbackground\":true,\"ticks\":\"\",\"zerolinecolor\":\"#C8D4E3\",\"gridwidth\":2}},\"shapedefaults\":{\"line\":{\"color\":\"#f2f5fa\"}},\"annotationdefaults\":{\"arrowcolor\":\"#f2f5fa\",\"arrowhead\":0,\"arrowwidth\":1},\"geo\":{\"bgcolor\":\"rgb(17,17,17)\",\"landcolor\":\"rgb(17,17,17)\",\"subunitcolor\":\"#506784\",\"showland\":true,\"showlakes\":true,\"lakecolor\":\"rgb(17,17,17)\"},\"title\":{\"x\":0.05},\"updatemenudefaults\":{\"bgcolor\":\"#506784\",\"borderwidth\":0},\"sliderdefaults\":{\"bgcolor\":\"#C8D4E3\",\"borderwidth\":1,\"bordercolor\":\"rgb(17,17,17)\",\"tickwidth\":0},\"mapbox\":{\"style\":\"dark\"}}},\"xaxis\":{\"anchor\":\"y\",\"domain\":[0.0,1.0],\"title\":{\"text\":\"day \"}},\"yaxis\":{\"anchor\":\"x\",\"domain\":[0.0,1.0],\"title\":{\"text\":\"height__avg   \"}},\"legend\":{\"title\":{\"text\":\"Treatment \"},\"tracegroupgap\":0},\"title\":{\"text\":\"Crop Lt63 Daily Growth With Tray Position A7\"}},                        {\"responsive\": true}                    ).then(function(){\n                            \nvar gd = document.getElementById('4f26968e-3a50-434d-8a4f-4fe6d7ec0dd7');\nvar x = new MutationObserver(function (mutations, observer) {{\n        var display = window.getComputedStyle(gd).display;\n        if (!display || display === 'none') {{\n            console.log([gd, 'removed!']);\n            Plotly.purge(gd);\n            observer.disconnect();\n        }}\n}});\n\n// Listen for the removal of the full notebook cells\nvar notebookContainer = gd.closest('#notebook-container');\nif (notebookContainer) {{\n    x.observe(notebookContainer, {childList: true});\n}}\n\n// Listen for the clearing of the current output cell\nvar outputEl = gd.closest('.output');\nif (outputEl) {{\n    x.observe(outputEl, {childList: true});\n}}\n\n                        })                };                });            </script>        </div>"
     },
     "metadata": {},
     "output_type": "display_data"
    }
   ],
   "source": [
    "px.line(\n",
    "    data_frame=df_lt_a7,\n",
    "    x='day ',\n",
    "    y='height__avg   ',\n",
    "    color='Treatment ',\n",
    "    title='Crop Lt63 Daily Growth With Tray Position A7'\n",
    ")"
   ],
   "metadata": {
    "collapsed": false,
    "pycharm": {
     "name": "#%%\n"
    }
   }
  },
  {
   "cell_type": "code",
   "execution_count": 7,
   "outputs": [
    {
     "data": {
      "text/plain": "               Variety Infarm Code   Treatment   Rep  Vitamin C mg.100g FW-1  \\\n0        Italian Basil         BS49     Control    1               29.080989   \n1        Italian Basil         BS49     Control    2               28.453814   \n2        Italian Basil         BS49     Control    3               31.081367   \n3           Peppermint         Mn24     Control    1               59.010533   \n4           Peppermint         Mn24     Control    2               41.269974   \n5           Peppermint         Mn24     Control    3               37.488011   \n6        Flat Parsley          Pr26     Control    1              227.113296   \n7        Flat Parsley          Pr26     Control    2              254.220685   \n8        Flat Parsley          Pr26     Control    3              220.218313   \n9   Mountain Coriander         Cr31     Control    1               82.601461   \n10  Mountain Coriander         Cr31     Control    2              105.264882   \n11  Mountain Coriander         Cr31     Control    3               88.716184   \n12      Bordeaux Basil         Bs79     Control    1               75.305005   \n13      Bordeaux Basil         Bs79     Control    2              154.426973   \n14      Bordeaux Basil         Bs79     Control    3              160.743992   \n15       Italian Basil         BS49  UV-C 5 min    1               29.524196   \n16       Italian Basil         BS49  UV-C 5 min    2               29.870218   \n17       Italian Basil         BS49  UV-C 5 min    3               33.462079   \n18          Peppermint         Mn24  UV-C 5 min    1               32.288760   \n19          Peppermint         Mn24  UV-C 5 min    2               39.210762   \n20          Peppermint         Mn24  UV-C 5 min    3               42.572850   \n21       Flat Parsley          Pr26  UV-C 5 min    1              218.910400   \n22       Flat Parsley          Pr26  UV-C 5 min    2              247.484646   \n23       Flat Parsley          Pr26  UV-C 5 min    3              269.584559   \n24  Mountain Coriander         Cr31  UV-C 5 min    1               46.791231   \n25  Mountain Coriander         Cr31  UV-C 5 min    2               53.095004   \n26  Mountain Coriander         Cr31  UV-C 5 min    3               67.396008   \n27      Bordeaux Basil         Bs79  UV-C 5 min    1              175.899892   \n28      Bordeaux Basil         Bs79  UV-C 5 min    2              178.313104   \n29      Bordeaux Basil         Bs79  UV-C 5 min    3              244.184944   \n30       Italian Basil         BS49  UV-C 8 min    1               39.139611   \n31       Italian Basil         BS49  UV-C 8 min    2               27.269080   \n32       Italian Basil         BS49  UV-C 8 min    3               27.116188   \n33          Peppermint         Mn24  UV-C 8 min    1               73.778892   \n34          Peppermint         Mn24  UV-C 8 min    2               48.275771   \n35          Peppermint         Mn24  UV-C 8 min    3               64.453801   \n36       Flat Parsley          Pr26  UV-C 8 min    1              115.711058   \n37       Flat Parsley          Pr26  UV-C 8 min    2              292.388867   \n38       Flat Parsley          Pr26  UV-C 8 min    3               72.260465   \n39  Mountain Coriander         Cr31  UV-C 8 min    1              249.010530   \n40  Mountain Coriander         Cr31  UV-C 8 min    2              131.434362   \n41  Mountain Coriander         Cr31  UV-C 8 min    3              139.227498   \n42      Bordeaux Basil         Bs79  UV-C 8 min    1              227.772189   \n43      Bordeaux Basil         Bs79  UV-C 8 min    2              216.384168   \n44      Bordeaux Basil         Bs79  UV-C 8 min    3              213.257866   \n\n    Total Phenolic Content [mg GAE/g FW]  Chl a ug.g FW  Chl b ug.g.FW  \\\n0                               2.835537     404.909630     330.242037   \n1                               3.364797     270.439608     127.616863   \n2                               3.710786     238.226667     109.669804   \n3                               5.049132     705.080566     534.000377   \n4                               4.134823     389.334630     181.990926   \n5                               3.932539     469.432407     220.665370   \n6                               1.796887     392.380000     264.557778   \n7                               2.136657     376.002500     195.017500   \n8                               2.050667     393.935091     196.467091   \n9                               2.551562     504.204074     325.705926   \n10                              2.368022     463.681765     219.941765   \n11                              2.335071     477.890000     227.711176   \n12                              4.525953     304.390000     230.973019   \n13                              4.270976     299.857407     132.278148   \n14                              3.876316     275.247455     120.218546   \n15                              3.760212     242.598824     109.956471   \n16                              3.679684     271.060370     135.148518   \n17                              3.243996     268.482593     118.834630   \n18                              4.406601     424.636458     199.784792   \n19                              4.747908     411.460566     188.817925   \n20                              4.646264     312.929800     152.423000   \n21                              2.236217     425.255490     203.026863   \n22                              2.046748     432.810392     206.161372   \n23                              2.649699     394.885962     191.549423   \n24                              2.089626     458.978163     217.381020   \n25                              2.219703     531.833269     242.649038   \n26                              2.017052     420.536545     196.431455   \n27                              3.640664     299.599821     131.352857   \n28                              3.758803     275.637255     123.039216   \n29                              4.022728     310.142157     138.917255   \n30                              3.038245     302.068627     140.427255   \n31                              3.427849     320.610980     146.801373   \n32                              4.105608     380.274423     181.061346   \n33                              4.760043     442.896275     210.901373   \n34                              3.930623     374.346607     177.823750   \n35                              4.190941     450.417222     213.300556   \n36                              2.858106     482.050392     232.422549   \n37                              3.277035     401.477451     199.548431   \n38                              3.452985     467.478235     222.350000   \n39                              2.557135     556.446250     268.424107   \n40                              4.085064     612.247115     282.276731   \n41                              3.611364     670.246327     316.885918   \n42                              4.855642     334.174074     152.089259   \n43                              3.982346     301.788846     138.795192   \n44                              4.230507     291.624630     139.385926   \n\n    Chla+b ug.g.FW  Carotenoids mg.g.FW  \\\n0       735.151667            32.553525   \n1       398.056471            23.420143   \n2       347.896471            21.049801   \n3      1239.080943            47.408425   \n4       571.325556            30.260433   \n5       690.097778            35.111506   \n6       656.937778            30.660700   \n7       571.020000            34.467573   \n8       590.402182            34.664577   \n9       829.910000            38.412348   \n10      683.623529            38.296604   \n11      705.601176            38.936421   \n12      535.363019            22.167733   \n13      432.135556            25.466928   \n14      395.466000            22.985160   \n15      352.555294            20.964107   \n16      406.208889            23.012504   \n17      387.317222            22.042972   \n18      624.421250            31.608792   \n19      600.278491            28.654738   \n20      465.352800            23.357534   \n21      628.282353            35.465312   \n22      638.971765            36.157391   \n23      586.435385            33.284594   \n24      676.359184            37.087400   \n25      774.482308            41.537101   \n26      616.968000            34.075779   \n27      430.952679            24.145697   \n28      398.676471            22.629531   \n29      449.059412            24.369668   \n30      442.495882            23.793876   \n31      467.412353            25.721409   \n32      561.335769            30.467238   \n33      653.797647            32.766151   \n34      552.170357            27.394647   \n35      663.717778            31.812665   \n36      714.472941            39.515638   \n37      601.025882            34.486114   \n38      689.828235            38.014762   \n39      824.870357            43.340509   \n40      894.523846            46.694898   \n41      987.132245            52.369244   \n42      486.263333            26.568249   \n43      440.584039            23.942166   \n44      431.010556            23.588083   \n\n    TEACDPPH (mg TROLOX equivalents.g FW-1)  \n0                                 22.704830  \n1                                 24.405121  \n2                                 24.247517  \n3                                 20.299373  \n4                                 21.154323  \n5                                 21.469195  \n6                                 25.528185  \n7                                 26.902417  \n8                                 25.406908  \n9                                 24.400370  \n10                                26.344869  \n11                                26.514597  \n12                                22.959206  \n13                                21.560794  \n14                                21.528515  \n15                                24.017172  \n16                                22.545486  \n17                                22.665710  \n18                                25.537567  \n19                                21.909272  \n20                                23.242377  \n21                                26.696448  \n22                                26.944979  \n23                                26.284123  \n24                                26.921749  \n25                                25.166436  \n26                                23.467712  \n27                                21.282089  \n28                                23.780765  \n29                                23.453433  \n30                                24.550603  \n31                                25.502291  \n32                                21.694474  \n33                                22.792706  \n34                                20.575467  \n35                                21.377596  \n36                                26.211512  \n37                                26.314561  \n38                                26.363054  \n39                                23.247383  \n40                                25.178327  \n41                                26.757711  \n42                                22.213439  \n43                                23.204540  \n44                                22.568386  ",
      "text/html": "<div>\n<style scoped>\n    .dataframe tbody tr th:only-of-type {\n        vertical-align: middle;\n    }\n\n    .dataframe tbody tr th {\n        vertical-align: top;\n    }\n\n    .dataframe thead th {\n        text-align: right;\n    }\n</style>\n<table border=\"1\" class=\"dataframe\">\n  <thead>\n    <tr style=\"text-align: right;\">\n      <th></th>\n      <th>Variety</th>\n      <th>Infarm Code</th>\n      <th>Treatment</th>\n      <th>Rep</th>\n      <th>Vitamin C mg.100g FW-1</th>\n      <th>Total Phenolic Content [mg GAE/g FW]</th>\n      <th>Chl a ug.g FW</th>\n      <th>Chl b ug.g.FW</th>\n      <th>Chla+b ug.g.FW</th>\n      <th>Carotenoids mg.g.FW</th>\n      <th>TEACDPPH (mg TROLOX equivalents.g FW-1)</th>\n    </tr>\n  </thead>\n  <tbody>\n    <tr>\n      <th>0</th>\n      <td>Italian Basil</td>\n      <td>BS49</td>\n      <td>Control</td>\n      <td>1</td>\n      <td>29.080989</td>\n      <td>2.835537</td>\n      <td>404.909630</td>\n      <td>330.242037</td>\n      <td>735.151667</td>\n      <td>32.553525</td>\n      <td>22.704830</td>\n    </tr>\n    <tr>\n      <th>1</th>\n      <td>Italian Basil</td>\n      <td>BS49</td>\n      <td>Control</td>\n      <td>2</td>\n      <td>28.453814</td>\n      <td>3.364797</td>\n      <td>270.439608</td>\n      <td>127.616863</td>\n      <td>398.056471</td>\n      <td>23.420143</td>\n      <td>24.405121</td>\n    </tr>\n    <tr>\n      <th>2</th>\n      <td>Italian Basil</td>\n      <td>BS49</td>\n      <td>Control</td>\n      <td>3</td>\n      <td>31.081367</td>\n      <td>3.710786</td>\n      <td>238.226667</td>\n      <td>109.669804</td>\n      <td>347.896471</td>\n      <td>21.049801</td>\n      <td>24.247517</td>\n    </tr>\n    <tr>\n      <th>3</th>\n      <td>Peppermint</td>\n      <td>Mn24</td>\n      <td>Control</td>\n      <td>1</td>\n      <td>59.010533</td>\n      <td>5.049132</td>\n      <td>705.080566</td>\n      <td>534.000377</td>\n      <td>1239.080943</td>\n      <td>47.408425</td>\n      <td>20.299373</td>\n    </tr>\n    <tr>\n      <th>4</th>\n      <td>Peppermint</td>\n      <td>Mn24</td>\n      <td>Control</td>\n      <td>2</td>\n      <td>41.269974</td>\n      <td>4.134823</td>\n      <td>389.334630</td>\n      <td>181.990926</td>\n      <td>571.325556</td>\n      <td>30.260433</td>\n      <td>21.154323</td>\n    </tr>\n    <tr>\n      <th>5</th>\n      <td>Peppermint</td>\n      <td>Mn24</td>\n      <td>Control</td>\n      <td>3</td>\n      <td>37.488011</td>\n      <td>3.932539</td>\n      <td>469.432407</td>\n      <td>220.665370</td>\n      <td>690.097778</td>\n      <td>35.111506</td>\n      <td>21.469195</td>\n    </tr>\n    <tr>\n      <th>6</th>\n      <td>Flat Parsley</td>\n      <td>Pr26</td>\n      <td>Control</td>\n      <td>1</td>\n      <td>227.113296</td>\n      <td>1.796887</td>\n      <td>392.380000</td>\n      <td>264.557778</td>\n      <td>656.937778</td>\n      <td>30.660700</td>\n      <td>25.528185</td>\n    </tr>\n    <tr>\n      <th>7</th>\n      <td>Flat Parsley</td>\n      <td>Pr26</td>\n      <td>Control</td>\n      <td>2</td>\n      <td>254.220685</td>\n      <td>2.136657</td>\n      <td>376.002500</td>\n      <td>195.017500</td>\n      <td>571.020000</td>\n      <td>34.467573</td>\n      <td>26.902417</td>\n    </tr>\n    <tr>\n      <th>8</th>\n      <td>Flat Parsley</td>\n      <td>Pr26</td>\n      <td>Control</td>\n      <td>3</td>\n      <td>220.218313</td>\n      <td>2.050667</td>\n      <td>393.935091</td>\n      <td>196.467091</td>\n      <td>590.402182</td>\n      <td>34.664577</td>\n      <td>25.406908</td>\n    </tr>\n    <tr>\n      <th>9</th>\n      <td>Mountain Coriander</td>\n      <td>Cr31</td>\n      <td>Control</td>\n      <td>1</td>\n      <td>82.601461</td>\n      <td>2.551562</td>\n      <td>504.204074</td>\n      <td>325.705926</td>\n      <td>829.910000</td>\n      <td>38.412348</td>\n      <td>24.400370</td>\n    </tr>\n    <tr>\n      <th>10</th>\n      <td>Mountain Coriander</td>\n      <td>Cr31</td>\n      <td>Control</td>\n      <td>2</td>\n      <td>105.264882</td>\n      <td>2.368022</td>\n      <td>463.681765</td>\n      <td>219.941765</td>\n      <td>683.623529</td>\n      <td>38.296604</td>\n      <td>26.344869</td>\n    </tr>\n    <tr>\n      <th>11</th>\n      <td>Mountain Coriander</td>\n      <td>Cr31</td>\n      <td>Control</td>\n      <td>3</td>\n      <td>88.716184</td>\n      <td>2.335071</td>\n      <td>477.890000</td>\n      <td>227.711176</td>\n      <td>705.601176</td>\n      <td>38.936421</td>\n      <td>26.514597</td>\n    </tr>\n    <tr>\n      <th>12</th>\n      <td>Bordeaux Basil</td>\n      <td>Bs79</td>\n      <td>Control</td>\n      <td>1</td>\n      <td>75.305005</td>\n      <td>4.525953</td>\n      <td>304.390000</td>\n      <td>230.973019</td>\n      <td>535.363019</td>\n      <td>22.167733</td>\n      <td>22.959206</td>\n    </tr>\n    <tr>\n      <th>13</th>\n      <td>Bordeaux Basil</td>\n      <td>Bs79</td>\n      <td>Control</td>\n      <td>2</td>\n      <td>154.426973</td>\n      <td>4.270976</td>\n      <td>299.857407</td>\n      <td>132.278148</td>\n      <td>432.135556</td>\n      <td>25.466928</td>\n      <td>21.560794</td>\n    </tr>\n    <tr>\n      <th>14</th>\n      <td>Bordeaux Basil</td>\n      <td>Bs79</td>\n      <td>Control</td>\n      <td>3</td>\n      <td>160.743992</td>\n      <td>3.876316</td>\n      <td>275.247455</td>\n      <td>120.218546</td>\n      <td>395.466000</td>\n      <td>22.985160</td>\n      <td>21.528515</td>\n    </tr>\n    <tr>\n      <th>15</th>\n      <td>Italian Basil</td>\n      <td>BS49</td>\n      <td>UV-C 5 min</td>\n      <td>1</td>\n      <td>29.524196</td>\n      <td>3.760212</td>\n      <td>242.598824</td>\n      <td>109.956471</td>\n      <td>352.555294</td>\n      <td>20.964107</td>\n      <td>24.017172</td>\n    </tr>\n    <tr>\n      <th>16</th>\n      <td>Italian Basil</td>\n      <td>BS49</td>\n      <td>UV-C 5 min</td>\n      <td>2</td>\n      <td>29.870218</td>\n      <td>3.679684</td>\n      <td>271.060370</td>\n      <td>135.148518</td>\n      <td>406.208889</td>\n      <td>23.012504</td>\n      <td>22.545486</td>\n    </tr>\n    <tr>\n      <th>17</th>\n      <td>Italian Basil</td>\n      <td>BS49</td>\n      <td>UV-C 5 min</td>\n      <td>3</td>\n      <td>33.462079</td>\n      <td>3.243996</td>\n      <td>268.482593</td>\n      <td>118.834630</td>\n      <td>387.317222</td>\n      <td>22.042972</td>\n      <td>22.665710</td>\n    </tr>\n    <tr>\n      <th>18</th>\n      <td>Peppermint</td>\n      <td>Mn24</td>\n      <td>UV-C 5 min</td>\n      <td>1</td>\n      <td>32.288760</td>\n      <td>4.406601</td>\n      <td>424.636458</td>\n      <td>199.784792</td>\n      <td>624.421250</td>\n      <td>31.608792</td>\n      <td>25.537567</td>\n    </tr>\n    <tr>\n      <th>19</th>\n      <td>Peppermint</td>\n      <td>Mn24</td>\n      <td>UV-C 5 min</td>\n      <td>2</td>\n      <td>39.210762</td>\n      <td>4.747908</td>\n      <td>411.460566</td>\n      <td>188.817925</td>\n      <td>600.278491</td>\n      <td>28.654738</td>\n      <td>21.909272</td>\n    </tr>\n    <tr>\n      <th>20</th>\n      <td>Peppermint</td>\n      <td>Mn24</td>\n      <td>UV-C 5 min</td>\n      <td>3</td>\n      <td>42.572850</td>\n      <td>4.646264</td>\n      <td>312.929800</td>\n      <td>152.423000</td>\n      <td>465.352800</td>\n      <td>23.357534</td>\n      <td>23.242377</td>\n    </tr>\n    <tr>\n      <th>21</th>\n      <td>Flat Parsley</td>\n      <td>Pr26</td>\n      <td>UV-C 5 min</td>\n      <td>1</td>\n      <td>218.910400</td>\n      <td>2.236217</td>\n      <td>425.255490</td>\n      <td>203.026863</td>\n      <td>628.282353</td>\n      <td>35.465312</td>\n      <td>26.696448</td>\n    </tr>\n    <tr>\n      <th>22</th>\n      <td>Flat Parsley</td>\n      <td>Pr26</td>\n      <td>UV-C 5 min</td>\n      <td>2</td>\n      <td>247.484646</td>\n      <td>2.046748</td>\n      <td>432.810392</td>\n      <td>206.161372</td>\n      <td>638.971765</td>\n      <td>36.157391</td>\n      <td>26.944979</td>\n    </tr>\n    <tr>\n      <th>23</th>\n      <td>Flat Parsley</td>\n      <td>Pr26</td>\n      <td>UV-C 5 min</td>\n      <td>3</td>\n      <td>269.584559</td>\n      <td>2.649699</td>\n      <td>394.885962</td>\n      <td>191.549423</td>\n      <td>586.435385</td>\n      <td>33.284594</td>\n      <td>26.284123</td>\n    </tr>\n    <tr>\n      <th>24</th>\n      <td>Mountain Coriander</td>\n      <td>Cr31</td>\n      <td>UV-C 5 min</td>\n      <td>1</td>\n      <td>46.791231</td>\n      <td>2.089626</td>\n      <td>458.978163</td>\n      <td>217.381020</td>\n      <td>676.359184</td>\n      <td>37.087400</td>\n      <td>26.921749</td>\n    </tr>\n    <tr>\n      <th>25</th>\n      <td>Mountain Coriander</td>\n      <td>Cr31</td>\n      <td>UV-C 5 min</td>\n      <td>2</td>\n      <td>53.095004</td>\n      <td>2.219703</td>\n      <td>531.833269</td>\n      <td>242.649038</td>\n      <td>774.482308</td>\n      <td>41.537101</td>\n      <td>25.166436</td>\n    </tr>\n    <tr>\n      <th>26</th>\n      <td>Mountain Coriander</td>\n      <td>Cr31</td>\n      <td>UV-C 5 min</td>\n      <td>3</td>\n      <td>67.396008</td>\n      <td>2.017052</td>\n      <td>420.536545</td>\n      <td>196.431455</td>\n      <td>616.968000</td>\n      <td>34.075779</td>\n      <td>23.467712</td>\n    </tr>\n    <tr>\n      <th>27</th>\n      <td>Bordeaux Basil</td>\n      <td>Bs79</td>\n      <td>UV-C 5 min</td>\n      <td>1</td>\n      <td>175.899892</td>\n      <td>3.640664</td>\n      <td>299.599821</td>\n      <td>131.352857</td>\n      <td>430.952679</td>\n      <td>24.145697</td>\n      <td>21.282089</td>\n    </tr>\n    <tr>\n      <th>28</th>\n      <td>Bordeaux Basil</td>\n      <td>Bs79</td>\n      <td>UV-C 5 min</td>\n      <td>2</td>\n      <td>178.313104</td>\n      <td>3.758803</td>\n      <td>275.637255</td>\n      <td>123.039216</td>\n      <td>398.676471</td>\n      <td>22.629531</td>\n      <td>23.780765</td>\n    </tr>\n    <tr>\n      <th>29</th>\n      <td>Bordeaux Basil</td>\n      <td>Bs79</td>\n      <td>UV-C 5 min</td>\n      <td>3</td>\n      <td>244.184944</td>\n      <td>4.022728</td>\n      <td>310.142157</td>\n      <td>138.917255</td>\n      <td>449.059412</td>\n      <td>24.369668</td>\n      <td>23.453433</td>\n    </tr>\n    <tr>\n      <th>30</th>\n      <td>Italian Basil</td>\n      <td>BS49</td>\n      <td>UV-C 8 min</td>\n      <td>1</td>\n      <td>39.139611</td>\n      <td>3.038245</td>\n      <td>302.068627</td>\n      <td>140.427255</td>\n      <td>442.495882</td>\n      <td>23.793876</td>\n      <td>24.550603</td>\n    </tr>\n    <tr>\n      <th>31</th>\n      <td>Italian Basil</td>\n      <td>BS49</td>\n      <td>UV-C 8 min</td>\n      <td>2</td>\n      <td>27.269080</td>\n      <td>3.427849</td>\n      <td>320.610980</td>\n      <td>146.801373</td>\n      <td>467.412353</td>\n      <td>25.721409</td>\n      <td>25.502291</td>\n    </tr>\n    <tr>\n      <th>32</th>\n      <td>Italian Basil</td>\n      <td>BS49</td>\n      <td>UV-C 8 min</td>\n      <td>3</td>\n      <td>27.116188</td>\n      <td>4.105608</td>\n      <td>380.274423</td>\n      <td>181.061346</td>\n      <td>561.335769</td>\n      <td>30.467238</td>\n      <td>21.694474</td>\n    </tr>\n    <tr>\n      <th>33</th>\n      <td>Peppermint</td>\n      <td>Mn24</td>\n      <td>UV-C 8 min</td>\n      <td>1</td>\n      <td>73.778892</td>\n      <td>4.760043</td>\n      <td>442.896275</td>\n      <td>210.901373</td>\n      <td>653.797647</td>\n      <td>32.766151</td>\n      <td>22.792706</td>\n    </tr>\n    <tr>\n      <th>34</th>\n      <td>Peppermint</td>\n      <td>Mn24</td>\n      <td>UV-C 8 min</td>\n      <td>2</td>\n      <td>48.275771</td>\n      <td>3.930623</td>\n      <td>374.346607</td>\n      <td>177.823750</td>\n      <td>552.170357</td>\n      <td>27.394647</td>\n      <td>20.575467</td>\n    </tr>\n    <tr>\n      <th>35</th>\n      <td>Peppermint</td>\n      <td>Mn24</td>\n      <td>UV-C 8 min</td>\n      <td>3</td>\n      <td>64.453801</td>\n      <td>4.190941</td>\n      <td>450.417222</td>\n      <td>213.300556</td>\n      <td>663.717778</td>\n      <td>31.812665</td>\n      <td>21.377596</td>\n    </tr>\n    <tr>\n      <th>36</th>\n      <td>Flat Parsley</td>\n      <td>Pr26</td>\n      <td>UV-C 8 min</td>\n      <td>1</td>\n      <td>115.711058</td>\n      <td>2.858106</td>\n      <td>482.050392</td>\n      <td>232.422549</td>\n      <td>714.472941</td>\n      <td>39.515638</td>\n      <td>26.211512</td>\n    </tr>\n    <tr>\n      <th>37</th>\n      <td>Flat Parsley</td>\n      <td>Pr26</td>\n      <td>UV-C 8 min</td>\n      <td>2</td>\n      <td>292.388867</td>\n      <td>3.277035</td>\n      <td>401.477451</td>\n      <td>199.548431</td>\n      <td>601.025882</td>\n      <td>34.486114</td>\n      <td>26.314561</td>\n    </tr>\n    <tr>\n      <th>38</th>\n      <td>Flat Parsley</td>\n      <td>Pr26</td>\n      <td>UV-C 8 min</td>\n      <td>3</td>\n      <td>72.260465</td>\n      <td>3.452985</td>\n      <td>467.478235</td>\n      <td>222.350000</td>\n      <td>689.828235</td>\n      <td>38.014762</td>\n      <td>26.363054</td>\n    </tr>\n    <tr>\n      <th>39</th>\n      <td>Mountain Coriander</td>\n      <td>Cr31</td>\n      <td>UV-C 8 min</td>\n      <td>1</td>\n      <td>249.010530</td>\n      <td>2.557135</td>\n      <td>556.446250</td>\n      <td>268.424107</td>\n      <td>824.870357</td>\n      <td>43.340509</td>\n      <td>23.247383</td>\n    </tr>\n    <tr>\n      <th>40</th>\n      <td>Mountain Coriander</td>\n      <td>Cr31</td>\n      <td>UV-C 8 min</td>\n      <td>2</td>\n      <td>131.434362</td>\n      <td>4.085064</td>\n      <td>612.247115</td>\n      <td>282.276731</td>\n      <td>894.523846</td>\n      <td>46.694898</td>\n      <td>25.178327</td>\n    </tr>\n    <tr>\n      <th>41</th>\n      <td>Mountain Coriander</td>\n      <td>Cr31</td>\n      <td>UV-C 8 min</td>\n      <td>3</td>\n      <td>139.227498</td>\n      <td>3.611364</td>\n      <td>670.246327</td>\n      <td>316.885918</td>\n      <td>987.132245</td>\n      <td>52.369244</td>\n      <td>26.757711</td>\n    </tr>\n    <tr>\n      <th>42</th>\n      <td>Bordeaux Basil</td>\n      <td>Bs79</td>\n      <td>UV-C 8 min</td>\n      <td>1</td>\n      <td>227.772189</td>\n      <td>4.855642</td>\n      <td>334.174074</td>\n      <td>152.089259</td>\n      <td>486.263333</td>\n      <td>26.568249</td>\n      <td>22.213439</td>\n    </tr>\n    <tr>\n      <th>43</th>\n      <td>Bordeaux Basil</td>\n      <td>Bs79</td>\n      <td>UV-C 8 min</td>\n      <td>2</td>\n      <td>216.384168</td>\n      <td>3.982346</td>\n      <td>301.788846</td>\n      <td>138.795192</td>\n      <td>440.584039</td>\n      <td>23.942166</td>\n      <td>23.204540</td>\n    </tr>\n    <tr>\n      <th>44</th>\n      <td>Bordeaux Basil</td>\n      <td>Bs79</td>\n      <td>UV-C 8 min</td>\n      <td>3</td>\n      <td>213.257866</td>\n      <td>4.230507</td>\n      <td>291.624630</td>\n      <td>139.385926</td>\n      <td>431.010556</td>\n      <td>23.588083</td>\n      <td>22.568386</td>\n    </tr>\n  </tbody>\n</table>\n</div>"
     },
     "execution_count": 7,
     "metadata": {},
     "output_type": "execute_result"
    }
   ],
   "source": [
    "df2= pd.read_csv('/Users/mohammedsohilshaikh/Desktop/Venturit/Photosynq/Data/Metabolites.csv')\n",
    "df2"
   ],
   "metadata": {
    "collapsed": false,
    "pycharm": {
     "name": "#%%\n"
    }
   }
  },
  {
   "cell_type": "code",
   "execution_count": 8,
   "outputs": [
    {
     "data": {
      "text/plain": "Index(['Variety', 'Infarm Code ', 'Treatment ', 'Rep',\n       'Vitamin C mg.100g FW-1', 'Total Phenolic Content [mg GAE/g FW]',\n       'Chl a ug.g FW', 'Chl b ug.g.FW', 'Chla+b ug.g.FW',\n       'Carotenoids mg.g.FW', 'TEACDPPH (mg TROLOX equivalents.g FW-1)'],\n      dtype='object')"
     },
     "execution_count": 8,
     "metadata": {},
     "output_type": "execute_result"
    }
   ],
   "source": [
    "df2.columns"
   ],
   "metadata": {
    "collapsed": false,
    "pycharm": {
     "name": "#%%\n"
    }
   }
  },
  {
   "cell_type": "code",
   "execution_count": 11,
   "outputs": [
    {
     "data": {
      "text/plain": "array(['Italian Basil', 'Peppermint', 'Flat Parsley',\n       'Mountain Coriander', 'Bordeaux Basil'], dtype=object)"
     },
     "execution_count": 11,
     "metadata": {},
     "output_type": "execute_result"
    }
   ],
   "source": [
    "df2.Variety.str.strip().unique()"
   ],
   "metadata": {
    "collapsed": false,
    "pycharm": {
     "name": "#%%\n"
    }
   }
  },
  {
   "cell_type": "code",
   "execution_count": 6,
   "outputs": [
    {
     "data": {
      "text/plain": "['Bs49', 'Bs79', 'Cr31', 'Lt43', 'Lt49', 'Lt63', 'Lt98', 'Mn24', 'Pr26']"
     },
     "execution_count": 6,
     "metadata": {},
     "output_type": "execute_result"
    }
   ],
   "source": [
    "crops = [crop.strip() for crop in list(sorted(df['Crop '].unique()))]\n",
    "crops"
   ],
   "metadata": {
    "collapsed": false,
    "pycharm": {
     "name": "#%%\n"
    }
   }
  },
  {
   "cell_type": "code",
   "execution_count": null,
   "outputs": [],
   "source": [],
   "metadata": {
    "collapsed": false,
    "pycharm": {
     "name": "#%%\n"
    }
   }
  },
  {
   "cell_type": "code",
   "execution_count": 7,
   "outputs": [
    {
     "data": {
      "text/plain": "array(['Bs79', 'Pr26', 'Cr31', 'Bs49', 'Mn24', 'Lt43', 'Lt49', 'Lt98',\n       'Lt63'], dtype=object)"
     },
     "execution_count": 7,
     "metadata": {},
     "output_type": "execute_result"
    }
   ],
   "source": [
    "df.Crop.unique()"
   ],
   "metadata": {
    "collapsed": false,
    "pycharm": {
     "name": "#%%\n"
    }
   }
  },
  {
   "cell_type": "code",
   "execution_count": 23,
   "outputs": [
    {
     "data": {
      "text/plain": "['A1',\n 'A10',\n 'A2',\n 'A3',\n 'A4',\n 'A5',\n 'A6',\n 'A7',\n 'A8',\n 'A9',\n 'B1',\n 'B2',\n 'B3',\n 'B4',\n 'B6',\n 'B7',\n 'B8',\n 'B9']"
     },
     "execution_count": 23,
     "metadata": {},
     "output_type": "execute_result"
    }
   ],
   "source": [
    "tray_positions = [pos.strip() for pos in list(sorted(df['Tray_position '].unique()))]\n",
    "tray_positions"
   ],
   "metadata": {
    "collapsed": false,
    "pycharm": {
     "name": "#%%\n"
    }
   }
  },
  {
   "cell_type": "code",
   "execution_count": 24,
   "outputs": [
    {
     "data": {
      "text/plain": "['Control', 'UV5', 'UV8']"
     },
     "execution_count": 24,
     "metadata": {},
     "output_type": "execute_result"
    }
   ],
   "source": [
    "Treatment = [treatment.strip() for treatment in list(sorted(df['Treatment '].unique()))]\n",
    "Treatment"
   ],
   "metadata": {
    "collapsed": false,
    "pycharm": {
     "name": "#%%\n"
    }
   }
  },
  {
   "cell_type": "code",
   "execution_count": 31,
   "outputs": [
    {
     "data": {
      "text/plain": "Empty DataFrame\nColumns: [Crop , Tray_position , Replicate , Treatment , day , date       , batchid         , tray , planteye_id , digital_biomass__avg , digital_biomass__max , digital_biomass__min , height__avg   , height__max , height__min , height_max__avg , height_max__max , height_max__min , leaf_area_index__avg , leaf_area_index__max , leaf_area_index__min , proj_area__avg , proj_area__max , proj_area__min , ndvi_aver__avg , ndvi_aver__max , ndvi_aver__min , greenness_aver__avg , greenness_aver__max , greenness_aver__min , hue_aver__avg , hue_aver__max , hue_aver__min , area_3d__avg   , area_3d__max , area_3d__min , leaf_inclination__avg , leaf_inclination__max , leaf_inclination__min , leaf_angle__avg , leaf_angle__max , leaf_angle__min , light_pen_depth__avg , light_pen_depth__max , light_pen_depth__min , npci_aver__avg , npci_aver__max , npci_aver__min , psri_aver__avg , psri_aver__max , psri_aver__min]\nIndex: []\n\n[0 rows x 51 columns]",
      "text/html": "<div>\n<style scoped>\n    .dataframe tbody tr th:only-of-type {\n        vertical-align: middle;\n    }\n\n    .dataframe tbody tr th {\n        vertical-align: top;\n    }\n\n    .dataframe thead th {\n        text-align: right;\n    }\n</style>\n<table border=\"1\" class=\"dataframe\">\n  <thead>\n    <tr style=\"text-align: right;\">\n      <th></th>\n      <th>Crop</th>\n      <th>Tray_position</th>\n      <th>Replicate</th>\n      <th>Treatment</th>\n      <th>day</th>\n      <th>date</th>\n      <th>batchid</th>\n      <th>tray</th>\n      <th>planteye_id</th>\n      <th>digital_biomass__avg</th>\n      <th>...</th>\n      <th>leaf_angle__min</th>\n      <th>light_pen_depth__avg</th>\n      <th>light_pen_depth__max</th>\n      <th>light_pen_depth__min</th>\n      <th>npci_aver__avg</th>\n      <th>npci_aver__max</th>\n      <th>npci_aver__min</th>\n      <th>psri_aver__avg</th>\n      <th>psri_aver__max</th>\n      <th>psri_aver__min</th>\n    </tr>\n  </thead>\n  <tbody>\n  </tbody>\n</table>\n<p>0 rows × 51 columns</p>\n</div>"
     },
     "execution_count": 31,
     "metadata": {},
     "output_type": "execute_result"
    }
   ],
   "source": [
    "df.loc[(df['Crop '] == 'BS79') & (df['Tray_position '] == 'A2') & (df['Treatment '] == 'Control')]"
   ],
   "metadata": {
    "collapsed": false,
    "pycharm": {
     "name": "#%%\n"
    }
   }
  },
  {
   "cell_type": "code",
   "execution_count": 42,
   "outputs": [
    {
     "data": {
      "text/plain": "     Crop   Tray_position   Replicate   Treatment   day  date         \\\n0    Bs79   A6                       1  Control        1  19/04/2022   \n3    Bs79   A9                       2  Control        1  19/04/2022   \n4    Bs79   A10                      3  Control        1  19/04/2022   \n16   Bs79   B3                       4  Control        1  19/04/2022   \n19   Bs79   A7                       1  UV8            1  19/04/2022   \n..     ...             ...         ...         ...   ...         ...   \n783  Bs79   B3                       4  UV8           15  03/05/2022   \n802  Bs79   A7                       1  UV5           15  03/05/2022   \n804  Bs79   A9                       2  UV5           15  03/05/2022   \n805  Bs79   A10                      3  UV5           15  03/05/2022   \n817  Bs79   B3                       4  UV5           15  03/05/2022   \n\n     batchid           tray   planteye_id   digital_biomass__avg   ...  \\\n0    29_HG_mix_st_16       0  scan1                  1.286627e+06  ...   \n3    29_HG_mix_st_16       3  scan1                  1.008395e+06  ...   \n4    29_HG_mix_st_16       4  scan1                  6.243872e+05  ...   \n16   29_HG_mix_st_16       7  scan2                  8.618526e+05  ...   \n19   30_HG_mix_st_16       1  scan1                  1.316174e+06  ...   \n..                ...    ...           ...                    ...  ...   \n783  30_HG_mix_st_16       7  scan2                  1.907051e+07  ...   \n802  31_HG_mix_st_16       1  scan1                  2.256618e+07  ...   \n804  31_HG_mix_st_16       3  scan1                  2.244283e+07  ...   \n805  31_HG_mix_st_16       4  scan1                  1.524269e+07  ...   \n817  31_HG_mix_st_16       7  scan2                  1.974823e+07  ...   \n\n     light_pen_depth__min   npci_aver__avg   npci_aver__max   npci_aver__min   \\\n0                   15.285          0.14090          0.14090          0.14090   \n3                   16.944          0.15485          0.15485          0.15485   \n4                   11.556          0.16030          0.16030          0.16030   \n16                  14.477          0.17764          0.17764          0.17764   \n19                  15.799          0.14843          0.14843          0.14843   \n..                     ...              ...              ...              ...   \n783                 37.721          0.14624          0.15023          0.14225   \n802                 57.215          0.05274          0.05274          0.05274   \n804                 46.983          0.06535          0.06535          0.06535   \n805                 24.975          0.05934          0.05934          0.05934   \n817                 41.492          0.14554          0.14554          0.14554   \n\n     psri_aver__avg   psri_aver__max   psri_aver__min  Crop  Tray_position  \\\n0            0.02525          0.02525         0.02525  Bs79             A6   \n3            0.02876          0.02876         0.02876  Bs79             A9   \n4            0.03414          0.03414         0.03414  Bs79            A10   \n16           0.04114          0.04114         0.04114  Bs79             B3   \n19           0.03207          0.03207         0.03207  Bs79             A7   \n..               ...              ...             ...   ...            ...   \n783          0.01450          0.01497         0.01403  Bs79             B3   \n802          0.00408          0.00408         0.00408  Bs79             A7   \n804          0.00422          0.00422         0.00422  Bs79             A9   \n805          0.00380          0.00380         0.00380  Bs79            A10   \n817          0.01456          0.01456         0.01456  Bs79             B3   \n\n     Treatment  \n0      Control  \n3      Control  \n4      Control  \n16     Control  \n19         UV8  \n..         ...  \n783        UV8  \n802        UV5  \n804        UV5  \n805        UV5  \n817        UV5  \n\n[176 rows x 54 columns]",
      "text/html": "<div>\n<style scoped>\n    .dataframe tbody tr th:only-of-type {\n        vertical-align: middle;\n    }\n\n    .dataframe tbody tr th {\n        vertical-align: top;\n    }\n\n    .dataframe thead th {\n        text-align: right;\n    }\n</style>\n<table border=\"1\" class=\"dataframe\">\n  <thead>\n    <tr style=\"text-align: right;\">\n      <th></th>\n      <th>Crop</th>\n      <th>Tray_position</th>\n      <th>Replicate</th>\n      <th>Treatment</th>\n      <th>day</th>\n      <th>date</th>\n      <th>batchid</th>\n      <th>tray</th>\n      <th>planteye_id</th>\n      <th>digital_biomass__avg</th>\n      <th>...</th>\n      <th>light_pen_depth__min</th>\n      <th>npci_aver__avg</th>\n      <th>npci_aver__max</th>\n      <th>npci_aver__min</th>\n      <th>psri_aver__avg</th>\n      <th>psri_aver__max</th>\n      <th>psri_aver__min</th>\n      <th>Crop</th>\n      <th>Tray_position</th>\n      <th>Treatment</th>\n    </tr>\n  </thead>\n  <tbody>\n    <tr>\n      <th>0</th>\n      <td>Bs79</td>\n      <td>A6</td>\n      <td>1</td>\n      <td>Control</td>\n      <td>1</td>\n      <td>19/04/2022</td>\n      <td>29_HG_mix_st_16</td>\n      <td>0</td>\n      <td>scan1</td>\n      <td>1.286627e+06</td>\n      <td>...</td>\n      <td>15.285</td>\n      <td>0.14090</td>\n      <td>0.14090</td>\n      <td>0.14090</td>\n      <td>0.02525</td>\n      <td>0.02525</td>\n      <td>0.02525</td>\n      <td>Bs79</td>\n      <td>A6</td>\n      <td>Control</td>\n    </tr>\n    <tr>\n      <th>3</th>\n      <td>Bs79</td>\n      <td>A9</td>\n      <td>2</td>\n      <td>Control</td>\n      <td>1</td>\n      <td>19/04/2022</td>\n      <td>29_HG_mix_st_16</td>\n      <td>3</td>\n      <td>scan1</td>\n      <td>1.008395e+06</td>\n      <td>...</td>\n      <td>16.944</td>\n      <td>0.15485</td>\n      <td>0.15485</td>\n      <td>0.15485</td>\n      <td>0.02876</td>\n      <td>0.02876</td>\n      <td>0.02876</td>\n      <td>Bs79</td>\n      <td>A9</td>\n      <td>Control</td>\n    </tr>\n    <tr>\n      <th>4</th>\n      <td>Bs79</td>\n      <td>A10</td>\n      <td>3</td>\n      <td>Control</td>\n      <td>1</td>\n      <td>19/04/2022</td>\n      <td>29_HG_mix_st_16</td>\n      <td>4</td>\n      <td>scan1</td>\n      <td>6.243872e+05</td>\n      <td>...</td>\n      <td>11.556</td>\n      <td>0.16030</td>\n      <td>0.16030</td>\n      <td>0.16030</td>\n      <td>0.03414</td>\n      <td>0.03414</td>\n      <td>0.03414</td>\n      <td>Bs79</td>\n      <td>A10</td>\n      <td>Control</td>\n    </tr>\n    <tr>\n      <th>16</th>\n      <td>Bs79</td>\n      <td>B3</td>\n      <td>4</td>\n      <td>Control</td>\n      <td>1</td>\n      <td>19/04/2022</td>\n      <td>29_HG_mix_st_16</td>\n      <td>7</td>\n      <td>scan2</td>\n      <td>8.618526e+05</td>\n      <td>...</td>\n      <td>14.477</td>\n      <td>0.17764</td>\n      <td>0.17764</td>\n      <td>0.17764</td>\n      <td>0.04114</td>\n      <td>0.04114</td>\n      <td>0.04114</td>\n      <td>Bs79</td>\n      <td>B3</td>\n      <td>Control</td>\n    </tr>\n    <tr>\n      <th>19</th>\n      <td>Bs79</td>\n      <td>A7</td>\n      <td>1</td>\n      <td>UV8</td>\n      <td>1</td>\n      <td>19/04/2022</td>\n      <td>30_HG_mix_st_16</td>\n      <td>1</td>\n      <td>scan1</td>\n      <td>1.316174e+06</td>\n      <td>...</td>\n      <td>15.799</td>\n      <td>0.14843</td>\n      <td>0.14843</td>\n      <td>0.14843</td>\n      <td>0.03207</td>\n      <td>0.03207</td>\n      <td>0.03207</td>\n      <td>Bs79</td>\n      <td>A7</td>\n      <td>UV8</td>\n    </tr>\n    <tr>\n      <th>...</th>\n      <td>...</td>\n      <td>...</td>\n      <td>...</td>\n      <td>...</td>\n      <td>...</td>\n      <td>...</td>\n      <td>...</td>\n      <td>...</td>\n      <td>...</td>\n      <td>...</td>\n      <td>...</td>\n      <td>...</td>\n      <td>...</td>\n      <td>...</td>\n      <td>...</td>\n      <td>...</td>\n      <td>...</td>\n      <td>...</td>\n      <td>...</td>\n      <td>...</td>\n      <td>...</td>\n    </tr>\n    <tr>\n      <th>783</th>\n      <td>Bs79</td>\n      <td>B3</td>\n      <td>4</td>\n      <td>UV8</td>\n      <td>15</td>\n      <td>03/05/2022</td>\n      <td>30_HG_mix_st_16</td>\n      <td>7</td>\n      <td>scan2</td>\n      <td>1.907051e+07</td>\n      <td>...</td>\n      <td>37.721</td>\n      <td>0.14624</td>\n      <td>0.15023</td>\n      <td>0.14225</td>\n      <td>0.01450</td>\n      <td>0.01497</td>\n      <td>0.01403</td>\n      <td>Bs79</td>\n      <td>B3</td>\n      <td>UV8</td>\n    </tr>\n    <tr>\n      <th>802</th>\n      <td>Bs79</td>\n      <td>A7</td>\n      <td>1</td>\n      <td>UV5</td>\n      <td>15</td>\n      <td>03/05/2022</td>\n      <td>31_HG_mix_st_16</td>\n      <td>1</td>\n      <td>scan1</td>\n      <td>2.256618e+07</td>\n      <td>...</td>\n      <td>57.215</td>\n      <td>0.05274</td>\n      <td>0.05274</td>\n      <td>0.05274</td>\n      <td>0.00408</td>\n      <td>0.00408</td>\n      <td>0.00408</td>\n      <td>Bs79</td>\n      <td>A7</td>\n      <td>UV5</td>\n    </tr>\n    <tr>\n      <th>804</th>\n      <td>Bs79</td>\n      <td>A9</td>\n      <td>2</td>\n      <td>UV5</td>\n      <td>15</td>\n      <td>03/05/2022</td>\n      <td>31_HG_mix_st_16</td>\n      <td>3</td>\n      <td>scan1</td>\n      <td>2.244283e+07</td>\n      <td>...</td>\n      <td>46.983</td>\n      <td>0.06535</td>\n      <td>0.06535</td>\n      <td>0.06535</td>\n      <td>0.00422</td>\n      <td>0.00422</td>\n      <td>0.00422</td>\n      <td>Bs79</td>\n      <td>A9</td>\n      <td>UV5</td>\n    </tr>\n    <tr>\n      <th>805</th>\n      <td>Bs79</td>\n      <td>A10</td>\n      <td>3</td>\n      <td>UV5</td>\n      <td>15</td>\n      <td>03/05/2022</td>\n      <td>31_HG_mix_st_16</td>\n      <td>4</td>\n      <td>scan1</td>\n      <td>1.524269e+07</td>\n      <td>...</td>\n      <td>24.975</td>\n      <td>0.05934</td>\n      <td>0.05934</td>\n      <td>0.05934</td>\n      <td>0.00380</td>\n      <td>0.00380</td>\n      <td>0.00380</td>\n      <td>Bs79</td>\n      <td>A10</td>\n      <td>UV5</td>\n    </tr>\n    <tr>\n      <th>817</th>\n      <td>Bs79</td>\n      <td>B3</td>\n      <td>4</td>\n      <td>UV5</td>\n      <td>15</td>\n      <td>03/05/2022</td>\n      <td>31_HG_mix_st_16</td>\n      <td>7</td>\n      <td>scan2</td>\n      <td>1.974823e+07</td>\n      <td>...</td>\n      <td>41.492</td>\n      <td>0.14554</td>\n      <td>0.14554</td>\n      <td>0.14554</td>\n      <td>0.01456</td>\n      <td>0.01456</td>\n      <td>0.01456</td>\n      <td>Bs79</td>\n      <td>B3</td>\n      <td>UV5</td>\n    </tr>\n  </tbody>\n</table>\n<p>176 rows × 54 columns</p>\n</div>"
     },
     "execution_count": 42,
     "metadata": {},
     "output_type": "execute_result"
    }
   ],
   "source": [
    "df[df['Crop'] == 'Bs79']"
   ],
   "metadata": {
    "collapsed": false,
    "pycharm": {
     "name": "#%%\n"
    }
   }
  },
  {
   "cell_type": "code",
   "execution_count": null,
   "outputs": [],
   "source": [
    "df.Crop.value_counts()"
   ],
   "metadata": {
    "collapsed": false,
    "pycharm": {
     "name": "#%%\n"
    }
   }
  },
  {
   "cell_type": "code",
   "execution_count": null,
   "outputs": [],
   "source": [
    "crop_treatment_dict = dict()\n",
    "for crop in df.Crop.unique():\n",
    "    df_temp = df.loc[df.Crop == crop]\n",
    "    crop_treatment_dict[crop] = df_temp['Treatment'].value_counts()\n",
    "\n",
    "crop_treatment_dict"
   ],
   "metadata": {
    "collapsed": false,
    "pycharm": {
     "name": "#%%\n"
    }
   }
  },
  {
   "cell_type": "code",
   "execution_count": null,
   "outputs": [],
   "source": [
    "crop_treatment_dict.keys()"
   ],
   "metadata": {
    "collapsed": false,
    "pycharm": {
     "name": "#%%\n"
    }
   }
  },
  {
   "cell_type": "code",
   "execution_count": null,
   "outputs": [],
   "source": [
    "df.loc[(df.Crop == 'Bs79') & (df.day == 1)]"
   ],
   "metadata": {
    "collapsed": false,
    "pycharm": {
     "name": "#%%\n"
    }
   }
  },
  {
   "cell_type": "code",
   "execution_count": null,
   "outputs": [],
   "source": [
    "print(df.loc[(df.Crop == 'Bs79') & (df.Treatment == 'Control')].day.unique())\n",
    "print(df.loc[(df.Crop == 'Bs79') & (df.Treatment == 'UV5')].day.unique())\n",
    "print(df.loc[(df.Crop == 'Bs79') & (df.Treatment == 'UV8')].day.unique())"
   ],
   "metadata": {
    "collapsed": false,
    "pycharm": {
     "name": "#%%\n"
    }
   }
  },
  {
   "cell_type": "markdown",
   "source": [
    "# Plots\n",
    "1. Crop vs. Treatment Bar chart\n",
    "2. Crop vs daily growth. "
   ],
   "metadata": {
    "collapsed": false,
    "pycharm": {
     "name": "#%% md\n"
    }
   }
  }
 ],
 "metadata": {
  "kernelspec": {
   "display_name": "Python 3.9.10",
   "language": "python",
   "name": "python3"
  },
  "language_info": {
   "codemirror_mode": {
    "name": "ipython",
    "version": 3
   },
   "file_extension": ".py",
   "mimetype": "text/x-python",
   "name": "python",
   "nbconvert_exporter": "python",
   "pygments_lexer": "ipython3",
   "version": "3.9.10"
  },
  "vscode": {
   "interpreter": {
    "hash": "5a9503ad338a2dcffbc331831268f9111b042e4d8b1ef2e224a581928e9724c9"
   }
  }
 },
 "nbformat": 4,
 "nbformat_minor": 0
}